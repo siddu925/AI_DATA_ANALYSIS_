{
 "cells": [
  {
   "cell_type": "markdown",
   "metadata": {},
   "source": [
    "### Detect Data Drift in ML Models\n",
    "**Objective**: Monitor and detect changes in data distributions that impact ML model performance.\n",
    "\n",
    "**Task**: Categorical Feature Drift\n",
    "\n",
    "**Steps**:\n",
    "1. Load the baseline distribution for a categorical feature (e.g., gender ) from your training dataset.\n",
    "2. Load the same feature from your current production data.\n",
    "3. Use chi-squared tests to compare the distributions of the categorical feature.\n",
    "4. Step 4: If significant drift is detected, investigate the cause and update the model as needed."
   ]
  },
  {
   "cell_type": "code",
   "execution_count": 1,
   "metadata": {},
   "outputs": [
    {
     "name": "stdout",
     "output_type": "stream",
     "text": [
      "Baseline Distribution:\n",
      "Male      4\n",
      "Female    2\n",
      "Other     1\n",
      "Name: count, dtype: int64\n",
      "\n",
      "Current Distribution:\n",
      "Female     3\n",
      "Male       2\n",
      "Unknown    1\n",
      "Name: count, dtype: int64\n",
      "\n",
      "Chi-Squared Statistic: 2.8063\n",
      "P-value: 0.4225\n",
      "Degrees of Freedom: 3\n",
      "\n",
      "Expected Frequencies:\n",
      "            Female      Male     Other   Unknown\n",
      "Baseline  3.230769  2.692308  0.538462  0.538462\n",
      "Current   2.769231  2.307692  0.461538  0.461538\n",
      "\n",
      "No significant categorical feature drift detected (p-value >= alpha).\n"
     ]
    }
   ],
   "source": [
    "import pandas as pd\n",
    "from scipy.stats import chi2_contingency\n",
    "\n",
    "# Step 1: Load the baseline distribution for a categorical feature\n",
    "baseline_data = pd.Series(['Male', 'Female', 'Male', 'Other', 'Female', 'Male', 'Male'])\n",
    "baseline_counts = baseline_data.value_counts()\n",
    "print(\"Baseline Distribution:\")\n",
    "print(baseline_counts)\n",
    "\n",
    "# Step 2: Load the same feature from your current production data\n",
    "current_data = pd.Series(['Male', 'Female', 'Female', 'Male', 'Unknown', 'Female'])\n",
    "current_counts = current_data.value_counts()\n",
    "print(\"\\nCurrent Distribution:\")\n",
    "print(current_counts)\n",
    "\n",
    "# Step 3: Use chi-squared tests to compare the distributions\n",
    "# Create a contingency table\n",
    "observed = pd.DataFrame([baseline_counts, current_counts]).fillna(0).values\n",
    "\n",
    "# Perform the Chi-Squared test\n",
    "chi2, p_value, dof, expected = chi2_contingency(observed)\n",
    "\n",
    "print(f\"\\nChi-Squared Statistic: {chi2:.4f}\")\n",
    "print(f\"P-value: {p_value:.4f}\")\n",
    "print(f\"Degrees of Freedom: {dof}\")\n",
    "print(\"\\nExpected Frequencies:\")\n",
    "print(pd.DataFrame(expected, index=['Baseline', 'Current'], columns=baseline_counts.index.union(current_counts.index)).fillna(0))\n",
    "\n",
    "# Step 4: If significant drift is detected, investigate the cause and update the model as needed.\n",
    "alpha = 0.05  # Significance level\n",
    "\n",
    "if p_value < alpha:\n",
    "    print(\"\\nSignificant categorical feature drift detected (p-value < alpha).\")\n",
    "    print(\"Investigate the cause and consider updating the model.\")\n",
    "else:\n",
    "    print(\"\\nNo significant categorical feature drift detected (p-value >= alpha).\")"
   ]
  }
 ],
 "metadata": {
  "kernelspec": {
   "display_name": ".venv",
   "language": "python",
   "name": "python3"
  },
  "language_info": {
   "codemirror_mode": {
    "name": "ipython",
    "version": 3
   },
   "file_extension": ".py",
   "mimetype": "text/x-python",
   "name": "python",
   "nbconvert_exporter": "python",
   "pygments_lexer": "ipython3",
   "version": "3.10.12"
  }
 },
 "nbformat": 4,
 "nbformat_minor": 2
}
