{
 "cells": [
  {
   "cell_type": "markdown",
   "metadata": {},
   "source": [
    "## Automated Data Quality Monitoring\n",
    "**Objective**: Use Great Expectations to perform data profiling and write validation rules.\n",
    "\n",
    "1. Data Profiling with Great Expectations\n",
    "### Profile a CSV dataset containing customer information to inspect distribution patterns of 'Age' and 'Income' columns.\n",
    "- Load the dataset using Great Expectations and create a data context.\n",
    "- Generate a data asset to inspect the summary statistics.\n",
    "- View the generated expectation suite to analyze data distributions."
   ]
  },
  {
   "cell_type": "code",
   "execution_count": 1,
   "metadata": {},
   "outputs": [
    {
     "ename": "AttributeError",
     "evalue": "module 'great_expectations' has no attribute 'DataContext'",
     "output_type": "error",
     "traceback": [
      "\u001b[0;31m---------------------------------------------------------------------------\u001b[0m",
      "\u001b[0;31mAttributeError\u001b[0m                            Traceback (most recent call last)",
      "Cell \u001b[0;32mIn[1], line 8\u001b[0m\n\u001b[1;32m      4\u001b[0m \u001b[38;5;66;03m# 1. Load the dataset using Great Expectations and create a Data Context\u001b[39;00m\n\u001b[1;32m      5\u001b[0m \u001b[38;5;66;03m# Assuming your CSV file is in the same directory as this script, or provide the full path.\u001b[39;00m\n\u001b[1;32m      6\u001b[0m csv_file_path \u001b[38;5;241m=\u001b[39m \u001b[38;5;124m\"\u001b[39m\u001b[38;5;124mcustomer_data.csv\u001b[39m\u001b[38;5;124m\"\u001b[39m  \u001b[38;5;66;03m# Replace with your actual CSV file name\u001b[39;00m\n\u001b[0;32m----> 8\u001b[0m context \u001b[38;5;241m=\u001b[39m \u001b[43mgx\u001b[49m\u001b[38;5;241;43m.\u001b[39;49m\u001b[43mDataContext\u001b[49m()\n\u001b[1;32m     10\u001b[0m \u001b[38;5;66;03m# Create a Pandas DataFrame Data Source\u001b[39;00m\n\u001b[1;32m     11\u001b[0m datasource_name \u001b[38;5;241m=\u001b[39m \u001b[38;5;124m\"\u001b[39m\u001b[38;5;124mmy_pandas_datasource\u001b[39m\u001b[38;5;124m\"\u001b[39m\n",
      "\u001b[0;31mAttributeError\u001b[0m: module 'great_expectations' has no attribute 'DataContext'"
     ]
    }
   ],
   "source": [
    "import great_expectations as gx\n",
    "import pandas as pd\n",
    "\n",
    "# 1. Load the dataset using Great Expectations and create a Data Context\n",
    "# Assuming your CSV file is in the same directory as this script, or provide the full path.\n",
    "csv_file_path = \"customer_data.csv\"  # Replace with your actual CSV file name\n",
    "\n",
    "context = gx.DataContext()\n",
    "\n",
    "# Create a Pandas DataFrame Data Source\n",
    "datasource_name = \"my_pandas_datasource\"\n",
    "datasource = context.sources.add_pandas(name=datasource_name)\n",
    "\n",
    "# Create a Data Asset for your CSV file\n",
    "data_asset_name = \"customer_data_asset\"\n",
    "data_asset = datasource.add_csv_asset(name=data_asset_name, filepath=csv_file_path)\n",
    "\n",
    "batch_request = data_asset.build_batch_request()\n",
    "\n",
    "# 2. Generate a Data Asset to inspect the summary statistics.\n",
    "# Great Expectations will automatically infer a default Expectation Suite if you don't specify one.\n",
    "validator = context.get_validator(\n",
    "    batch_request=batch_request,\n",
    "    expectation_suite_name=\"profiling_expectation_suite\",  # You can name your suite\n",
    ")\n",
    "\n",
    "print(f\"Created validator for data asset: {validator.active_batch.data_asset.name}\")\n",
    "print(f\"Using Expectation Suite: {validator.expectation_suite.name}\")\n",
    "\n",
    "# Run the default profiler to get summary statistics\n",
    "profiler_result = validator.profile(columns=[\"Age\", \"Income\"])\n",
    "\n",
    "# Print the profiling results (optional - more detailed in Data Docs)\n",
    "print(\"\\nProfiling Results for 'Age' and 'Income':\")\n",
    "for column_result in profiler_result[\"results\"]:\n",
    "    if column_result[\"expectation_config\"][\"kwargs\"].get(\"column\") in [\"Age\", \"Income\"]:\n",
    "        print(f\"\\nColumn: {column_result['expectation_config']['kwargs'].get('column')}\")\n",
    "        for result in column_result[\"result\"]:\n",
    "            print(f\"  - {result['expectation']}: {result['details']}\")\n",
    "\n",
    "# 3. View the generated Expectation Suite to analyze data distributions.\n",
    "# The profiling process automatically generates expectations about your data.\n",
    "# You can now open the Data Docs to see a user-friendly visualization of these expectations,\n",
    "# including distribution charts (histograms, etc.) for the 'Age' and 'Income' columns.\n",
    "\n",
    "print(\"\\nTo view the generated Expectation Suite with data distribution visualizations:\")\n",
    "print(f\"- Navigate to your Great Expectations Data Context directory (where your `great_expectations.yml` is).\")\n",
    "print(\"- Run the command: `great_expectations docs build`\")\n",
    "print(\"- Open the generated `index.html` file in your `great_expectations/uncommitted/data_docs/local_site/index.html` directory in your web browser.\")\n",
    "print(\"- Find your Expectation Suite named 'profiling_expectation_suite' and inspect the expectations generated for the 'Age' and 'Income' columns.\")\n",
    "print(\"- Look for expectations like 'expect_column_values_to_be_in_type_list', 'expect_column_min_to_be_between', 'expect_column_max_to_be_between', 'expect_column_mean_to_be_between', and importantly, 'expect_column_values_to_be_in_quantile_ranges' and 'expect_column_value_counts' which provide insights into the distribution.\")"
   ]
  },
  {
   "cell_type": "markdown",
   "metadata": {},
   "source": [
    "2. Writing Validation Rules for Data Ingestion\n",
    "### Write validation rules for a CSV file to ensure the 'Date' column follows a specific date format.\n",
    "- Utilize expect_column_values_to_match_regex to enforce date format validation.\n",
    "- Run the validation and interpret the output."
   ]
  },
  {
   "cell_type": "code",
   "execution_count": null,
   "metadata": {},
   "outputs": [],
   "source": [
    "# write your code from here"
   ]
  }
 ],
 "metadata": {
  "kernelspec": {
   "display_name": ".venv",
   "language": "python",
   "name": "python3"
  },
  "language_info": {
   "codemirror_mode": {
    "name": "ipython",
    "version": 3
   },
   "file_extension": ".py",
   "mimetype": "text/x-python",
   "name": "python",
   "nbconvert_exporter": "python",
   "pygments_lexer": "ipython3",
   "version": "3.10.12"
  }
 },
 "nbformat": 4,
 "nbformat_minor": 2
}
