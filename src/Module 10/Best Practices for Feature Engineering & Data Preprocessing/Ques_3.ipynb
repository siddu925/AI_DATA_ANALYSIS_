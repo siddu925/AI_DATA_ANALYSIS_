{
 "cells": [
  {
   "cell_type": "markdown",
   "metadata": {},
   "source": [
    "### Feature Selection - Variance Threshold\n",
    "**Description**: Remove features with low variance."
   ]
  },
  {
   "cell_type": "code",
   "execution_count": 1,
   "metadata": {},
   "outputs": [
    {
     "name": "stdout",
     "output_type": "stream",
     "text": [
      "Original DataFrame:\n",
      "   feature_1  feature_2  feature_3  feature_4  feature_5\n",
      "0          1          2         10          0          5\n",
      "1          1          2         20          0          6\n",
      "2          1          3         15          0          5\n",
      "3          1          2         25          0          7\n",
      "4          1          2         30          0          6\n",
      "\n",
      "DataFrame after removing features with variance below 0.5:\n",
      "   feature_3  feature_5\n",
      "0         10          5\n",
      "1         20          6\n",
      "2         15          5\n",
      "3         25          7\n",
      "4         30          6\n",
      "\n",
      "Kept features: ['feature_3', 'feature_5']\n"
     ]
    }
   ],
   "source": [
    "import pandas as pd\n",
    "from sklearn.feature_selection import VarianceThreshold\n",
    "\n",
    "# Create a sample DataFrame with some low variance features\n",
    "data_variance = {'feature_1': [1, 1, 1, 1, 1],\n",
    "                  'feature_2': [2, 2, 3, 2, 2],\n",
    "                  'feature_3': [10, 20, 15, 25, 30],\n",
    "                  'feature_4': [0, 0, 0, 0, 0],\n",
    "                  'feature_5': [5, 6, 5, 7, 6]}\n",
    "df_variance = pd.DataFrame(data_variance)\n",
    "\n",
    "print(\"Original DataFrame:\")\n",
    "print(df_variance)\n",
    "\n",
    "# Set a threshold for variance. Features with variance below this will be removed.\n",
    "# You might need to experiment with different threshold values based on your data.\n",
    "threshold = 0.5\n",
    "\n",
    "# Initialize VarianceThreshold with the specified threshold\n",
    "selector = VarianceThreshold(threshold=threshold)\n",
    "\n",
    "# Fit and transform the DataFrame. This will return a NumPy array.\n",
    "X_high_variance = selector.fit_transform(df_variance)\n",
    "\n",
    "# Get the indices of the features that were kept\n",
    "kept_feature_indices = selector.get_support(indices=True)\n",
    "\n",
    "# Get the names of the features that were kept\n",
    "kept_feature_names = df_variance.columns[kept_feature_indices]\n",
    "\n",
    "# Create a new DataFrame with only the high variance features\n",
    "df_high_variance = pd.DataFrame(X_high_variance, columns=kept_feature_names)\n",
    "\n",
    "print(f\"\\nDataFrame after removing features with variance below {threshold}:\")\n",
    "print(df_high_variance)\n",
    "\n",
    "print(\"\\nKept features:\", list(kept_feature_names))"
   ]
  }
 ],
 "metadata": {
  "kernelspec": {
   "display_name": ".venv",
   "language": "python",
   "name": "python3"
  },
  "language_info": {
   "codemirror_mode": {
    "name": "ipython",
    "version": 3
   },
   "file_extension": ".py",
   "mimetype": "text/x-python",
   "name": "python",
   "nbconvert_exporter": "python",
   "pygments_lexer": "ipython3",
   "version": "3.10.12"
  }
 },
 "nbformat": 4,
 "nbformat_minor": 2
}
