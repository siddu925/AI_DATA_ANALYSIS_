{
 "cells": [
  {
   "cell_type": "code",
   "execution_count": 1,
   "metadata": {},
   "outputs": [],
   "source": [
    "# Question: Introduction to Missing Data in a DataFrame\n",
    "# Description: Load a simple CSV file into a DataFrame and identify missing values.\n",
    "\n",
    "# Steps to follow:\n",
    "# 1. Load the data: Use the pandas library to read a CSV file.\n",
    "# 2. Check for missing values: Use the isnull() method to find missing values.\n",
    "# 3. Summarize missing data: Use the sum() function to count the number of missing values in each column.\n",
    "\n"
   ]
  },
  {
   "cell_type": "code",
   "execution_count": 2,
   "metadata": {},
   "outputs": [
    {
     "name": "stdout",
     "output_type": "stream",
     "text": [
      "DataFrame with boolean indicating missing values:\n",
      "     col1   col2   col3\n",
      "0  False  False  False\n",
      "1  False   True  False\n",
      "2   True  False  False\n",
      "3  False  False   True\n",
      "4  False  False  False\n",
      "\n",
      "Number of missing values per column:\n",
      " col1    1\n",
      "col2    1\n",
      "col3    1\n",
      "dtype: int64\n"
     ]
    }
   ],
   "source": [
    "import pandas as pd\n",
    "import numpy as np\n",
    "\n",
    "# 1. Load the data\n",
    "# Let's create a sample CSV file for demonstration\n",
    "data = {'col1': [1, 2, np.nan, 4, 5],\n",
    "        'col2': ['a', np.nan, 'c', 'd', 'e'],\n",
    "        'col3': [10.5, 20.3, 15.2, np.nan, 12.1]}\n",
    "df = pd.DataFrame(data)\n",
    "df.to_csv('data.csv', index=False)\n",
    "\n",
    "df = pd.read_csv('data.csv')\n",
    "\n",
    "# 2. Check for missing values\n",
    "missing_values = df.isnull()\n",
    "print(\"DataFrame with boolean indicating missing values:\\n\", missing_values)\n",
    "\n",
    "# 3. Summarize missing data\n",
    "missing_counts = missing_values.sum()\n",
    "print(\"\\nNumber of missing values per column:\\n\", missing_counts)"
   ]
  },
  {
   "cell_type": "code",
   "execution_count": 3,
   "metadata": {},
   "outputs": [],
   "source": [
    "# Question: Dropping Rows with Missing Values\n",
    "# Description: Practice the deletion method by removing rows with any missing values from a dataset.\n",
    "\n",
    "# Steps to follow:\n",
    "# 1. Use dropna() method: Use the dropna() method to remove rows with missing values."
   ]
  },
  {
   "cell_type": "code",
   "execution_count": 4,
   "metadata": {},
   "outputs": [
    {
     "name": "stdout",
     "output_type": "stream",
     "text": [
      "Original DataFrame:\n",
      "    col1 col2  col3\n",
      "0   1.0    a  10.5\n",
      "1   2.0  NaN  20.3\n",
      "2   NaN    c  15.2\n",
      "3   4.0    d   NaN\n",
      "4   5.0    e  12.1\n",
      "\n",
      "DataFrame after dropping rows with missing values:\n",
      "    col1 col2  col3\n",
      "0   1.0    a  10.5\n",
      "4   5.0    e  12.1\n"
     ]
    }
   ],
   "source": [
    "import pandas as pd\n",
    "import numpy as np\n",
    "\n",
    "# Let's reload the data to have the missing values again\n",
    "data = {'col1': [1, 2, np.nan, 4, 5],\n",
    "        'col2': ['a', np.nan, 'c', 'd', 'e'],\n",
    "        'col3': [10.5, 20.3, 15.2, np.nan, 12.1]}\n",
    "df = pd.DataFrame(data)\n",
    "df.to_csv('data.csv', index=False)\n",
    "df = pd.read_csv('data.csv')\n",
    "\n",
    "print(\"Original DataFrame:\\n\", df)\n",
    "\n",
    "# 1. Use dropna() method\n",
    "df_cleaned = df.dropna()\n",
    "\n",
    "print(\"\\nDataFrame after dropping rows with missing values:\\n\", df_cleaned)"
   ]
  },
  {
   "cell_type": "code",
   "execution_count": 5,
   "metadata": {},
   "outputs": [],
   "source": [
    "# Question: Dropping Columns with Missing Values\n",
    "# Description: Practice deleting entire columns that contain missing values.\n",
    "\n",
    "# Steps to follow:\n",
    "# 1. Use dropna() with axis parameter: Set axis=1 in dropna() to remove columns with missing values.\n",
    "\n"
   ]
  },
  {
   "cell_type": "code",
   "execution_count": 6,
   "metadata": {},
   "outputs": [
    {
     "name": "stdout",
     "output_type": "stream",
     "text": [
      "Original DataFrame:\n",
      "    col1 col2  col3   col4\n",
      "0   1.0    a  10.5   True\n",
      "1   2.0  NaN  20.3  False\n",
      "2   NaN    c  15.2   True\n",
      "3   4.0    d   NaN   True\n",
      "4   5.0    e  12.1  False\n",
      "\n",
      "DataFrame after dropping columns with missing values:\n",
      "     col4\n",
      "0   True\n",
      "1  False\n",
      "2   True\n",
      "3   True\n",
      "4  False\n"
     ]
    }
   ],
   "source": [
    "import pandas as pd\n",
    "import numpy as np\n",
    "\n",
    "# Let's reload the data to have the missing values again\n",
    "data = {'col1': [1, 2, np.nan, 4, 5],\n",
    "        'col2': ['a', np.nan, 'c', 'd', 'e'],\n",
    "        'col3': [10.5, 20.3, 15.2, np.nan, 12.1],\n",
    "        'col4': [True, False, True, True, False]}\n",
    "df = pd.DataFrame(data)\n",
    "df.to_csv('data.csv', index=False)\n",
    "df = pd.read_csv('data.csv')\n",
    "\n",
    "print(\"Original DataFrame:\\n\", df)\n",
    "\n",
    "# 1. Use dropna() with axis parameter\n",
    "df_cleaned_cols = df.dropna(axis=1)\n",
    "\n",
    "print(\"\\nDataFrame after dropping columns with missing values:\\n\", df_cleaned_cols)"
   ]
  },
  {
   "cell_type": "code",
   "execution_count": 7,
   "metadata": {},
   "outputs": [],
   "source": [
    "# Question: Mean Imputation for Numerical Data\n",
    "# Description: Fill missing values in a numerical column with the mean of that column.\n",
    "\n",
    "# Steps to follow:\n",
    "# 1. Calculate mean and fill NA: Use mean() to calculate and fillna() to fill the missing values.\n",
    "\n"
   ]
  },
  {
   "cell_type": "code",
   "execution_count": 8,
   "metadata": {},
   "outputs": [
    {
     "name": "stdout",
     "output_type": "stream",
     "text": [
      "Original DataFrame:\n",
      "    col1 col2  col3\n",
      "0   1.0    a  10.5\n",
      "1   2.0    b  20.3\n",
      "2   NaN    c  15.2\n",
      "3   4.0    d   NaN\n",
      "4   5.0    e  12.1\n",
      "\n",
      "DataFrame after mean imputation for 'col1':\n",
      "    col1 col2  col3\n",
      "0   1.0    a  10.5\n",
      "1   2.0    b  20.3\n",
      "2   3.0    c  15.2\n",
      "3   4.0    d   NaN\n",
      "4   5.0    e  12.1\n",
      "\n",
      "DataFrame after mean imputation for 'col1' and 'col3':\n",
      "    col1 col2    col3\n",
      "0   1.0    a  10.500\n",
      "1   2.0    b  20.300\n",
      "2   3.0    c  15.200\n",
      "3   4.0    d  14.525\n",
      "4   5.0    e  12.100\n"
     ]
    }
   ],
   "source": [
    "import pandas as pd\n",
    "import numpy as np\n",
    "\n",
    "# Let's reload the data, focusing on the numerical columns\n",
    "data = {'col1': [1, 2, np.nan, 4, 5],\n",
    "        'col2': ['a', 'b', 'c', 'd', 'e'],\n",
    "        'col3': [10.5, 20.3, 15.2, np.nan, 12.1]}\n",
    "df = pd.DataFrame(data)\n",
    "df.to_csv('data.csv', index=False)\n",
    "df = pd.read_csv('data.csv')\n",
    "\n",
    "print(\"Original DataFrame:\\n\", df)\n",
    "\n",
    "# 1. Calculate mean and fill NA for 'col1'\n",
    "mean_col1 = df['col1'].mean()\n",
    "df['col1'].fillna(mean_col1, inplace=True)\n",
    "print(\"\\nDataFrame after mean imputation for 'col1':\\n\", df)\n",
    "\n",
    "# Let's do the same for 'col3'\n",
    "mean_col3 = df['col3'].mean()\n",
    "df['col3'].fillna(mean_col3, inplace=True)\n",
    "print(\"\\nDataFrame after mean imputation for 'col1' and 'col3':\\n\", df)"
   ]
  },
  {
   "cell_type": "code",
   "execution_count": 9,
   "metadata": {},
   "outputs": [],
   "source": [
    "# Question: Mode Imputation for Categorical Data\n",
    "# Description: Fill missing values in a categorical column with the mode of that column.\n",
    "\n",
    "# Steps to follow:\n",
    "# 1. Calculate mode and fill NA: Use mode() to find the most frequent value and fillna() to fill the missing values.\n",
    "\n"
   ]
  },
  {
   "cell_type": "code",
   "execution_count": 10,
   "metadata": {},
   "outputs": [
    {
     "name": "stdout",
     "output_type": "stream",
     "text": [
      "Original DataFrame:\n",
      "   category  value\n",
      "0        A     10\n",
      "1        B     20\n",
      "2      NaN     30\n",
      "3        A     40\n",
      "4        C     50\n",
      "5        B     60\n",
      "6        A     70\n",
      "7      NaN     80\n",
      "\n",
      "DataFrame after mode imputation for 'category':\n",
      "   category  value\n",
      "0        A     10\n",
      "1        B     20\n",
      "2        A     30\n",
      "3        A     40\n",
      "4        C     50\n",
      "5        B     60\n",
      "6        A     70\n",
      "7        A     80\n"
     ]
    }
   ],
   "source": [
    "import pandas as pd\n",
    "import numpy as np\n",
    "\n",
    "# Let's create a DataFrame with a categorical column containing missing values\n",
    "data = {'category': ['A', 'B', np.nan, 'A', 'C', 'B', 'A', np.nan],\n",
    "        'value': [10, 20, 30, 40, 50, 60, 70, 80]}\n",
    "df = pd.DataFrame(data)\n",
    "df.to_csv('categorical_data.csv', index=False)\n",
    "df = pd.read_csv('categorical_data.csv')\n",
    "\n",
    "print(\"Original DataFrame:\\n\", df)\n",
    "\n",
    "# 1. Calculate mode and fill NA for the 'category' column\n",
    "mode_category = df['category'].mode()[0]\n",
    "df['category'].fillna(mode_category, inplace=True)\n",
    "\n",
    "print(\"\\nDataFrame after mode imputation for 'category':\\n\", df)"
   ]
  },
  {
   "cell_type": "code",
   "execution_count": 11,
   "metadata": {},
   "outputs": [],
   "source": [
    "# Question: Median Imputation for Skewed Data\n",
    "# Description: Handle missing values in columns with a skewed distribution using the median.\n",
    "\n",
    "# Steps to follow:\n",
    "# 1. Calculate median and fill NA: Use median() for skewed data and fillna() to handle missing values.\n",
    "\n"
   ]
  },
  {
   "cell_type": "code",
   "execution_count": 12,
   "metadata": {},
   "outputs": [
    {
     "name": "stdout",
     "output_type": "stream",
     "text": [
      "Original DataFrame:\n",
      "    skewed_col other_col\n",
      "0        10.0         p\n",
      "1        15.0         q\n",
      "2        12.0         r\n",
      "3         NaN         s\n",
      "4         8.0         t\n",
      "5        50.0         u\n",
      "6        11.0         v\n",
      "7         NaN         w\n",
      "8        13.0         x\n",
      "9        16.0         y\n",
      "\n",
      "DataFrame after median imputation for 'skewed_col':\n",
      "    skewed_col other_col\n",
      "0        10.0         p\n",
      "1        15.0         q\n",
      "2        12.0         r\n",
      "3        12.5         s\n",
      "4         8.0         t\n",
      "5        50.0         u\n",
      "6        11.0         v\n",
      "7        12.5         w\n",
      "8        13.0         x\n",
      "9        16.0         y\n"
     ]
    }
   ],
   "source": [
    "import pandas as pd\n",
    "import numpy as np\n",
    "\n",
    "# Let's create a DataFrame with a skewed numerical column containing missing values\n",
    "data = {'skewed_col': [10, 15, 12, np.nan, 8, 50, 11, np.nan, 13, 16],\n",
    "        'other_col': ['p', 'q', 'r', 's', 't', 'u', 'v', 'w', 'x', 'y']}\n",
    "df = pd.DataFrame(data)\n",
    "df.to_csv('skewed_data.csv', index=False)\n",
    "df = pd.read_csv('skewed_data.csv')\n",
    "\n",
    "print(\"Original DataFrame:\\n\", df)\n",
    "\n",
    "# 1. Calculate median and fill NA for the 'skewed_col'\n",
    "median_skewed = df['skewed_col'].median()\n",
    "df['skewed_col'].fillna(median_skewed, inplace=True)\n",
    "\n",
    "print(\"\\nDataFrame after median imputation for 'skewed_col':\\n\", df)"
   ]
  },
  {
   "cell_type": "code",
   "execution_count": 13,
   "metadata": {},
   "outputs": [],
   "source": [
    "# Question: KNN Imputation\n",
    "# Description: Use K-Nearest Neighbors to impute missing values in a dataset.\n",
    "\n",
    "# Steps to follow:\n",
    "# 1. Install and import required libraries: Use pip install sklearn if not already installed.\n",
    "# 2. KNN Imputer: Use KNNImputer to fill in missing values.\n",
    "\n"
   ]
  },
  {
   "cell_type": "code",
   "execution_count": 14,
   "metadata": {},
   "outputs": [
    {
     "name": "stdout",
     "output_type": "stream",
     "text": [
      "Original DataFrame:\n",
      "    feature1  feature2  feature3\n",
      "0       1.0       6.0      12.5\n",
      "1       2.0       NaN      13.1\n",
      "2       NaN       8.0      14.7\n",
      "3       4.0       9.0       NaN\n",
      "4       5.0      10.0      16.2\n",
      "5       NaN      11.0      17.9\n",
      "\n",
      "DataFrame after KNN Imputation:\n",
      "    feature1  feature2  feature3\n",
      "0       1.0       6.0     12.50\n",
      "1       2.0       7.0     13.10\n",
      "2       3.0       8.0     14.70\n",
      "3       4.0       9.0     15.45\n",
      "4       5.0      10.0     16.20\n",
      "5       4.5      11.0     17.90\n"
     ]
    }
   ],
   "source": [
    "import pandas as pd\n",
    "import numpy as np\n",
    "from sklearn.impute import KNNImputer\n",
    "\n",
    "# 1. Install and import required libraries (you might have already done this)\n",
    "# pip install scikit-learn\n",
    "\n",
    "# Let's create a DataFrame with missing values\n",
    "data = {'feature1': [1, 2, np.nan, 4, 5, np.nan],\n",
    "        'feature2': [6, np.nan, 8, 9, 10, 11],\n",
    "        'feature3': [12.5, 13.1, 14.7, np.nan, 16.2, 17.9]}\n",
    "df = pd.DataFrame(data)\n",
    "print(\"Original DataFrame:\\n\", df)\n",
    "\n",
    "# 2. KNN Imputer\n",
    "imputer = KNNImputer(n_neighbors=2)  # You can adjust the number of neighbors\n",
    "df_imputed = pd.DataFrame(imputer.fit_transform(df), columns=df.columns)\n",
    "\n",
    "print(\"\\nDataFrame after KNN Imputation:\\n\", df_imputed)"
   ]
  },
  {
   "cell_type": "code",
   "execution_count": 15,
   "metadata": {},
   "outputs": [],
   "source": [
    "# Question: Detecting and Handling Missing Categorical Data\n",
    "# Description: Detect missing categorical data and handle it by filling with the next frequent category.\n",
    "\n",
    "# Steps to follow:\n",
    "# 1. Identify missing values in categorical data: Use the isnull() method on categorical columns.\n",
    "# 2. Impute with next frequent category: Use the mode() method to choose the next frequent category.\n",
    "\n"
   ]
  },
  {
   "cell_type": "code",
   "execution_count": 16,
   "metadata": {},
   "outputs": [
    {
     "name": "stdout",
     "output_type": "stream",
     "text": [
      "Missing values in 'category' column:\n",
      " 0     False\n",
      "1     False\n",
      "2      True\n",
      "3     False\n",
      "4     False\n",
      "5     False\n",
      "6     False\n",
      "7      True\n",
      "8     False\n",
      "9     False\n",
      "10    False\n",
      "11    False\n",
      "Name: category, dtype: bool\n",
      "\n",
      "Number of missing values: 2\n",
      "\n",
      "Frequency of each category:\n",
      " category\n",
      "A    4\n",
      "B    4\n",
      "C    1\n",
      "D    1\n",
      "Name: count, dtype: int64\n",
      "\n",
      "Most frequent category: A\n",
      "Next most frequent category: B\n",
      "\n",
      "DataFrame after imputing with the next frequent category ('B'):\n",
      "    category  value\n",
      "0         A     10\n",
      "1         B     20\n",
      "2         B     30\n",
      "3         A     40\n",
      "4         C     50\n",
      "5         B     60\n",
      "6         A     70\n",
      "7         B     80\n",
      "8         B     90\n",
      "9         D    100\n",
      "10        A    110\n",
      "11        B    120\n"
     ]
    }
   ],
   "source": [
    "import pandas as pd\n",
    "import numpy as np\n",
    "\n",
    "# Let's create a DataFrame with a categorical column containing missing values\n",
    "data = {'category': ['A', 'B', np.nan, 'A', 'C', 'B', 'A', np.nan, 'B', 'D', 'A', 'B'],\n",
    "        'value': [10, 20, 30, 40, 50, 60, 70, 80, 90, 100, 110, 120]}\n",
    "df = pd.DataFrame(data)\n",
    "\n",
    "# 1. Identify missing values in categorical data\n",
    "missing_category = df['category'].isnull()\n",
    "print(\"Missing values in 'category' column:\\n\", missing_category)\n",
    "print(\"\\nNumber of missing values:\", missing_category.sum())\n",
    "\n",
    "# 2. Impute with the next frequent category\n",
    "category_counts = df['category'].value_counts()\n",
    "print(\"\\nFrequency of each category:\\n\", category_counts)\n",
    "\n",
    "# Identify the most frequent category (mode)\n",
    "most_frequent_category = category_counts.index[0]\n",
    "print(\"\\nMost frequent category:\", most_frequent_category)\n",
    "\n",
    "# Identify the next most frequent category (if it exists)\n",
    "next_frequent_category = category_counts.index[1] if len(category_counts) > 1 else None\n",
    "print(\"Next most frequent category:\", next_frequent_category)\n",
    "\n",
    "if next_frequent_category:\n",
    "    df['category'].fillna(next_frequent_category, inplace=True)\n",
    "    print(\"\\nDataFrame after imputing with the next frequent category ('{}'):\\n\".format(next_frequent_category), df)\n",
    "else:\n",
    "    print(\"\\nOnly one category exists, so imputing with the most frequent ('{}'):\\n\".format(most_frequent_category), df)\n",
    "    df['category'].fillna(most_frequent_category, inplace=True)"
   ]
  },
  {
   "cell_type": "code",
   "execution_count": 17,
   "metadata": {},
   "outputs": [],
   "source": [
    "# Question: Predictive Modeling for Imputation\n",
    "# Description: Use a predictive model to impute missing values for a particular feature using other features.\n",
    "\n",
    "# Steps to follow:\n",
    "# 1. Partition the data: Split the dataset into train and test based on the presence of missing values.\n",
    "# 2. Train a model: Use a regression model to predict missing values.\n",
    "# 3. Impute missing values with predictions.\n",
    "\n",
    "\n"
   ]
  },
  {
   "cell_type": "code",
   "execution_count": 18,
   "metadata": {},
   "outputs": [
    {
     "name": "stdout",
     "output_type": "stream",
     "text": [
      "Rows with missing 'target_feature':\n",
      "    feature1  feature2  target_feature\n",
      "2       3.0      13.0             NaN\n",
      "7       8.0       NaN             NaN\n",
      "\n",
      "Rows with non-missing 'target_feature':\n",
      "    feature1  feature2  target_feature\n",
      "0       1.0      11.0            21.0\n",
      "1       2.0       NaN            22.0\n",
      "3       4.0      14.0            24.0\n",
      "4       5.0      15.0            25.0\n",
      "5       6.0      16.0            26.0\n",
      "6       NaN      17.0            27.0\n",
      "8       9.0      19.0            29.0\n",
      "9      10.0      20.0            30.0\n"
     ]
    },
    {
     "ename": "ValueError",
     "evalue": "Input X contains NaN.\nLinearRegression does not accept missing values encoded as NaN natively. For supervised learning, you might want to consider sklearn.ensemble.HistGradientBoostingClassifier and Regressor which accept missing values encoded as NaNs natively. Alternatively, it is possible to preprocess the data, for instance by using an imputer transformer in a pipeline or drop samples with missing values. See https://scikit-learn.org/stable/modules/impute.html You can find a list of all estimators that handle NaN values at the following page: https://scikit-learn.org/stable/modules/impute.html#estimators-that-handle-nan-values",
     "output_type": "error",
     "traceback": [
      "\u001b[0;31m---------------------------------------------------------------------------\u001b[0m",
      "\u001b[0;31mValueError\u001b[0m                                Traceback (most recent call last)",
      "Cell \u001b[0;32mIn[18], line 28\u001b[0m\n\u001b[1;32m     26\u001b[0m \u001b[38;5;66;03m# 2. Train a model (using Linear Regression as an example)\u001b[39;00m\n\u001b[1;32m     27\u001b[0m model \u001b[38;5;241m=\u001b[39m LinearRegression()\n\u001b[0;32m---> 28\u001b[0m \u001b[43mmodel\u001b[49m\u001b[38;5;241;43m.\u001b[39;49m\u001b[43mfit\u001b[49m\u001b[43m(\u001b[49m\u001b[43mX_train\u001b[49m\u001b[43m,\u001b[49m\u001b[43m \u001b[49m\u001b[43my_train\u001b[49m\u001b[43m)\u001b[49m\n\u001b[1;32m     30\u001b[0m \u001b[38;5;66;03m# 3. Impute missing values with predictions\u001b[39;00m\n\u001b[1;32m     31\u001b[0m predicted_values \u001b[38;5;241m=\u001b[39m model\u001b[38;5;241m.\u001b[39mpredict(X_test)\n",
      "File \u001b[0;32m/workspaces/AI_DATA_ANALYSIS_/.venv/lib/python3.10/site-packages/sklearn/base.py:1389\u001b[0m, in \u001b[0;36m_fit_context.<locals>.decorator.<locals>.wrapper\u001b[0;34m(estimator, *args, **kwargs)\u001b[0m\n\u001b[1;32m   1382\u001b[0m     estimator\u001b[38;5;241m.\u001b[39m_validate_params()\n\u001b[1;32m   1384\u001b[0m \u001b[38;5;28;01mwith\u001b[39;00m config_context(\n\u001b[1;32m   1385\u001b[0m     skip_parameter_validation\u001b[38;5;241m=\u001b[39m(\n\u001b[1;32m   1386\u001b[0m         prefer_skip_nested_validation \u001b[38;5;129;01mor\u001b[39;00m global_skip_validation\n\u001b[1;32m   1387\u001b[0m     )\n\u001b[1;32m   1388\u001b[0m ):\n\u001b[0;32m-> 1389\u001b[0m     \u001b[38;5;28;01mreturn\u001b[39;00m \u001b[43mfit_method\u001b[49m\u001b[43m(\u001b[49m\u001b[43mestimator\u001b[49m\u001b[43m,\u001b[49m\u001b[43m \u001b[49m\u001b[38;5;241;43m*\u001b[39;49m\u001b[43margs\u001b[49m\u001b[43m,\u001b[49m\u001b[43m \u001b[49m\u001b[38;5;241;43m*\u001b[39;49m\u001b[38;5;241;43m*\u001b[39;49m\u001b[43mkwargs\u001b[49m\u001b[43m)\u001b[49m\n",
      "File \u001b[0;32m/workspaces/AI_DATA_ANALYSIS_/.venv/lib/python3.10/site-packages/sklearn/linear_model/_base.py:601\u001b[0m, in \u001b[0;36mLinearRegression.fit\u001b[0;34m(self, X, y, sample_weight)\u001b[0m\n\u001b[1;32m    597\u001b[0m n_jobs_ \u001b[38;5;241m=\u001b[39m \u001b[38;5;28mself\u001b[39m\u001b[38;5;241m.\u001b[39mn_jobs\n\u001b[1;32m    599\u001b[0m accept_sparse \u001b[38;5;241m=\u001b[39m \u001b[38;5;28;01mFalse\u001b[39;00m \u001b[38;5;28;01mif\u001b[39;00m \u001b[38;5;28mself\u001b[39m\u001b[38;5;241m.\u001b[39mpositive \u001b[38;5;28;01melse\u001b[39;00m [\u001b[38;5;124m\"\u001b[39m\u001b[38;5;124mcsr\u001b[39m\u001b[38;5;124m\"\u001b[39m, \u001b[38;5;124m\"\u001b[39m\u001b[38;5;124mcsc\u001b[39m\u001b[38;5;124m\"\u001b[39m, \u001b[38;5;124m\"\u001b[39m\u001b[38;5;124mcoo\u001b[39m\u001b[38;5;124m\"\u001b[39m]\n\u001b[0;32m--> 601\u001b[0m X, y \u001b[38;5;241m=\u001b[39m \u001b[43mvalidate_data\u001b[49m\u001b[43m(\u001b[49m\n\u001b[1;32m    602\u001b[0m \u001b[43m    \u001b[49m\u001b[38;5;28;43mself\u001b[39;49m\u001b[43m,\u001b[49m\n\u001b[1;32m    603\u001b[0m \u001b[43m    \u001b[49m\u001b[43mX\u001b[49m\u001b[43m,\u001b[49m\n\u001b[1;32m    604\u001b[0m \u001b[43m    \u001b[49m\u001b[43my\u001b[49m\u001b[43m,\u001b[49m\n\u001b[1;32m    605\u001b[0m \u001b[43m    \u001b[49m\u001b[43maccept_sparse\u001b[49m\u001b[38;5;241;43m=\u001b[39;49m\u001b[43maccept_sparse\u001b[49m\u001b[43m,\u001b[49m\n\u001b[1;32m    606\u001b[0m \u001b[43m    \u001b[49m\u001b[43my_numeric\u001b[49m\u001b[38;5;241;43m=\u001b[39;49m\u001b[38;5;28;43;01mTrue\u001b[39;49;00m\u001b[43m,\u001b[49m\n\u001b[1;32m    607\u001b[0m \u001b[43m    \u001b[49m\u001b[43mmulti_output\u001b[49m\u001b[38;5;241;43m=\u001b[39;49m\u001b[38;5;28;43;01mTrue\u001b[39;49;00m\u001b[43m,\u001b[49m\n\u001b[1;32m    608\u001b[0m \u001b[43m    \u001b[49m\u001b[43mforce_writeable\u001b[49m\u001b[38;5;241;43m=\u001b[39;49m\u001b[38;5;28;43;01mTrue\u001b[39;49;00m\u001b[43m,\u001b[49m\n\u001b[1;32m    609\u001b[0m \u001b[43m\u001b[49m\u001b[43m)\u001b[49m\n\u001b[1;32m    611\u001b[0m has_sw \u001b[38;5;241m=\u001b[39m sample_weight \u001b[38;5;129;01mis\u001b[39;00m \u001b[38;5;129;01mnot\u001b[39;00m \u001b[38;5;28;01mNone\u001b[39;00m\n\u001b[1;32m    612\u001b[0m \u001b[38;5;28;01mif\u001b[39;00m has_sw:\n",
      "File \u001b[0;32m/workspaces/AI_DATA_ANALYSIS_/.venv/lib/python3.10/site-packages/sklearn/utils/validation.py:2961\u001b[0m, in \u001b[0;36mvalidate_data\u001b[0;34m(_estimator, X, y, reset, validate_separately, skip_check_array, **check_params)\u001b[0m\n\u001b[1;32m   2959\u001b[0m         y \u001b[38;5;241m=\u001b[39m check_array(y, input_name\u001b[38;5;241m=\u001b[39m\u001b[38;5;124m\"\u001b[39m\u001b[38;5;124my\u001b[39m\u001b[38;5;124m\"\u001b[39m, \u001b[38;5;241m*\u001b[39m\u001b[38;5;241m*\u001b[39mcheck_y_params)\n\u001b[1;32m   2960\u001b[0m     \u001b[38;5;28;01melse\u001b[39;00m:\n\u001b[0;32m-> 2961\u001b[0m         X, y \u001b[38;5;241m=\u001b[39m \u001b[43mcheck_X_y\u001b[49m\u001b[43m(\u001b[49m\u001b[43mX\u001b[49m\u001b[43m,\u001b[49m\u001b[43m \u001b[49m\u001b[43my\u001b[49m\u001b[43m,\u001b[49m\u001b[43m \u001b[49m\u001b[38;5;241;43m*\u001b[39;49m\u001b[38;5;241;43m*\u001b[39;49m\u001b[43mcheck_params\u001b[49m\u001b[43m)\u001b[49m\n\u001b[1;32m   2962\u001b[0m     out \u001b[38;5;241m=\u001b[39m X, y\n\u001b[1;32m   2964\u001b[0m \u001b[38;5;28;01mif\u001b[39;00m \u001b[38;5;129;01mnot\u001b[39;00m no_val_X \u001b[38;5;129;01mand\u001b[39;00m check_params\u001b[38;5;241m.\u001b[39mget(\u001b[38;5;124m\"\u001b[39m\u001b[38;5;124mensure_2d\u001b[39m\u001b[38;5;124m\"\u001b[39m, \u001b[38;5;28;01mTrue\u001b[39;00m):\n",
      "File \u001b[0;32m/workspaces/AI_DATA_ANALYSIS_/.venv/lib/python3.10/site-packages/sklearn/utils/validation.py:1370\u001b[0m, in \u001b[0;36mcheck_X_y\u001b[0;34m(X, y, accept_sparse, accept_large_sparse, dtype, order, copy, force_writeable, force_all_finite, ensure_all_finite, ensure_2d, allow_nd, multi_output, ensure_min_samples, ensure_min_features, y_numeric, estimator)\u001b[0m\n\u001b[1;32m   1364\u001b[0m     \u001b[38;5;28;01mraise\u001b[39;00m \u001b[38;5;167;01mValueError\u001b[39;00m(\n\u001b[1;32m   1365\u001b[0m         \u001b[38;5;124mf\u001b[39m\u001b[38;5;124m\"\u001b[39m\u001b[38;5;132;01m{\u001b[39;00mestimator_name\u001b[38;5;132;01m}\u001b[39;00m\u001b[38;5;124m requires y to be passed, but the target y is None\u001b[39m\u001b[38;5;124m\"\u001b[39m\n\u001b[1;32m   1366\u001b[0m     )\n\u001b[1;32m   1368\u001b[0m ensure_all_finite \u001b[38;5;241m=\u001b[39m _deprecate_force_all_finite(force_all_finite, ensure_all_finite)\n\u001b[0;32m-> 1370\u001b[0m X \u001b[38;5;241m=\u001b[39m \u001b[43mcheck_array\u001b[49m\u001b[43m(\u001b[49m\n\u001b[1;32m   1371\u001b[0m \u001b[43m    \u001b[49m\u001b[43mX\u001b[49m\u001b[43m,\u001b[49m\n\u001b[1;32m   1372\u001b[0m \u001b[43m    \u001b[49m\u001b[43maccept_sparse\u001b[49m\u001b[38;5;241;43m=\u001b[39;49m\u001b[43maccept_sparse\u001b[49m\u001b[43m,\u001b[49m\n\u001b[1;32m   1373\u001b[0m \u001b[43m    \u001b[49m\u001b[43maccept_large_sparse\u001b[49m\u001b[38;5;241;43m=\u001b[39;49m\u001b[43maccept_large_sparse\u001b[49m\u001b[43m,\u001b[49m\n\u001b[1;32m   1374\u001b[0m \u001b[43m    \u001b[49m\u001b[43mdtype\u001b[49m\u001b[38;5;241;43m=\u001b[39;49m\u001b[43mdtype\u001b[49m\u001b[43m,\u001b[49m\n\u001b[1;32m   1375\u001b[0m \u001b[43m    \u001b[49m\u001b[43morder\u001b[49m\u001b[38;5;241;43m=\u001b[39;49m\u001b[43morder\u001b[49m\u001b[43m,\u001b[49m\n\u001b[1;32m   1376\u001b[0m \u001b[43m    \u001b[49m\u001b[43mcopy\u001b[49m\u001b[38;5;241;43m=\u001b[39;49m\u001b[43mcopy\u001b[49m\u001b[43m,\u001b[49m\n\u001b[1;32m   1377\u001b[0m \u001b[43m    \u001b[49m\u001b[43mforce_writeable\u001b[49m\u001b[38;5;241;43m=\u001b[39;49m\u001b[43mforce_writeable\u001b[49m\u001b[43m,\u001b[49m\n\u001b[1;32m   1378\u001b[0m \u001b[43m    \u001b[49m\u001b[43mensure_all_finite\u001b[49m\u001b[38;5;241;43m=\u001b[39;49m\u001b[43mensure_all_finite\u001b[49m\u001b[43m,\u001b[49m\n\u001b[1;32m   1379\u001b[0m \u001b[43m    \u001b[49m\u001b[43mensure_2d\u001b[49m\u001b[38;5;241;43m=\u001b[39;49m\u001b[43mensure_2d\u001b[49m\u001b[43m,\u001b[49m\n\u001b[1;32m   1380\u001b[0m \u001b[43m    \u001b[49m\u001b[43mallow_nd\u001b[49m\u001b[38;5;241;43m=\u001b[39;49m\u001b[43mallow_nd\u001b[49m\u001b[43m,\u001b[49m\n\u001b[1;32m   1381\u001b[0m \u001b[43m    \u001b[49m\u001b[43mensure_min_samples\u001b[49m\u001b[38;5;241;43m=\u001b[39;49m\u001b[43mensure_min_samples\u001b[49m\u001b[43m,\u001b[49m\n\u001b[1;32m   1382\u001b[0m \u001b[43m    \u001b[49m\u001b[43mensure_min_features\u001b[49m\u001b[38;5;241;43m=\u001b[39;49m\u001b[43mensure_min_features\u001b[49m\u001b[43m,\u001b[49m\n\u001b[1;32m   1383\u001b[0m \u001b[43m    \u001b[49m\u001b[43mestimator\u001b[49m\u001b[38;5;241;43m=\u001b[39;49m\u001b[43mestimator\u001b[49m\u001b[43m,\u001b[49m\n\u001b[1;32m   1384\u001b[0m \u001b[43m    \u001b[49m\u001b[43minput_name\u001b[49m\u001b[38;5;241;43m=\u001b[39;49m\u001b[38;5;124;43m\"\u001b[39;49m\u001b[38;5;124;43mX\u001b[39;49m\u001b[38;5;124;43m\"\u001b[39;49m\u001b[43m,\u001b[49m\n\u001b[1;32m   1385\u001b[0m \u001b[43m\u001b[49m\u001b[43m)\u001b[49m\n\u001b[1;32m   1387\u001b[0m y \u001b[38;5;241m=\u001b[39m _check_y(y, multi_output\u001b[38;5;241m=\u001b[39mmulti_output, y_numeric\u001b[38;5;241m=\u001b[39my_numeric, estimator\u001b[38;5;241m=\u001b[39mestimator)\n\u001b[1;32m   1389\u001b[0m check_consistent_length(X, y)\n",
      "File \u001b[0;32m/workspaces/AI_DATA_ANALYSIS_/.venv/lib/python3.10/site-packages/sklearn/utils/validation.py:1107\u001b[0m, in \u001b[0;36mcheck_array\u001b[0;34m(array, accept_sparse, accept_large_sparse, dtype, order, copy, force_writeable, force_all_finite, ensure_all_finite, ensure_non_negative, ensure_2d, allow_nd, ensure_min_samples, ensure_min_features, estimator, input_name)\u001b[0m\n\u001b[1;32m   1101\u001b[0m     \u001b[38;5;28;01mraise\u001b[39;00m \u001b[38;5;167;01mValueError\u001b[39;00m(\n\u001b[1;32m   1102\u001b[0m         \u001b[38;5;124m\"\u001b[39m\u001b[38;5;124mFound array with dim \u001b[39m\u001b[38;5;132;01m%d\u001b[39;00m\u001b[38;5;124m. \u001b[39m\u001b[38;5;132;01m%s\u001b[39;00m\u001b[38;5;124m expected <= 2.\u001b[39m\u001b[38;5;124m\"\u001b[39m\n\u001b[1;32m   1103\u001b[0m         \u001b[38;5;241m%\u001b[39m (array\u001b[38;5;241m.\u001b[39mndim, estimator_name)\n\u001b[1;32m   1104\u001b[0m     )\n\u001b[1;32m   1106\u001b[0m \u001b[38;5;28;01mif\u001b[39;00m ensure_all_finite:\n\u001b[0;32m-> 1107\u001b[0m     \u001b[43m_assert_all_finite\u001b[49m\u001b[43m(\u001b[49m\n\u001b[1;32m   1108\u001b[0m \u001b[43m        \u001b[49m\u001b[43marray\u001b[49m\u001b[43m,\u001b[49m\n\u001b[1;32m   1109\u001b[0m \u001b[43m        \u001b[49m\u001b[43minput_name\u001b[49m\u001b[38;5;241;43m=\u001b[39;49m\u001b[43minput_name\u001b[49m\u001b[43m,\u001b[49m\n\u001b[1;32m   1110\u001b[0m \u001b[43m        \u001b[49m\u001b[43mestimator_name\u001b[49m\u001b[38;5;241;43m=\u001b[39;49m\u001b[43mestimator_name\u001b[49m\u001b[43m,\u001b[49m\n\u001b[1;32m   1111\u001b[0m \u001b[43m        \u001b[49m\u001b[43mallow_nan\u001b[49m\u001b[38;5;241;43m=\u001b[39;49m\u001b[43mensure_all_finite\u001b[49m\u001b[43m \u001b[49m\u001b[38;5;241;43m==\u001b[39;49m\u001b[43m \u001b[49m\u001b[38;5;124;43m\"\u001b[39;49m\u001b[38;5;124;43mallow-nan\u001b[39;49m\u001b[38;5;124;43m\"\u001b[39;49m\u001b[43m,\u001b[49m\n\u001b[1;32m   1112\u001b[0m \u001b[43m    \u001b[49m\u001b[43m)\u001b[49m\n\u001b[1;32m   1114\u001b[0m \u001b[38;5;28;01mif\u001b[39;00m copy:\n\u001b[1;32m   1115\u001b[0m     \u001b[38;5;28;01mif\u001b[39;00m _is_numpy_namespace(xp):\n\u001b[1;32m   1116\u001b[0m         \u001b[38;5;66;03m# only make a copy if `array` and `array_orig` may share memory`\u001b[39;00m\n",
      "File \u001b[0;32m/workspaces/AI_DATA_ANALYSIS_/.venv/lib/python3.10/site-packages/sklearn/utils/validation.py:120\u001b[0m, in \u001b[0;36m_assert_all_finite\u001b[0;34m(X, allow_nan, msg_dtype, estimator_name, input_name)\u001b[0m\n\u001b[1;32m    117\u001b[0m \u001b[38;5;28;01mif\u001b[39;00m first_pass_isfinite:\n\u001b[1;32m    118\u001b[0m     \u001b[38;5;28;01mreturn\u001b[39;00m\n\u001b[0;32m--> 120\u001b[0m \u001b[43m_assert_all_finite_element_wise\u001b[49m\u001b[43m(\u001b[49m\n\u001b[1;32m    121\u001b[0m \u001b[43m    \u001b[49m\u001b[43mX\u001b[49m\u001b[43m,\u001b[49m\n\u001b[1;32m    122\u001b[0m \u001b[43m    \u001b[49m\u001b[43mxp\u001b[49m\u001b[38;5;241;43m=\u001b[39;49m\u001b[43mxp\u001b[49m\u001b[43m,\u001b[49m\n\u001b[1;32m    123\u001b[0m \u001b[43m    \u001b[49m\u001b[43mallow_nan\u001b[49m\u001b[38;5;241;43m=\u001b[39;49m\u001b[43mallow_nan\u001b[49m\u001b[43m,\u001b[49m\n\u001b[1;32m    124\u001b[0m \u001b[43m    \u001b[49m\u001b[43mmsg_dtype\u001b[49m\u001b[38;5;241;43m=\u001b[39;49m\u001b[43mmsg_dtype\u001b[49m\u001b[43m,\u001b[49m\n\u001b[1;32m    125\u001b[0m \u001b[43m    \u001b[49m\u001b[43mestimator_name\u001b[49m\u001b[38;5;241;43m=\u001b[39;49m\u001b[43mestimator_name\u001b[49m\u001b[43m,\u001b[49m\n\u001b[1;32m    126\u001b[0m \u001b[43m    \u001b[49m\u001b[43minput_name\u001b[49m\u001b[38;5;241;43m=\u001b[39;49m\u001b[43minput_name\u001b[49m\u001b[43m,\u001b[49m\n\u001b[1;32m    127\u001b[0m \u001b[43m\u001b[49m\u001b[43m)\u001b[49m\n",
      "File \u001b[0;32m/workspaces/AI_DATA_ANALYSIS_/.venv/lib/python3.10/site-packages/sklearn/utils/validation.py:169\u001b[0m, in \u001b[0;36m_assert_all_finite_element_wise\u001b[0;34m(X, xp, allow_nan, msg_dtype, estimator_name, input_name)\u001b[0m\n\u001b[1;32m    152\u001b[0m \u001b[38;5;28;01mif\u001b[39;00m estimator_name \u001b[38;5;129;01mand\u001b[39;00m input_name \u001b[38;5;241m==\u001b[39m \u001b[38;5;124m\"\u001b[39m\u001b[38;5;124mX\u001b[39m\u001b[38;5;124m\"\u001b[39m \u001b[38;5;129;01mand\u001b[39;00m has_nan_error:\n\u001b[1;32m    153\u001b[0m     \u001b[38;5;66;03m# Improve the error message on how to handle missing values in\u001b[39;00m\n\u001b[1;32m    154\u001b[0m     \u001b[38;5;66;03m# scikit-learn.\u001b[39;00m\n\u001b[1;32m    155\u001b[0m     msg_err \u001b[38;5;241m+\u001b[39m\u001b[38;5;241m=\u001b[39m (\n\u001b[1;32m    156\u001b[0m         \u001b[38;5;124mf\u001b[39m\u001b[38;5;124m\"\u001b[39m\u001b[38;5;130;01m\\n\u001b[39;00m\u001b[38;5;132;01m{\u001b[39;00mestimator_name\u001b[38;5;132;01m}\u001b[39;00m\u001b[38;5;124m does not accept missing values\u001b[39m\u001b[38;5;124m\"\u001b[39m\n\u001b[1;32m    157\u001b[0m         \u001b[38;5;124m\"\u001b[39m\u001b[38;5;124m encoded as NaN natively. For supervised learning, you might want\u001b[39m\u001b[38;5;124m\"\u001b[39m\n\u001b[0;32m   (...)\u001b[0m\n\u001b[1;32m    167\u001b[0m         \u001b[38;5;124m\"\u001b[39m\u001b[38;5;124m#estimators-that-handle-nan-values\u001b[39m\u001b[38;5;124m\"\u001b[39m\n\u001b[1;32m    168\u001b[0m     )\n\u001b[0;32m--> 169\u001b[0m \u001b[38;5;28;01mraise\u001b[39;00m \u001b[38;5;167;01mValueError\u001b[39;00m(msg_err)\n",
      "\u001b[0;31mValueError\u001b[0m: Input X contains NaN.\nLinearRegression does not accept missing values encoded as NaN natively. For supervised learning, you might want to consider sklearn.ensemble.HistGradientBoostingClassifier and Regressor which accept missing values encoded as NaNs natively. Alternatively, it is possible to preprocess the data, for instance by using an imputer transformer in a pipeline or drop samples with missing values. See https://scikit-learn.org/stable/modules/impute.html You can find a list of all estimators that handle NaN values at the following page: https://scikit-learn.org/stable/modules/impute.html#estimators-that-handle-nan-values"
     ]
    }
   ],
   "source": [
    "import pandas as pd\n",
    "import numpy as np\n",
    "from sklearn.model_selection import train_test_split\n",
    "from sklearn.linear_model import LinearRegression\n",
    "from sklearn.metrics import mean_squared_error\n",
    "\n",
    "# Let's create a DataFrame with some missing values in a numerical column ('target_feature')\n",
    "data = {'feature1': [1, 2, 3, 4, 5, 6, np.nan, 8, 9, 10],\n",
    "        'feature2': [11, np.nan, 13, 14, 15, 16, 17, np.nan, 19, 20],\n",
    "        'target_feature': [21, 22, np.nan, 24, 25, 26, 27, np.nan, 29, 30]}\n",
    "df = pd.DataFrame(data)\n",
    "\n",
    "# Identify rows with missing values in the 'target_feature'\n",
    "missing_target = df[df['target_feature'].isnull()]\n",
    "non_missing_target = df[df['target_feature'].notnull()]\n",
    "\n",
    "print(\"Rows with missing 'target_feature':\\n\", missing_target)\n",
    "print(\"\\nRows with non-missing 'target_feature':\\n\", non_missing_target)\n",
    "\n",
    "# 1. Partition the data\n",
    "# Use the non-missing rows as the training set and the missing rows as the test set for prediction\n",
    "X_train = non_missing_target[['feature1', 'feature2']]\n",
    "y_train = non_missing_target['target_feature']\n",
    "X_test = missing_target[['feature1', 'feature2']]\n",
    "\n",
    "# 2. Train a model (using Linear Regression as an example)\n",
    "model = LinearRegression()\n",
    "model.fit(X_train, y_train)\n",
    "\n",
    "# 3. Impute missing values with predictions\n",
    "predicted_values = model.predict(X_test)\n",
    "\n",
    "# Create a copy of the original DataFrame to store the imputed values\n",
    "df_imputed_predictive = df.copy()\n",
    "\n",
    "# Fill the missing 'target_feature' values with the predictions\n",
    "df_imputed_predictive.loc[df_imputed_predictive['target_feature'].isnull(), 'target_feature'] = predicted_values\n",
    "\n",
    "print(\"\\nDataFrame after predictive imputation for 'target_feature':\\n\", df_imputed_predictive)\n",
    "\n",
    "# Evaluate the model (optional, but good practice if you have a way to validate)\n",
    "# If you had held out a portion of the non-missing data as a validation set, you could evaluate the model's performance.\n",
    "# For instance:\n",
    "# X_train_val, X_val, y_train_val, y_val = train_test_split(X_train, y_train, test_size=0.2, random_state=42)\n",
    "# model_eval = LinearRegression()\n",
    "# model_eval.fit(X_train_val, y_train_val)\n",
    "# predictions_val = model_eval.predict(X_val)\n",
    "# mse = mean_squared_error(y_val, predictions_val)\n",
    "# print(f\"\\nMean Squared Error on the validation set: {mse}\")"
   ]
  },
  {
   "cell_type": "code",
   "execution_count": null,
   "metadata": {},
   "outputs": [],
   "source": [
    "# Question: Handling Time Series Data with Forward and Backward Fill\n",
    "# Description: Impute missing values in a time series dataset using forward and backward fill methods.\n",
    "\n",
    "# Steps to follow:\n",
    "# 1. Sort the data: Ensure the dataset is sorted by dates.\n",
    "# 2. Use fillna() with method parameter: Apply ffill() and bfill() for forward and backward fill.\n",
    "\n"
   ]
  },
  {
   "cell_type": "code",
   "execution_count": null,
   "metadata": {},
   "outputs": [],
   "source": [
    "import pandas as pd\n",
    "import numpy as np\n",
    "\n",
    "# 1. Sort the data\n",
    "# Let's create a sample time series DataFrame with missing values\n",
    "data = {'date': pd.to_datetime(['2023-01-01', '2023-01-02', '2023-01-03', '2023-01-04',\n",
    "                                   '2023-01-05', '2023-01-06', '2023-01-07', '2023-01-08']),\n",
    "        'value': [10, np.nan, 12, np.nan, 15, 16, np.nan, 18]}\n",
    "df_time_series = pd.DataFrame(data)\n",
    "\n",
    "# Ensure the DataFrame is sorted by date (it already is in this example, but it's good practice to do explicitly)\n",
    "df_time_series.sort_values(by='date', inplace=True)\n",
    "df_time_series.set_index('date', inplace=True) # Set 'date' as index for time series operations\n",
    "\n",
    "print(\"Original Time Series DataFrame:\\n\", df_time_series)\n",
    "\n",
    "# 2. Use fillna() with method parameter\n",
    "\n",
    "# Forward Fill (ffill): Propagates the last valid observation forward to the next missing value.\n",
    "df_ffill = df_time_series.fillna(method='ffill')\n",
    "print(\"\\nTime Series DataFrame after Forward Fill (ffill):\\n\", df_ffill)\n",
    "\n",
    "# Backward Fill (bfill): Propagates the next valid observation backward to the previous missing value.\n",
    "df_bfill = df_time_series.fillna(method='bfill')\n",
    "print(\"\\nTime Series DataFrame after Backward Fill (bfill):\\n\", df_bfill)\n",
    "\n",
    "# You can also combine them. For example, fill with ffill and then any remaining NaNs with bfill\n",
    "df_combined_fill = df_time_series.fillna(method='ffill').fillna(method='bfill')\n",
    "print(\"\\nTime Series DataFrame after Combined Forward and Backward Fill:\\n\", df_combined_fill)"
   ]
  }
 ],
 "metadata": {
  "kernelspec": {
   "display_name": ".venv",
   "language": "python",
   "name": "python3"
  },
  "language_info": {
   "codemirror_mode": {
    "name": "ipython",
    "version": 3
   },
   "file_extension": ".py",
   "mimetype": "text/x-python",
   "name": "python",
   "nbconvert_exporter": "python",
   "pygments_lexer": "ipython3",
   "version": "3.10.12"
  }
 },
 "nbformat": 4,
 "nbformat_minor": 2
}
