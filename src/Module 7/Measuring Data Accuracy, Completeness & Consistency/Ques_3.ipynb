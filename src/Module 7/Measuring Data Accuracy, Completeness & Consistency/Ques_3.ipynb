{
 "cells": [
  {
   "cell_type": "markdown",
   "metadata": {},
   "source": [
    "## Compare Data Completeness Over Time\n",
    "\n",
    "**Description**: Analyze the trend of missing data in `\"sales_data.csv\"` over several months stored in a \"date\" column. Visualize missing data rates by month."
   ]
  },
  {
   "cell_type": "code",
   "execution_count": 1,
   "metadata": {},
   "outputs": [
    {
     "name": "stdout",
     "output_type": "stream",
     "text": [
      "\n",
      "--- Compare Data Completeness Over Time ---\n",
      "Error: The CSV file 'sales_data.csv' was not found: [Errno 2] No such file or directory: 'sales_data.csv'\n"
     ]
    }
   ],
   "source": [
    "# Write your code from here\n",
    "import pandas as pd\n",
    "import matplotlib.pyplot as plt\n",
    "\n",
    "print(\"\\n--- Compare Data Completeness Over Time ---\")\n",
    "try:\n",
    "    sales_data = pd.read_csv('sales_data.csv')\n",
    "\n",
    "    # Assuming your date column is named 'date'.\n",
    "    # If it's named differently, replace 'date' with the correct column name.\n",
    "    sales_data['date'] = pd.to_datetime(sales_data['date'])\n",
    "\n",
    "    # Extract the year and month\n",
    "    sales_data['year_month'] = sales_data['date'].dt.to_period('M')\n",
    "\n",
    "    # Calculate the total number of records per month\n",
    "    total_records_per_month = sales_data['year_month'].value_counts().sort_index()\n",
    "\n",
    "    # Calculate the number of missing values per month for all columns\n",
    "    missing_values_per_month = sales_data.groupby('year_month').apply(lambda x: x.isnull().sum())\n",
    "\n",
    "    # Calculate the total missing values per month\n",
    "    total_missing_per_month = missing_values_per_month.sum(axis=1)\n",
    "\n",
    "    # Calculate the percentage of missing values per month\n",
    "    missing_percentage_per_month = (total_missing_per_month / total_records_per_month) * 100\n",
    "\n",
    "    # Plot the missing data rates over time\n",
    "    plt.figure(figsize=(12, 6))\n",
    "    missing_percentage_per_month.plot(kind='line', marker='o')\n",
    "    plt.title('Missing Data Rate Over Time')\n",
    "    plt.xlabel('Month')\n",
    "    plt.ylabel('Percentage of Missing Data (%)')\n",
    "    plt.grid(True)\n",
    "    plt.xticks(rotation=45)\n",
    "    plt.tight_layout()\n",
    "    plt.show()\n",
    "\n",
    "    print(\"\\nMissing Data Rate per Month:\")\n",
    "    print(missing_percentage_per_month)\n",
    "\n",
    "except FileNotFoundError as e:\n",
    "    print(f\"Error: The CSV file 'sales_data.csv' was not found: {e}\")\n",
    "except KeyError as e:\n",
    "    print(f\"Error: The CSV file 'sales_data.csv' must contain a column named '{e}'. Please ensure a 'date' column exists.\")\n",
    "except Exception as e:\n",
    "    print(f\"An error occurred: {e}\")"
   ]
  }
 ],
 "metadata": {
  "kernelspec": {
   "display_name": ".venv",
   "language": "python",
   "name": "python3"
  },
  "language_info": {
   "codemirror_mode": {
    "name": "ipython",
    "version": 3
   },
   "file_extension": ".py",
   "mimetype": "text/x-python",
   "name": "python",
   "nbconvert_exporter": "python",
   "pygments_lexer": "ipython3",
   "version": "3.10.12"
  }
 },
 "nbformat": 4,
 "nbformat_minor": 2
}
