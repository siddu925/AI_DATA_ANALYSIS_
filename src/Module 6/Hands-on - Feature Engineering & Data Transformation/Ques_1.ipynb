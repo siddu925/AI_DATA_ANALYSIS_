{
 "cells": [
  {
   "cell_type": "code",
   "execution_count": 1,
   "metadata": {},
   "outputs": [],
   "source": [
    "# Detect & Remove Outliers using IQR Method\n",
    "\n",
    "# Objective: Learn to identify and remove outliers from a dataset using the Interquartile Range (IQR) method.\n",
    "# Instructions:\n",
    "# For each example, perform the following steps:\n",
    "#     1. Load the Dataset: Load the dataset into your environment. You can use pandas to read the CSV file.\n",
    "#     2. Calculate IQR: Calculate the first quartile (Q1), third quartile (Q3), and the IQR for the specified column.\n",
    "#     3. Identify Outliers: Determine which data points are considered outliers.\n",
    "#     4. Remove Outliers: Remove the outliers from the dataset.\n",
    "#     5. Verify: Ensure the outliers are removed by checking the size or summary statistics of the dataset before and after the removal.\n",
    "    \n",
    "    \n",
    "    \n",
    "\n",
    "# Task:\n",
    "#     Dataset: sales_data.csv(get it by your own it includes the column of Monthly_Sales)\n",
    "#     Column to analyze: Monthly_Sales\n",
    "#     Steps:\n",
    "#         1. Load sales_data.csv .\n",
    "#         2. Calculate Q1, Q3, and IQR for Monthly_Sales .\n",
    "#         3. Identify outliers.\n",
    "#         4. Remove the outliers.\n",
    "#         5. Check the number of rows removed.\n",
    "\n",
    "\n",
    "\n",
    "\n",
    "\n"
   ]
  },
  {
   "cell_type": "code",
   "execution_count": 2,
   "metadata": {},
   "outputs": [
    {
     "name": "stdout",
     "output_type": "stream",
     "text": [
      "Error: sales_data.csv not found. Please make sure the file is in the correct directory.\n"
     ]
    }
   ],
   "source": [
    "import pandas as pd\n",
    "\n",
    "# 1. Load the Dataset\n",
    "try:\n",
    "    df = pd.read_csv('sales_data.csv')\n",
    "    print(\"Dataset loaded successfully!\")\n",
    "\n",
    "    # 2. Calculate Q1, Q3, and IQR for Monthly_Sales\n",
    "    Q1 = df['Monthly_Sales'].quantile(0.25)\n",
    "    Q3 = df['Monthly_Sales'].quantile(0.75)\n",
    "    IQR = Q3 - Q1\n",
    "    print(f\"\\nQ1: {Q1}\")\n",
    "    print(f\"Q3: {Q3}\")\n",
    "    print(f\"IQR: {IQR}\")\n",
    "\n",
    "    # 3. Identify Outliers\n",
    "    lower_bound = Q1 - 1.5 * IQR\n",
    "    upper_bound = Q3 + 1.5 * IQR\n",
    "    outliers = df[(df['Monthly_Sales'] < lower_bound) | (df['Monthly_Sales'] > upper_bound)]\n",
    "    print(f\"\\nNumber of outliers found: {len(outliers)}\")\n",
    "    print(\"\\nOutliers:\")\n",
    "    print(outliers)\n",
    "\n",
    "    # 4. Remove the Outliers\n",
    "    df_cleaned = df[~((df['Monthly_Sales'] < lower_bound) | (df['Monthly_Sales'] > upper_bound))]\n",
    "\n",
    "    # 5. Check the number of rows removed\n",
    "    rows_removed = len(df) - len(df_cleaned)\n",
    "    print(f\"\\nNumber of rows in the original dataset: {len(df)}\")\n",
    "    print(f\"Number of rows in the dataset after removing outliers: {len(df_cleaned)}\")\n",
    "    print(f\"Number of outliers (rows) removed: {rows_removed}\")\n",
    "\n",
    "except FileNotFoundError:\n",
    "    print(\"Error: sales_data.csv not found. Please make sure the file is in the correct directory.\")"
   ]
  }
 ],
 "metadata": {
  "kernelspec": {
   "display_name": ".venv",
   "language": "python",
   "name": "python3"
  },
  "language_info": {
   "codemirror_mode": {
    "name": "ipython",
    "version": 3
   },
   "file_extension": ".py",
   "mimetype": "text/x-python",
   "name": "python",
   "nbconvert_exporter": "python",
   "pygments_lexer": "ipython3",
   "version": "3.10.12"
  }
 },
 "nbformat": 4,
 "nbformat_minor": 2
}
