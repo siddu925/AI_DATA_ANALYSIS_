{
 "cells": [
  {
   "cell_type": "markdown",
   "metadata": {},
   "source": [
    "## Validate Data Completeness for Critical Fields\n",
    "\n",
    "**Description**: In `transaction_data.csv` , calculate the missing percentage of critical fields: \"transaction_id\", \"amount\", and \"date\", and visualize them."
   ]
  },
  {
   "cell_type": "code",
   "execution_count": 1,
   "metadata": {},
   "outputs": [
    {
     "name": "stdout",
     "output_type": "stream",
     "text": [
      "\n",
      "--- Validate Data Completeness for Critical Fields ---\n",
      "Error: The CSV file 'transaction_data.csv' was not found: [Errno 2] No such file or directory: 'transaction_data.csv'\n"
     ]
    }
   ],
   "source": [
    "# Write your code from here\n",
    "import pandas as pd\n",
    "import matplotlib.pyplot as plt\n",
    "\n",
    "print(\"\\n--- Validate Data Completeness for Critical Fields ---\")\n",
    "try:\n",
    "    transaction_data = pd.read_csv('transaction_data.csv')\n",
    "\n",
    "    # Specify the critical fields to check for missing values\n",
    "    critical_fields = [\"transaction_id\", \"amount\", \"date\"]\n",
    "\n",
    "    # Calculate the total number of records\n",
    "    total_records = len(transaction_data)\n",
    "\n",
    "    # Calculate the number of missing values for each critical field\n",
    "    missing_counts = transaction_data[critical_fields].isnull().sum()\n",
    "\n",
    "    # Calculate the percentage of missing values for each critical field\n",
    "    missing_percentages = (missing_counts / total_records) * 100\n",
    "\n",
    "    # Visualize the missing percentages\n",
    "    plt.figure(figsize=(8, 6))\n",
    "    missing_percentages.sort_values(ascending=False).plot(kind='bar')\n",
    "    plt.title('Missing Percentage for Critical Fields')\n",
    "    plt.xlabel('Critical Fields')\n",
    "    plt.ylabel('Percentage of Missing Values (%)')\n",
    "    plt.xticks(rotation=45, ha='right')\n",
    "    plt.tight_layout()\n",
    "    plt.show()\n",
    "\n",
    "    print(\"\\nMissing Percentage for Critical Fields:\")\n",
    "    print(missing_percentages)\n",
    "\n",
    "except FileNotFoundError as e:\n",
    "    print(f\"Error: The CSV file 'transaction_data.csv' was not found: {e}\")\n",
    "except KeyError as e:\n",
    "    print(f\"Error: The CSV file 'transaction_data.csv' must contain the columns: {critical_fields}\")\n",
    "except Exception as e:\n",
    "    print(f\"An error occurred: {e}\")"
   ]
  }
 ],
 "metadata": {
  "kernelspec": {
   "display_name": ".venv",
   "language": "python",
   "name": "python3"
  },
  "language_info": {
   "codemirror_mode": {
    "name": "ipython",
    "version": 3
   },
   "file_extension": ".py",
   "mimetype": "text/x-python",
   "name": "python",
   "nbconvert_exporter": "python",
   "pygments_lexer": "ipython3",
   "version": "3.10.12"
  }
 },
 "nbformat": 4,
 "nbformat_minor": 2
}
