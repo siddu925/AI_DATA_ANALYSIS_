{
 "cells": [
  {
   "cell_type": "markdown",
   "metadata": {},
   "source": [
    "### Using NLP for Text Data Quality\n",
    "**Objective**: Enhance text data quality using NLP techniques.\n",
    "\n",
    "**Task**: Spelling Corrections\n",
    "\n",
    "**Steps**:\n",
    "1. Data Set: Import a dataset containing text reviews with spelling errors.\n",
    "2. Apply Corrections: Use a spell-checker from an NLP library to correct spelling mistakes.\n",
    "3. Verify Improvements: Review the corrections to ensure data quality improvement."
   ]
  },
  {
   "cell_type": "code",
   "execution_count": 1,
   "metadata": {},
   "outputs": [
    {
     "ename": "ModuleNotFoundError",
     "evalue": "No module named 'spellchecker'",
     "output_type": "error",
     "traceback": [
      "\u001b[0;31m---------------------------------------------------------------------------\u001b[0m",
      "\u001b[0;31mModuleNotFoundError\u001b[0m                       Traceback (most recent call last)",
      "Cell \u001b[0;32mIn[1], line 2\u001b[0m\n\u001b[1;32m      1\u001b[0m \u001b[38;5;28;01mimport\u001b[39;00m\u001b[38;5;250m \u001b[39m\u001b[38;5;21;01mpandas\u001b[39;00m\u001b[38;5;250m \u001b[39m\u001b[38;5;28;01mas\u001b[39;00m\u001b[38;5;250m \u001b[39m\u001b[38;5;21;01mpd\u001b[39;00m\n\u001b[0;32m----> 2\u001b[0m \u001b[38;5;28;01mfrom\u001b[39;00m\u001b[38;5;250m \u001b[39m\u001b[38;5;21;01mspellchecker\u001b[39;00m\u001b[38;5;250m \u001b[39m\u001b[38;5;28;01mimport\u001b[39;00m SpellChecker\n\u001b[1;32m      4\u001b[0m \u001b[38;5;66;03m# Step 1: Import a dataset containing text reviews with spelling errors.\u001b[39;00m\n\u001b[1;32m      5\u001b[0m \u001b[38;5;66;03m# Generate sample reviews with spelling errors\u001b[39;00m\n\u001b[1;32m      6\u001b[0m data \u001b[38;5;241m=\u001b[39m {\n\u001b[1;32m      7\u001b[0m     \u001b[38;5;124m'\u001b[39m\u001b[38;5;124mReview\u001b[39m\u001b[38;5;124m'\u001b[39m: [\n\u001b[1;32m      8\u001b[0m         \u001b[38;5;124m\"\u001b[39m\u001b[38;5;124mThe produckt was exellent and the delivry was fastt.\u001b[39m\u001b[38;5;124m\"\u001b[39m,\n\u001b[0;32m   (...)\u001b[0m\n\u001b[1;32m     18\u001b[0m     ]\n\u001b[1;32m     19\u001b[0m }\n",
      "\u001b[0;31mModuleNotFoundError\u001b[0m: No module named 'spellchecker'"
     ]
    }
   ],
   "source": [
    "import pandas as pd\n",
    "from spellchecker import SpellChecker\n",
    "\n",
    "# Step 1: Import a dataset containing text reviews with spelling errors.\n",
    "# Generate sample reviews with spelling errors\n",
    "data = {\n",
    "    'Review': [\n",
    "        \"The produckt was exellent and the delivry was fastt.\",\n",
    "        \"I am very satasfied with th service and qality.\",\n",
    "        \"The book was intersting but had a few typoess.\",\n",
    "        \"Great experince! I wuld recomend it to evryone.\",\n",
    "        \"The softwere is easy to us and very effecient.\",\n",
    "        \"The restaurent had amzing food and a gret ambianse.\",\n",
    "        \"I bought a new computr and it works perfictly.\",\n",
    "        \"The cloting material is very comfotable and durrable.\",\n",
    "        \"The teachr was very helpfull and knowledgable.\",\n",
    "        \"Overall, it was a pleasent expeirence.\"\n",
    "    ]\n",
    "}\n",
    "df = pd.DataFrame(data)\n",
    "\n",
    "print(\"Original DataFrame with Spelling Errors:\")\n",
    "print(df)\n",
    "\n",
    "# Step 2: Apply Corrections: Use a spell-checker from an NLP library to correct spelling mistakes.\n",
    "spell = SpellChecker()\n",
    "\n",
    "def correct_spellings(text):\n",
    "    words = text.split()\n",
    "    corrected_words = []\n",
    "    for word in words:\n",
    "        corrected_word = spell.correction(word)\n",
    "        if corrected_word is not None:\n",
    "            corrected_words.append(corrected_word)\n",
    "        else:\n",
    "            corrected_words.append(word) # Keep the original word if no correction found\n",
    "    return \" \".join(corrected_words)\n",
    "\n",
    "df['Corrected_Review'] = df['Review'].apply(correct_spellings)\n",
    "\n",
    "print(\"\\nDataFrame after Spelling Corrections:\")\n",
    "print(df)\n",
    "\n",
    "# Step 3: Verify Improvements: Review the corrections to ensure data quality improvement.\n",
    "print(\"\\nComparison of Original and Corrected Reviews:\")\n",
    "for index, row in df.iterrows():\n",
    "    print(f\"Original:  {row['Review']}\")\n",
    "    print(f\"Corrected: {row['Corrected_Review']}\")\n",
    "    print(\"-\" * 30)\n",
    "\n",
    "# Further analysis: Identifying words that were corrected\n",
    "def identify_corrected_words(original_text, corrected_text):\n",
    "    original_words = original_text.split()\n",
    "    corrected_words = corrected_text.split()\n",
    "    corrections = {}\n",
    "    for original, corrected in zip(original_words, corrected_words):\n",
    "        if original != corrected:\n",
    "            corrections[original] = corrected\n",
    "    return corrections\n",
    "\n",
    "df['Corrections'] = df.apply(lambda row: identify_corrected_words(row['Review'], row['Corrected_Review']), axis=1)\n",
    "print(\"\\nWords that were Corrected:\")\n",
    "print(df[['Review', 'Corrections']])"
   ]
  }
 ],
 "metadata": {
  "kernelspec": {
   "display_name": ".venv",
   "language": "python",
   "name": "python3"
  },
  "language_info": {
   "codemirror_mode": {
    "name": "ipython",
    "version": 3
   },
   "file_extension": ".py",
   "mimetype": "text/x-python",
   "name": "python",
   "nbconvert_exporter": "python",
   "pygments_lexer": "ipython3",
   "version": "3.10.12"
  }
 },
 "nbformat": 4,
 "nbformat_minor": 2
}
