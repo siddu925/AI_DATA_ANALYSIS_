{
 "cells": [
  {
   "cell_type": "markdown",
   "metadata": {},
   "source": [
    "## Isolation Forest for Anomaly Detection\n",
    "**Objective**: Understand and apply the Isolation Forest algorithm to identify anomalies in datasets.\n",
    "\n",
    "### Task: Anomaly Detection in Network Traffic\n",
    "**Steps**:\n",
    "1. Extract Features from Dataset:\n",
    "    - Load `network_traffic.csv` .\n",
    "2. Isolation Forest Model\n",
    "3. Display Anomalies"
   ]
  },
  {
   "cell_type": "code",
   "execution_count": 1,
   "metadata": {},
   "outputs": [
    {
     "name": "stdout",
     "output_type": "stream",
     "text": [
      "Error: The file 'network_traffic.csv' was not found. Please make sure the file is in the correct directory.\n"
     ]
    }
   ],
   "source": [
    "# Task: Anomaly Detection in Network Traffic\n",
    "# Steps:\n",
    "# 1. Extract Features from Dataset:\n",
    "#    - Load network_traffic.csv\n",
    "# 2. Isolation Forest Model\n",
    "# 3. Display Anomalies\n",
    "\n",
    "# 1. Extract Features from Dataset\n",
    "import pandas as pd\n",
    "from sklearn.ensemble import IsolationForest\n",
    "import matplotlib.pyplot as plt\n",
    "import seaborn as sns\n",
    "import numpy as np\n",
    "\n",
    "try:\n",
    "    # Load the network traffic dataset\n",
    "    df = pd.read_csv('network_traffic.csv')\n",
    "    print(\"Network traffic dataset loaded successfully:\")\n",
    "    print(df.head())\n",
    "\n",
    "    # Identify potential numerical features for anomaly detection\n",
    "    numerical_features = df.select_dtypes(include=np.number).columns.tolist()\n",
    "    print(\"\\nPotential numerical features:\", numerical_features)\n",
    "\n",
    "    # Let's select a few relevant numerical features for the Isolation Forest model\n",
    "    # You might need to adjust these based on your dataset's characteristics\n",
    "    selected_features = ['duration', 'src_bytes', 'dst_bytes', 'land', 'wrong_fragment', 'urgent']\n",
    "\n",
    "    # Ensure the selected features exist in the DataFrame\n",
    "    selected_features = [feature for feature in selected_features if feature in df.columns]\n",
    "\n",
    "    if not selected_features:\n",
    "        print(\"\\nNo suitable numerical features found for anomaly detection. Please inspect the dataset.\")\n",
    "    else:\n",
    "        X = df[selected_features]\n",
    "        print(\"\\nSelected features for Isolation Forest:\", selected_features)\n",
    "\n",
    "        # 2. Isolation Forest Model\n",
    "        # Initialize and fit the Isolation Forest model\n",
    "        model = IsolationForest(contamination='auto', random_state=42)\n",
    "        df['anomaly'] = model.fit_predict(X)\n",
    "        df['anomaly_label'] = df['anomaly'].map({1: 'Normal', -1: 'Anomaly'})\n",
    "\n",
    "        print(\"\\nAnomaly counts:\")\n",
    "        print(df['anomaly_label'].value_counts())\n",
    "        print(\"\\nAnomaly Data Points:\")\n",
    "        print(df[df['anomaly'] == -1].head())\n",
    "\n",
    "        # 3. Display Anomalies\n",
    "        # Visualize anomalies using a pair plot of the selected numerical features\n",
    "        if len(selected_features) >= 2:\n",
    "            sns.pairplot(df[selected_features + ['anomaly_label']], hue='anomaly_label', palette={'Normal': 'blue', 'Anomaly': 'red'})\n",
    "            plt.suptitle('Anomaly Detection in Network Traffic', y=1.02)\n",
    "            plt.show()\n",
    "        elif len(selected_features) == 1:\n",
    "            plt.figure(figsize=(10, 6))\n",
    "            sns.histplot(data=df, x=selected_features[0], hue='anomaly_label', palette={'Normal': 'blue', 'Anomaly': 'red'}, multiple=\"stack\")\n",
    "            plt.title(f'Anomaly Distribution for {selected_features[0]}')\n",
    "            plt.xlabel(selected_features[0])\n",
    "            plt.ylabel('Frequency')\n",
    "            plt.show()\n",
    "        else:\n",
    "            print(\"\\nNot enough numerical features selected for visualization.\")\n",
    "\n",
    "except FileNotFoundError:\n",
    "    print(\"Error: The file 'network_traffic.csv' was not found. Please make sure the file is in the correct directory.\")\n",
    "except Exception as e:\n",
    "    print(f\"An error occurred: {e}\")"
   ]
  }
 ],
 "metadata": {
  "kernelspec": {
   "display_name": ".venv",
   "language": "python",
   "name": "python3"
  },
  "language_info": {
   "codemirror_mode": {
    "name": "ipython",
    "version": 3
   },
   "file_extension": ".py",
   "mimetype": "text/x-python",
   "name": "python",
   "nbconvert_exporter": "python",
   "pygments_lexer": "ipython3",
   "version": "3.10.12"
  }
 },
 "nbformat": 4,
 "nbformat_minor": 2
}
