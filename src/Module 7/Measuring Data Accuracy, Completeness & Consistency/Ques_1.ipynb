{
 "cells": [
  {
   "cell_type": "markdown",
   "metadata": {},
   "source": [
    "### Task 1: Measure Data Accuracy using a Trusted Source\n",
    "\n",
    "**Description**: You have two datasets of product prices: `company_prices.csv` and\n",
    "`trusted_prices.csv` . Check if the prices in `company_prices.csv` match the prices in\n",
    "`trusted_prices.csv` . Assume both files have a \"product_id\" and \"price\" column."
   ]
  },
  {
   "cell_type": "code",
   "execution_count": 6,
   "metadata": {},
   "outputs": [],
   "source": [
    "# Write your code from here"
   ]
  },
  {
   "cell_type": "markdown",
   "metadata": {},
   "source": [
    "### Task 2: Detect Incorrect Values\n",
    "\n",
    "**Description**: In `company_prices.csv` , detect any negative price values which are incorrect values for prices."
   ]
  },
  {
   "cell_type": "code",
   "execution_count": 7,
   "metadata": {},
   "outputs": [],
   "source": [
    "# Write your code from here"
   ]
  },
  {
   "cell_type": "markdown",
   "metadata": {},
   "source": [
    "### Task 3: Check Missing Data Rates\n",
    "\n",
    "**Description**: Calculate the percentage of missing values in `customer_data.csv` ."
   ]
  },
  {
   "cell_type": "code",
   "execution_count": 8,
   "metadata": {},
   "outputs": [],
   "source": [
    "# Write your code from here"
   ]
  },
  {
   "cell_type": "markdown",
   "metadata": {},
   "source": [
    "### Task 4: Handling Partially Available Records\n",
    "\n",
    "**Description**: In `customer_data.csv` , identify records with missing \"email\" or \"phone number\" and decide whether to drop or fill them."
   ]
  },
  {
   "cell_type": "code",
   "execution_count": 9,
   "metadata": {},
   "outputs": [],
   "source": [
    "# Write your code from here"
   ]
  },
  {
   "cell_type": "code",
   "execution_count": 10,
   "metadata": {},
   "outputs": [
    {
     "name": "stdout",
     "output_type": "stream",
     "text": [
      "\n",
      "--- Task 1: Measure Data Accuracy ---\n",
      "Error: One or both of the CSV files were not found: [Errno 2] No such file or directory: 'YOUR_PATH_TO/company_prices.csv'\n",
      "\n",
      "--- Task 2: Detect Incorrect Values ---\n",
      "Error: The CSV file was not found: [Errno 2] No such file or directory: 'YOUR_PATH_TO/company_prices.csv'\n",
      "\n",
      "--- Task 3: Check Missing Data Rates ---\n",
      "Error: The CSV file was not found: [Errno 2] No such file or directory: 'YOUR_PATH_TO/customer_data.csv'\n",
      "\n",
      "--- Task 4: Handling Partially Available Records ---\n",
      "Error: The CSV file was not found: [Errno 2] No such file or directory: 'YOUR_PATH_TO/customer_data.csv'\n"
     ]
    }
   ],
   "source": [
    "import pandas as pd\n",
    "\n",
    "# --- Task 1: Measure Data Accuracy using a Trusted Source ---\n",
    "print(\"\\n--- Task 1: Measure Data Accuracy ---\")\n",
    "try:\n",
    "    company_prices = pd.read_csv('YOUR_PATH_TO/company_prices.csv')\n",
    "    trusted_prices = pd.read_csv('YOUR_PATH_TO/trusted_prices.csv')\n",
    "\n",
    "    # Merge the two dataframes on 'product_id'\n",
    "    merged_df = pd.merge(company_prices, trusted_prices, on='product_id', suffixes=('_company', '_trusted'))\n",
    "\n",
    "    # Compare the 'price' columns\n",
    "    accuracy_df = merged_df[merged_df['price_company'] != merged_df['price_trusted']]\n",
    "\n",
    "    if accuracy_df.empty:\n",
    "        print(\"All prices in 'company_prices.csv' match the prices in 'trusted_prices.csv'\")\n",
    "    else:\n",
    "        accuracy_percentage = (len(merged_df) - len(accuracy_df)) / len(merged_df) * 100\n",
    "        print(f\"Accuracy of 'company_prices.csv' compared to 'trusted_prices.csv': {accuracy_percentage:.2f}%\")\n",
    "        print(\"Mismatched prices:\")\n",
    "        print(accuracy_df[['product_id', 'price_company', 'price_trusted']])\n",
    "\n",
    "except FileNotFoundError as e:\n",
    "    print(f\"Error: One or both of the CSV files were not found: {e}\")\n",
    "except KeyError as e:\n",
    "    print(f\"Error: The CSV files must contain a column named '{e}'.\")\n",
    "\n",
    "\n",
    "# --- Task 2: Detect Incorrect Values ---\n",
    "print(\"\\n--- Task 2: Detect Incorrect Values ---\")\n",
    "try:\n",
    "    company_prices = pd.read_csv('YOUR_PATH_TO/company_prices.csv')\n",
    "\n",
    "    # Detect negative price values\n",
    "    incorrect_prices = company_prices[company_prices['price'] < 0]\n",
    "\n",
    "    if incorrect_prices.empty:\n",
    "        print(\"No negative price values found in 'company_prices.csv'\")\n",
    "    else:\n",
    "        print(\"Negative price values found in 'company_prices.csv':\")\n",
    "        print(incorrect_prices)\n",
    "\n",
    "except FileNotFoundError as e:\n",
    "    print(f\"Error: The CSV file was not found: {e}\")\n",
    "except KeyError as e:\n",
    "    print(f\"Error: The CSV file must contain a column named '{e}'.\")\n",
    "\n",
    "\n",
    "# --- Task 3: Check Missing Data Rates ---\n",
    "print(\"\\n--- Task 3: Check Missing Data Rates ---\")\n",
    "try:\n",
    "    customer_data = pd.read_csv('YOUR_PATH_TO/customer_data.csv')\n",
    "\n",
    "    # Calculate the percentage of missing values for each column\n",
    "    missing_percentage = (customer_data.isnull().sum() / len(customer_data)) * 100\n",
    "\n",
    "    print(\"Percentage of missing values in 'customer_data.csv':\")\n",
    "    print(missing_percentage)\n",
    "\n",
    "except FileNotFoundError as e:\n",
    "    print(f\"Error: The CSV file was not found: {e}\")\n",
    "\n",
    "\n",
    "# --- Task 4: Handling Partially Available Records ---\n",
    "print(\"\\n--- Task 4: Handling Partially Available Records ---\")\n",
    "try:\n",
    "    customer_data = pd.read_csv('YOUR_PATH_TO/customer_data.csv')\n",
    "\n",
    "    # Identify records with missing 'email' or 'phone number'\n",
    "    missing_email_phone = customer_data[customer_data['email'].isnull() | customer_data['phone number'].isnull()]\n",
    "\n",
    "    if missing_email_phone.empty:\n",
    "        print(\"No records found with missing 'email' or 'phone number' in 'customer_data.csv'\")\n",
    "    else:\n",
    "        print(\"Records with missing 'email' or 'phone number':\")\n",
    "        print(missing_email_phone)\n",
    "\n",
    "        # Decide whether to drop or fill these records (example: dropping)\n",
    "        print(\"\\nDeciding to drop records with missing 'email' or 'phone number' for this example.\")\n",
    "        customer_data_cleaned = customer_data.dropna(subset=['email', 'phone number'])\n",
    "        print(f\"Shape of original data: {customer_data.shape}\")\n",
    "        print(f\"Shape of data after dropping missing 'email' or 'phone number': {customer_data_cleaned.shape}\")\n",
    "\n",
    "except FileNotFoundError as e:\n",
    "    print(f\"Error: The CSV file was not found: {e}\")\n",
    "except KeyError as e:\n",
    "    print(f\"Error: The CSV file must contain columns named '{e}'.\")"
   ]
  }
 ],
 "metadata": {
  "kernelspec": {
   "display_name": ".venv",
   "language": "python",
   "name": "python3"
  },
  "language_info": {
   "codemirror_mode": {
    "name": "ipython",
    "version": 3
   },
   "file_extension": ".py",
   "mimetype": "text/x-python",
   "name": "python",
   "nbconvert_exporter": "python",
   "pygments_lexer": "ipython3",
   "version": "3.10.12"
  }
 },
 "nbformat": 4,
 "nbformat_minor": 2
}
