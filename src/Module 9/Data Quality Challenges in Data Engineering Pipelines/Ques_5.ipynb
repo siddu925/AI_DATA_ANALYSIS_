{
 "cells": [
  {
   "cell_type": "markdown",
   "metadata": {},
   "source": [
    "### Implementing Data Validation using Protobuf in a Distributed System\n",
    "**Description**: Use gRPC to implement a distributed system that validates messages using\n",
    "Protobuf.\n",
    "\n",
    "**Steps**:\n",
    "1. Create a .proto file for gRPC service.\n",
    "2. Implement server-side validation\n",
    "    - Create a gRPC server\n",
    "    - Bind the server to an address\n",
    "    - Start server"
   ]
  },
  {
   "cell_type": "code",
   "execution_count": 2,
   "metadata": {},
   "outputs": [
    {
     "name": "stdout",
     "output_type": "stream",
     "text": [
      "Collecting grpcio\n",
      "  Downloading grpcio-1.71.0-cp310-cp310-manylinux_2_17_x86_64.manylinux2014_x86_64.whl.metadata (3.8 kB)\n",
      "Collecting grpcio-tools\n",
      "  Downloading grpcio_tools-1.71.0-cp310-cp310-manylinux_2_17_x86_64.manylinux2014_x86_64.whl.metadata (5.3 kB)\n",
      "Collecting protobuf\n",
      "  Downloading protobuf-6.31.0-cp39-abi3-manylinux2014_x86_64.whl.metadata (593 bytes)\n",
      "  Downloading protobuf-5.29.4-cp38-abi3-manylinux2014_x86_64.whl.metadata (592 bytes)\n",
      "Requirement already satisfied: setuptools in /workspaces/AI_DATA_ANALYSIS_/.venv/lib/python3.10/site-packages (from grpcio-tools) (65.5.0)\n",
      "Downloading grpcio-1.71.0-cp310-cp310-manylinux_2_17_x86_64.manylinux2014_x86_64.whl (5.9 MB)\n",
      "\u001b[2K   \u001b[90m━━━━━━━━━━━━━━━━━━━━━━━━━━━━━━━━━━━━━━━━\u001b[0m \u001b[32m5.9/5.9 MB\u001b[0m \u001b[31m18.2 MB/s\u001b[0m eta \u001b[36m0:00:00\u001b[0ma \u001b[36m0:00:01\u001b[0m\n",
      "\u001b[?25hDownloading grpcio_tools-1.71.0-cp310-cp310-manylinux_2_17_x86_64.manylinux2014_x86_64.whl (2.5 MB)\n",
      "\u001b[2K   \u001b[90m━━━━━━━━━━━━━━━━━━━━━━━━━━━━━━━━━━━━━━━━\u001b[0m \u001b[32m2.5/2.5 MB\u001b[0m \u001b[31m52.1 MB/s\u001b[0m eta \u001b[36m0:00:00\u001b[0m\n",
      "\u001b[?25hDownloading protobuf-5.29.4-cp38-abi3-manylinux2014_x86_64.whl (319 kB)\n",
      "Installing collected packages: protobuf, grpcio, grpcio-tools\n",
      "\u001b[2K   \u001b[90m━━━━━━━━━━━━━━━━━━━━━━━━━━━━━━━━━━━━━━━━\u001b[0m \u001b[32m3/3\u001b[0m [grpcio-tools][0m [grpcio-tools]\n",
      "\u001b[1A\u001b[2KSuccessfully installed grpcio-1.71.0 grpcio-tools-1.71.0 protobuf-5.29.4\n",
      "Note: you may need to restart the kernel to use updated packages.\n"
     ]
    }
   ],
   "source": [
    "pip install grpcio grpcio-tools protobuf"
   ]
  },
  {
   "cell_type": "code",
   "execution_count": 3,
   "metadata": {},
   "outputs": [
    {
     "ename": "SyntaxError",
     "evalue": "invalid syntax (2125043051.py, line 3)",
     "output_type": "error",
     "traceback": [
      "\u001b[0;36m  Cell \u001b[0;32mIn[3], line 3\u001b[0;36m\u001b[0m\n\u001b[0;31m    package validator;\u001b[0m\n\u001b[0m            ^\u001b[0m\n\u001b[0;31mSyntaxError\u001b[0m\u001b[0;31m:\u001b[0m invalid syntax\n"
     ]
    }
   ],
   "source": [
    "syntax = \"proto3\";\n",
    "\n",
    "package validator;\n",
    "\n",
    "message UserRequest {\n",
    "  string name = 1;\n",
    "  int32 age = 2;\n",
    "  string email = 3;\n",
    "}\n",
    "\n",
    "message ValidationResponse {\n",
    "  bool is_valid = 1;\n",
    "  string error_message = 2;\n",
    "}\n",
    "\n",
    "service DataValidator {\n",
    "  rpc ValidateUser(UserRequest) returns (ValidationResponse);\n",
    "}"
   ]
  },
  {
   "cell_type": "code",
   "execution_count": 4,
   "metadata": {},
   "outputs": [
    {
     "ename": "SyntaxError",
     "evalue": "invalid syntax (516342560.py, line 1)",
     "output_type": "error",
     "traceback": [
      "\u001b[0;36m  Cell \u001b[0;32mIn[4], line 1\u001b[0;36m\u001b[0m\n\u001b[0;31m    python -m grpc_tools.protoc --proto_path=. --python_out=. --grpc_python_out=. validator.proto\u001b[0m\n\u001b[0m              ^\u001b[0m\n\u001b[0;31mSyntaxError\u001b[0m\u001b[0;31m:\u001b[0m invalid syntax\n"
     ]
    }
   ],
   "source": [
    "python -m grpc_tools.protoc --proto_path=. --python_out=. --grpc_python_out=. validator.proto"
   ]
  },
  {
   "cell_type": "code",
   "execution_count": 5,
   "metadata": {},
   "outputs": [
    {
     "ename": "ModuleNotFoundError",
     "evalue": "No module named 'validator_pb2'",
     "output_type": "error",
     "traceback": [
      "\u001b[0;31m---------------------------------------------------------------------------\u001b[0m",
      "\u001b[0;31mModuleNotFoundError\u001b[0m                       Traceback (most recent call last)",
      "Cell \u001b[0;32mIn[5], line 5\u001b[0m\n\u001b[1;32m      3\u001b[0m \u001b[38;5;28;01mimport\u001b[39;00m\u001b[38;5;250m \u001b[39m\u001b[38;5;21;01mtime\u001b[39;00m\n\u001b[1;32m      4\u001b[0m \u001b[38;5;28;01mimport\u001b[39;00m\u001b[38;5;250m \u001b[39m\u001b[38;5;21;01mre\u001b[39;00m\n\u001b[0;32m----> 5\u001b[0m \u001b[38;5;28;01mfrom\u001b[39;00m\u001b[38;5;250m \u001b[39m\u001b[38;5;21;01mvalidator_pb2\u001b[39;00m\u001b[38;5;250m \u001b[39m\u001b[38;5;28;01mimport\u001b[39;00m UserRequest, ValidationResponse\n\u001b[1;32m      6\u001b[0m \u001b[38;5;28;01mfrom\u001b[39;00m\u001b[38;5;250m \u001b[39m\u001b[38;5;21;01mvalidator_pb2_grpc\u001b[39;00m\u001b[38;5;250m \u001b[39m\u001b[38;5;28;01mimport\u001b[39;00m DataValidatorServicer, add_DataValidatorServicer_to_server\n\u001b[1;32m      8\u001b[0m \u001b[38;5;28;01mclass\u001b[39;00m\u001b[38;5;250m \u001b[39m\u001b[38;5;21;01mDataValidatorService\u001b[39;00m(DataValidatorServicer):\n",
      "\u001b[0;31mModuleNotFoundError\u001b[0m: No module named 'validator_pb2'"
     ]
    }
   ],
   "source": [
    "import grpc\n",
    "from concurrent import futures\n",
    "import time\n",
    "import re\n",
    "from validator_pb2 import UserRequest, ValidationResponse\n",
    "from validator_pb2_grpc import DataValidatorServicer, add_DataValidatorServicer_to_server\n",
    "\n",
    "class DataValidatorService(DataValidatorServicer):\n",
    "    def ValidateUser(self, request, context):\n",
    "        is_valid = True\n",
    "        error_message = \"\"\n",
    "\n",
    "        if not request.name:\n",
    "            is_valid = False\n",
    "            error_message += \"Name cannot be empty. \"\n",
    "        elif not re.match(r\"^[a-zA-Z\\s]+$\", request.name):\n",
    "            is_valid = False\n",
    "            error_message += \"Name must contain only letters and spaces. \"\n",
    "\n",
    "        if request.age < 0 or request.age > 150:\n",
    "            is_valid = False\n",
    "            error_message += \"Age must be between 0 and 150. \"\n",
    "\n",
    "        if not re.match(r\"[^@]+@[^@]+\\.[^@]+\", request.email):\n",
    "            is_valid = False\n",
    "            error_message += \"Invalid email format. \"\n",
    "\n",
    "        return ValidationResponse(is_valid=is_valid, error_message=error_message)\n",
    "\n",
    "def serve():\n",
    "    server = grpc.server(futures.ThreadPoolExecutor(max_workers=10))\n",
    "    add_DataValidatorServicer_to_server(DataValidatorService(), server)\n",
    "    server.add_insecure_port('[::]:50051')\n",
    "    server.start()\n",
    "    print(\"Server started on port 50051.\")\n",
    "    try:\n",
    "        while True:\n",
    "            time.sleep(86400)  # Keep the server running for a day\n",
    "    except KeyboardInterrupt:\n",
    "        server.stop(0)\n",
    "\n",
    "if __name__ == '__main__':\n",
    "    serve()"
   ]
  },
  {
   "cell_type": "code",
   "execution_count": 6,
   "metadata": {},
   "outputs": [
    {
     "ename": "ModuleNotFoundError",
     "evalue": "No module named 'validator_pb2'",
     "output_type": "error",
     "traceback": [
      "\u001b[0;31m---------------------------------------------------------------------------\u001b[0m",
      "\u001b[0;31mModuleNotFoundError\u001b[0m                       Traceback (most recent call last)",
      "Cell \u001b[0;32mIn[6], line 2\u001b[0m\n\u001b[1;32m      1\u001b[0m \u001b[38;5;28;01mimport\u001b[39;00m\u001b[38;5;250m \u001b[39m\u001b[38;5;21;01mgrpc\u001b[39;00m\n\u001b[0;32m----> 2\u001b[0m \u001b[38;5;28;01mfrom\u001b[39;00m\u001b[38;5;250m \u001b[39m\u001b[38;5;21;01mvalidator_pb2\u001b[39;00m\u001b[38;5;250m \u001b[39m\u001b[38;5;28;01mimport\u001b[39;00m UserRequest\n\u001b[1;32m      3\u001b[0m \u001b[38;5;28;01mfrom\u001b[39;00m\u001b[38;5;250m \u001b[39m\u001b[38;5;21;01mvalidator_pb2_grpc\u001b[39;00m\u001b[38;5;250m \u001b[39m\u001b[38;5;28;01mimport\u001b[39;00m DataValidatorStub\n\u001b[1;32m      5\u001b[0m \u001b[38;5;28;01mdef\u001b[39;00m\u001b[38;5;250m \u001b[39m\u001b[38;5;21mrun_client\u001b[39m():\n",
      "\u001b[0;31mModuleNotFoundError\u001b[0m: No module named 'validator_pb2'"
     ]
    }
   ],
   "source": [
    "import grpc\n",
    "from validator_pb2 import UserRequest\n",
    "from validator_pb2_grpc import DataValidatorStub\n",
    "\n",
    "def run_client():\n",
    "    with grpc.insecure_channel('localhost:50051') as channel:\n",
    "        stub = DataValidatorStub(channel)\n",
    "\n",
    "        # Valid request\n",
    "        user1 = UserRequest(name='John Doe', age=30, email='john.doe@example.com')\n",
    "        response1 = stub.ValidateUser(user1)\n",
    "        print(f\"Validation for User 1: Is Valid = {response1.is_valid}, Error = '{response1.error_message}'\")\n",
    "\n",
    "        # Invalid request (empty name)\n",
    "        user2 = UserRequest(name='', age=25, email='jane@example.com')\n",
    "        response2 = stub.ValidateUser(user2)\n",
    "        print(f\"Validation for User 2: Is Valid = {response2.is_valid}, Error = '{response2.error_message}'\")\n",
    "\n",
    "        # Invalid request (invalid age)\n",
    "        user3 = UserRequest(name='Peter Pan', age=200, email='peter@neverland.com')\n",
    "        response3 = stub.ValidateUser(user3)\n",
    "        print(f\"Validation for User 3: Is Valid = {response3.is_valid}, Error = '{response3.error_message}'\")\n",
    "\n",
    "        # Invalid request (invalid email)\n",
    "        user4 = UserRequest(name='Alice', age=28, email='alice.invalid')\n",
    "        response4 = stub.ValidateUser(user4)\n",
    "        print(f\"Validation for User 4: Is Valid = {response4.is_valid}, Error = '{response4.error_message}'\")\n",
    "\n",
    "if __name__ == '__main__':\n",
    "    run_client()"
   ]
  },
  {
   "cell_type": "code",
   "execution_count": null,
   "metadata": {},
   "outputs": [],
   "source": []
  }
 ],
 "metadata": {
  "kernelspec": {
   "display_name": ".venv",
   "language": "python",
   "name": "python3"
  },
  "language_info": {
   "codemirror_mode": {
    "name": "ipython",
    "version": 3
   },
   "file_extension": ".py",
   "mimetype": "text/x-python",
   "name": "python",
   "nbconvert_exporter": "python",
   "pygments_lexer": "ipython3",
   "version": "3.10.12"
  }
 },
 "nbformat": 4,
 "nbformat_minor": 2
}
