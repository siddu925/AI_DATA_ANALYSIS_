{
 "cells": [
  {
   "cell_type": "markdown",
   "metadata": {},
   "source": [
    "### Detect Data Drift using Kolmogorov-Smirnov Test\n",
    "**Description**: Use statistical tests to detect data drift between two datasets."
   ]
  },
  {
   "cell_type": "code",
   "execution_count": 1,
   "metadata": {},
   "outputs": [
    {
     "name": "stdout",
     "output_type": "stream",
     "text": [
      "KS Statistic: 0.1220\n",
      "P-value: 0.0000\n",
      "Reject the null hypothesis: Significant data drift detected.\n"
     ]
    }
   ],
   "source": [
    "import numpy as np\n",
    "from scipy.stats import ks_2samp\n",
    "\n",
    "# Generate two sample datasets (replace with your actual data)\n",
    "np.random.seed(42)  # for reproducibility\n",
    "baseline_data = np.random.normal(loc=0, scale=1, size=1000)\n",
    "current_data = np.random.normal(loc=0.2, scale=1.1, size=1000)\n",
    "\n",
    "# Perform the Kolmogorov-Smirnov test\n",
    "statistic, pvalue = ks_2samp(baseline_data, current_data)\n",
    "\n",
    "print(f\"KS Statistic: {statistic:.4f}\")\n",
    "print(f\"P-value: {pvalue:.4f}\")\n",
    "\n",
    "# Set a significance level (alpha)\n",
    "alpha = 0.05\n",
    "\n",
    "# Interpret the results\n",
    "if pvalue < alpha:\n",
    "    print(\"Reject the null hypothesis: Significant data drift detected.\")\n",
    "else:\n",
    "    print(\"Fail to reject the null hypothesis: No significant data drift detected.\")"
   ]
  }
 ],
 "metadata": {
  "kernelspec": {
   "display_name": ".venv",
   "language": "python",
   "name": "python3"
  },
  "language_info": {
   "codemirror_mode": {
    "name": "ipython",
    "version": 3
   },
   "file_extension": ".py",
   "mimetype": "text/x-python",
   "name": "python",
   "nbconvert_exporter": "python",
   "pygments_lexer": "ipython3",
   "version": "3.10.12"
  }
 },
 "nbformat": 4,
 "nbformat_minor": 2
}
