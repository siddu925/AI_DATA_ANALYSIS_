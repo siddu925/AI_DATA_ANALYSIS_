{
 "cells": [
  {
   "cell_type": "markdown",
   "metadata": {},
   "source": [
    "gfhfh"
   ]
  },
  {
   "cell_type": "code",
   "execution_count": 1,
   "metadata": {},
   "outputs": [],
   "source": [
    "# Activity 2: Dealing with Duplicates & Redundancy\n",
    "\n",
    "# Task A: Identifying Duplicate Records\n",
    "\n",
    "# 7. Identify Complete Duplicates:\n",
    "# - Load a dataset and identify duplicated rows.\n",
    "# - Use Pandas to detect duplicates.\n",
    "\n",
    "\n",
    "\n",
    "\n",
    "\n",
    "\n",
    "# 8. Identify Duplicates based on Specific Columns:\n",
    "# - Check for duplicates in specified columns.\n",
    "\n",
    "\n",
    "\n",
    "\n",
    "\n",
    "\n",
    "\n",
    "# 9. Count Duplicate Rows:\n",
    "# - Calculate and print the number of duplicate rows.\n",
    "\n",
    "\n",
    "\n",
    "\n",
    "\n"
   ]
  },
  {
   "cell_type": "code",
   "execution_count": null,
   "metadata": {},
   "outputs": [
    {
     "name": "stdout",
     "output_type": "stream",
     "text": [
      "Error: 'employees_mean_imputed.csv' not found. Please make sure the file is in the correct directory.\n",
      "--- Original Dataset (for Duplicate Identification) ---\n"
     ]
    },
    {
     "ename": "NameError",
     "evalue": "name 'df' is not defined",
     "output_type": "error",
     "traceback": [
      "\u001b[0;31m---------------------------------------------------------------------------\u001b[0m",
      "\u001b[0;31mNameError\u001b[0m                                 Traceback (most recent call last)",
      "Cell \u001b[0;32mIn[2], line 11\u001b[0m\n\u001b[1;32m      8\u001b[0m     exit()\n\u001b[1;32m     10\u001b[0m \u001b[38;5;28mprint\u001b[39m(\u001b[38;5;124m\"\u001b[39m\u001b[38;5;124m--- Original Dataset (for Duplicate Identification) ---\u001b[39m\u001b[38;5;124m\"\u001b[39m)\n\u001b[0;32m---> 11\u001b[0m \u001b[38;5;28mprint\u001b[39m(\u001b[43mdf\u001b[49m)\n\u001b[1;32m     13\u001b[0m \u001b[38;5;66;03m# 7. Identify Complete Duplicates\u001b[39;00m\n\u001b[1;32m     14\u001b[0m \u001b[38;5;28mprint\u001b[39m(\u001b[38;5;124m\"\u001b[39m\u001b[38;5;130;01m\\n\u001b[39;00m\u001b[38;5;124m--- 7. Identify Complete Duplicates ---\u001b[39m\u001b[38;5;124m\"\u001b[39m)\n",
      "\u001b[0;31mNameError\u001b[0m: name 'df' is not defined"
     ]
    },
    {
     "ename": "",
     "evalue": "",
     "output_type": "error",
     "traceback": [
      "\u001b[1;31mThe Kernel crashed while executing code in the current cell or a previous cell. \n",
      "\u001b[1;31mPlease review the code in the cell(s) to identify a possible cause of the failure. \n",
      "\u001b[1;31mClick <a href='https://aka.ms/vscodeJupyterKernelCrash'>here</a> for more info. \n",
      "\u001b[1;31mView Jupyter <a href='command:jupyter.viewOutput'>log</a> for further details."
     ]
    }
   ],
   "source": [
    "import pandas as pd\n",
    "\n",
    "# Load a dataset (replace 'your_data.csv' with your actual file)\n",
    "try:\n",
    "    df = pd.read_csv('employees_mean_imputed.csv') # Using a previously modified dataset for example\n",
    "except FileNotFoundError:\n",
    "    print(\"Error: 'employees_mean_imputed.csv' not found. Please make sure the file is in the correct directory.\")\n",
    "    exit()\n",
    "\n",
    "print(\"--- Original Dataset (for Duplicate Identification) ---\")\n",
    "print(df)\n",
    "\n",
    "# 7. Identify Complete Duplicates\n",
    "print(\"\\n--- 7. Identify Complete Duplicates ---\")\n",
    "complete_duplicates = df[df.duplicated()]\n",
    "print(\"Complete Duplicate Rows:\")\n",
    "print(complete_duplicates)\n",
    "\n",
    "# 8. Identify Duplicates based on Specific Columns\n",
    "print(\"\\n--- 8. Identify Duplicates based on Specific Columns (e.g., 'Name' and 'Email' - if present, using 'Name' for example) ---\")\n",
    "duplicates_by_name = df[df.duplicated(subset=['Name'], keep=False)]\n",
    "print(\"Duplicate Rows based on 'Name':\")\n",
    "print(duplicates_by_name)\n",
    "\n",
    "# 9. Count Duplicate Rows\n",
    "print(\"\\n--- 9. Count Duplicate Rows ---\")\n",
    "num_complete_duplicates = df.duplicated().sum()\n",
    "print(f\"Number of Complete Duplicate Rows: {num_complete_duplicates}\")\n",
    "\n",
    "num_duplicates_by_name = df.duplicated(subset=['Name'], keep=False).sum() // 2 # Divide by 2 to count unique duplicate sets\n",
    "print(f\"Number of Duplicate Sets based on 'Name': {num_duplicates_by_name}\")"
   ]
  },
  {
   "cell_type": "code",
   "execution_count": null,
   "metadata": {},
   "outputs": [],
   "source": [
    "# Task B: Deduplication Techniques\n",
    "\n",
    "# 10. Remove Complete Duplicates:\n",
    "# - Drop duplicate rows and keep only the first occurrence.\n",
    "\n",
    "\n",
    "\n",
    "\n",
    "\n",
    "\n",
    "# 11. Subset Deduplication:\n",
    "# - Remove duplicates based on a subset of columns.\n",
    "\n",
    "\n",
    "\n",
    "\n",
    "\n",
    "\n",
    "# 12. Keep Last Occurrence:\n",
    "# - Drop duplicates but keep the last occurrence in the dataset.\n",
    "\n",
    "\n",
    "\n",
    "\n",
    "\n"
   ]
  },
  {
   "cell_type": "code",
   "execution_count": null,
   "metadata": {},
   "outputs": [],
   "source": [
    "import pandas as pd\n",
    "\n",
    "# Load the dataset (replace 'your_data.csv' with your actual file)\n",
    "try:\n",
    "    df = pd.read_csv('employees_mean_imputed.csv') # Using a previously modified dataset for example\n",
    "except FileNotFoundError:\n",
    "    print(\"Error: 'employees_mean_imputed.csv' not found. Please make sure the file is in the correct directory.\")\n",
    "    exit()\n",
    "\n",
    "print(\"--- Original Dataset (for Deduplication) ---\")\n",
    "print(df)\n",
    "\n",
    "# 10. Remove Complete Duplicates\n",
    "print(\"\\n--- 10. Remove Complete Duplicates (Keep First) ---\")\n",
    "df_no_complete_duplicates = df.drop_duplicates()\n",
    "print(df_no_complete_duplicates)\n",
    "df_no_complete_duplicates.to_csv('employees_no_complete_duplicates.csv', index=False)\n",
    "print(\"\\nDataset with complete duplicates removed (keeping first) saved to 'employees_no_complete_duplicates.csv'\")\n",
    "\n",
    "# 11. Subset Deduplication\n",
    "print(\"\\n--- 11. Subset Deduplication (based on 'Name') ---\")\n",
    "df_no_name_duplicates = df.drop_duplicates(subset=['Name'], keep='first')\n",
    "print(df_no_name_duplicates)\n",
    "df_no_name_duplicates.to_csv('employees_no_name_duplicates.csv', index=False)\n",
    "print(\"\\nDataset with duplicates removed based on 'Name' (keeping first) saved to 'employees_no_name_duplicates.csv'\")\n",
    "\n",
    "# 12. Keep Last Occurrence\n",
    "print(\"\\n--- 12. Keep Last Occurrence (Complete Duplicates) ---\")\n",
    "df_keep_last = df.drop_duplicates(keep='last')\n",
    "print(df_keep_last)\n",
    "df_keep_last.to_csv('employees_keep_last.csv', index=False)\n",
    "print(\"\\nDataset with complete duplicates removed (keeping last) saved to 'employees_keep_last.csv'\")\n",
    "\n",
    "print(\"\\n--- 12. Keep Last Occurrence (Duplicates based on 'Name') ---\")\n",
    "df_keep_last_name = df.drop_duplicates(subset=['Name'], keep='last')\n",
    "print(df_keep_last_name)\n",
    "df_keep_last_name.to_csv('employees_keep_last_name.csv', index=False)\n",
    "print(\"\\nDataset with duplicates removed based on 'Name' (keeping last) saved to 'employees_keep_last_name.csv'\")"
   ]
  }
 ],
 "metadata": {
  "kernelspec": {
   "display_name": ".venv",
   "language": "python",
   "name": "python3"
  },
  "language_info": {
   "codemirror_mode": {
    "name": "ipython",
    "version": 3
   },
   "file_extension": ".py",
   "mimetype": "text/x-python",
   "name": "python",
   "nbconvert_exporter": "python",
   "pygments_lexer": "ipython3",
   "version": "3.10.12"
  }
 },
 "nbformat": 4,
 "nbformat_minor": 2
}
