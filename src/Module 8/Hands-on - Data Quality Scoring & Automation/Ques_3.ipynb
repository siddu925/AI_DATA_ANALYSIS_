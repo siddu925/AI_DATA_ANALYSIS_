{
 "cells": [
  {
   "cell_type": "markdown",
   "metadata": {},
   "source": [
    "## Automate Data Quality Checks with Great Expectations\n",
    "**Introduction**: In this activity, you will learn how to automate data quality checks using the Great Expectations framework. This includes setting up expectations and generating validation reports.\n",
    "\n",
    "### Task 1: Setup and Initial Expectations\n",
    "\n",
    "1. Objective: Set up Great Expectations and create initial expectations for a dataset.\n",
    "2. Steps:\n",
    "    - Install Great Expectations using pip.\n",
    "    - Initialize a data context.\n",
    "    - Create basic expectations on a sample dataset.\n",
    "    - Eg., Implement a basic setup and expectation for column presence and type."
   ]
  },
  {
   "cell_type": "code",
   "execution_count": 3,
   "metadata": {},
   "outputs": [
    {
     "name": "stdout",
     "output_type": "stream",
     "text": [
      "Requirement already satisfied: great_expectations in /workspaces/AI_DATA_ANALYSIS_/.venv/lib/python3.10/site-packages (1.4.3)\n",
      "Requirement already satisfied: altair<5.0.0,>=4.2.1 in /workspaces/AI_DATA_ANALYSIS_/.venv/lib/python3.10/site-packages (from great_expectations) (4.2.2)\n",
      "Requirement already satisfied: cryptography>=3.2 in /workspaces/AI_DATA_ANALYSIS_/.venv/lib/python3.10/site-packages (from great_expectations) (44.0.3)\n",
      "Requirement already satisfied: jinja2>=3 in /workspaces/AI_DATA_ANALYSIS_/.venv/lib/python3.10/site-packages (from great_expectations) (3.1.6)\n",
      "Requirement already satisfied: jsonschema>=2.5.1 in /workspaces/AI_DATA_ANALYSIS_/.venv/lib/python3.10/site-packages (from great_expectations) (4.23.0)\n",
      "Requirement already satisfied: marshmallow<4.0.0,>=3.7.1 in /workspaces/AI_DATA_ANALYSIS_/.venv/lib/python3.10/site-packages (from great_expectations) (3.26.1)\n",
      "Requirement already satisfied: mistune>=0.8.4 in /workspaces/AI_DATA_ANALYSIS_/.venv/lib/python3.10/site-packages (from great_expectations) (3.1.3)\n",
      "Requirement already satisfied: packaging in /workspaces/AI_DATA_ANALYSIS_/.venv/lib/python3.10/site-packages (from great_expectations) (25.0)\n",
      "Requirement already satisfied: posthog<4,>3 in /workspaces/AI_DATA_ANALYSIS_/.venv/lib/python3.10/site-packages (from great_expectations) (3.25.0)\n",
      "Requirement already satisfied: pydantic>=1.10.7 in /workspaces/AI_DATA_ANALYSIS_/.venv/lib/python3.10/site-packages (from great_expectations) (2.11.4)\n",
      "Requirement already satisfied: pyparsing>=2.4 in /workspaces/AI_DATA_ANALYSIS_/.venv/lib/python3.10/site-packages (from great_expectations) (3.2.3)\n",
      "Requirement already satisfied: python-dateutil>=2.8.1 in /workspaces/AI_DATA_ANALYSIS_/.venv/lib/python3.10/site-packages (from great_expectations) (2.9.0.post0)\n",
      "Requirement already satisfied: requests>=2.20 in /workspaces/AI_DATA_ANALYSIS_/.venv/lib/python3.10/site-packages (from great_expectations) (2.32.3)\n",
      "Requirement already satisfied: ruamel.yaml>=0.16 in /workspaces/AI_DATA_ANALYSIS_/.venv/lib/python3.10/site-packages (from great_expectations) (0.18.10)\n",
      "Requirement already satisfied: scipy>=1.6.0 in /workspaces/AI_DATA_ANALYSIS_/.venv/lib/python3.10/site-packages (from great_expectations) (1.15.3)\n",
      "Requirement already satisfied: tqdm>=4.59.0 in /workspaces/AI_DATA_ANALYSIS_/.venv/lib/python3.10/site-packages (from great_expectations) (4.67.1)\n",
      "Requirement already satisfied: typing-extensions>=4.1.0 in /workspaces/AI_DATA_ANALYSIS_/.venv/lib/python3.10/site-packages (from great_expectations) (4.13.2)\n",
      "Requirement already satisfied: tzlocal>=1.2 in /workspaces/AI_DATA_ANALYSIS_/.venv/lib/python3.10/site-packages (from great_expectations) (5.3.1)\n",
      "Requirement already satisfied: numpy>=1.22.4 in /workspaces/AI_DATA_ANALYSIS_/.venv/lib/python3.10/site-packages (from great_expectations) (1.26.4)\n",
      "Requirement already satisfied: pandas<2.2,>=1.3.0 in /workspaces/AI_DATA_ANALYSIS_/.venv/lib/python3.10/site-packages (from great_expectations) (2.1.4)\n",
      "Requirement already satisfied: entrypoints in /workspaces/AI_DATA_ANALYSIS_/.venv/lib/python3.10/site-packages (from altair<5.0.0,>=4.2.1->great_expectations) (0.4)\n",
      "Requirement already satisfied: toolz in /workspaces/AI_DATA_ANALYSIS_/.venv/lib/python3.10/site-packages (from altair<5.0.0,>=4.2.1->great_expectations) (1.0.0)\n",
      "Requirement already satisfied: pytz>=2020.1 in /workspaces/AI_DATA_ANALYSIS_/.venv/lib/python3.10/site-packages (from pandas<2.2,>=1.3.0->great_expectations) (2025.2)\n",
      "Requirement already satisfied: tzdata>=2022.1 in /workspaces/AI_DATA_ANALYSIS_/.venv/lib/python3.10/site-packages (from pandas<2.2,>=1.3.0->great_expectations) (2025.2)\n",
      "Requirement already satisfied: six>=1.5 in /workspaces/AI_DATA_ANALYSIS_/.venv/lib/python3.10/site-packages (from posthog<4,>3->great_expectations) (1.17.0)\n",
      "Requirement already satisfied: monotonic>=1.5 in /workspaces/AI_DATA_ANALYSIS_/.venv/lib/python3.10/site-packages (from posthog<4,>3->great_expectations) (1.6)\n",
      "Requirement already satisfied: backoff>=1.10.0 in /workspaces/AI_DATA_ANALYSIS_/.venv/lib/python3.10/site-packages (from posthog<4,>3->great_expectations) (2.2.1)\n",
      "Requirement already satisfied: distro>=1.5.0 in /workspaces/AI_DATA_ANALYSIS_/.venv/lib/python3.10/site-packages (from posthog<4,>3->great_expectations) (1.9.0)\n",
      "Requirement already satisfied: charset-normalizer<4,>=2 in /workspaces/AI_DATA_ANALYSIS_/.venv/lib/python3.10/site-packages (from requests>=2.20->great_expectations) (3.4.2)\n",
      "Requirement already satisfied: idna<4,>=2.5 in /workspaces/AI_DATA_ANALYSIS_/.venv/lib/python3.10/site-packages (from requests>=2.20->great_expectations) (3.10)\n",
      "Requirement already satisfied: urllib3<3,>=1.21.1 in /workspaces/AI_DATA_ANALYSIS_/.venv/lib/python3.10/site-packages (from requests>=2.20->great_expectations) (2.4.0)\n",
      "Requirement already satisfied: certifi>=2017.4.17 in /workspaces/AI_DATA_ANALYSIS_/.venv/lib/python3.10/site-packages (from requests>=2.20->great_expectations) (2025.4.26)\n",
      "Requirement already satisfied: cffi>=1.12 in /workspaces/AI_DATA_ANALYSIS_/.venv/lib/python3.10/site-packages (from cryptography>=3.2->great_expectations) (1.17.1)\n",
      "Requirement already satisfied: pycparser in /workspaces/AI_DATA_ANALYSIS_/.venv/lib/python3.10/site-packages (from cffi>=1.12->cryptography>=3.2->great_expectations) (2.22)\n",
      "Requirement already satisfied: MarkupSafe>=2.0 in /workspaces/AI_DATA_ANALYSIS_/.venv/lib/python3.10/site-packages (from jinja2>=3->great_expectations) (3.0.2)\n",
      "Requirement already satisfied: attrs>=22.2.0 in /workspaces/AI_DATA_ANALYSIS_/.venv/lib/python3.10/site-packages (from jsonschema>=2.5.1->great_expectations) (25.3.0)\n",
      "Requirement already satisfied: jsonschema-specifications>=2023.03.6 in /workspaces/AI_DATA_ANALYSIS_/.venv/lib/python3.10/site-packages (from jsonschema>=2.5.1->great_expectations) (2025.4.1)\n",
      "Requirement already satisfied: referencing>=0.28.4 in /workspaces/AI_DATA_ANALYSIS_/.venv/lib/python3.10/site-packages (from jsonschema>=2.5.1->great_expectations) (0.36.2)\n",
      "Requirement already satisfied: rpds-py>=0.7.1 in /workspaces/AI_DATA_ANALYSIS_/.venv/lib/python3.10/site-packages (from jsonschema>=2.5.1->great_expectations) (0.24.0)\n",
      "Requirement already satisfied: annotated-types>=0.6.0 in /workspaces/AI_DATA_ANALYSIS_/.venv/lib/python3.10/site-packages (from pydantic>=1.10.7->great_expectations) (0.7.0)\n",
      "Requirement already satisfied: pydantic-core==2.33.2 in /workspaces/AI_DATA_ANALYSIS_/.venv/lib/python3.10/site-packages (from pydantic>=1.10.7->great_expectations) (2.33.2)\n",
      "Requirement already satisfied: typing-inspection>=0.4.0 in /workspaces/AI_DATA_ANALYSIS_/.venv/lib/python3.10/site-packages (from pydantic>=1.10.7->great_expectations) (0.4.0)\n",
      "Requirement already satisfied: ruamel.yaml.clib>=0.2.7 in /workspaces/AI_DATA_ANALYSIS_/.venv/lib/python3.10/site-packages (from ruamel.yaml>=0.16->great_expectations) (0.2.12)\n",
      "Note: you may need to restart the kernel to use updated packages.\n"
     ]
    }
   ],
   "source": [
    "pip install great_expectations"
   ]
  },
  {
   "cell_type": "code",
   "execution_count": 4,
   "metadata": {},
   "outputs": [
    {
     "ename": "AttributeError",
     "evalue": "'EphemeralDataContext' object has no attribute 'add_pandas'",
     "output_type": "error",
     "traceback": [
      "\u001b[0;31m---------------------------------------------------------------------------\u001b[0m",
      "\u001b[0;31mAttributeError\u001b[0m                            Traceback (most recent call last)",
      "Cell \u001b[0;32mIn[4], line 24\u001b[0m\n\u001b[1;32m     22\u001b[0m datasource_name \u001b[38;5;241m=\u001b[39m \u001b[38;5;124m\"\u001b[39m\u001b[38;5;124mmy_pandas_datasource\u001b[39m\u001b[38;5;124m\"\u001b[39m\n\u001b[1;32m     23\u001b[0m \u001b[38;5;28;01mif\u001b[39;00m datasource_name \u001b[38;5;129;01mnot\u001b[39;00m \u001b[38;5;129;01min\u001b[39;00m context\u001b[38;5;241m.\u001b[39mlist_datasources():\n\u001b[0;32m---> 24\u001b[0m     pandas_datasource \u001b[38;5;241m=\u001b[39m \u001b[43mcontext\u001b[49m\u001b[38;5;241;43m.\u001b[39;49m\u001b[43madd_pandas\u001b[49m(name\u001b[38;5;241m=\u001b[39mdatasource_name)\n\u001b[1;32m     26\u001b[0m \u001b[38;5;66;03m# Create a Batch of data\u001b[39;00m\n\u001b[1;32m     27\u001b[0m batch_kwargs \u001b[38;5;241m=\u001b[39m {\u001b[38;5;124m\"\u001b[39m\u001b[38;5;124mdataframe\u001b[39m\u001b[38;5;124m\"\u001b[39m: df, \u001b[38;5;124m\"\u001b[39m\u001b[38;5;124mdatasource\u001b[39m\u001b[38;5;124m\"\u001b[39m: datasource_name, \u001b[38;5;124m\"\u001b[39m\u001b[38;5;124mname\u001b[39m\u001b[38;5;124m\"\u001b[39m: \u001b[38;5;124m\"\u001b[39m\u001b[38;5;124mmy_data_batch\u001b[39m\u001b[38;5;124m\"\u001b[39m}\n",
      "\u001b[0;31mAttributeError\u001b[0m: 'EphemeralDataContext' object has no attribute 'add_pandas'"
     ]
    }
   ],
   "source": [
    "import pandas as pd\n",
    "import great_expectations as gx\n",
    "import io\n",
    "\n",
    "# Our sample CSV data\n",
    "csv_data = \"\"\"Name,Email,Age\n",
    "Alice,alice@example.com,30\n",
    "Bob,bob@example.com,25\n",
    "Charlie,charlie@example.com,\n",
    "David,,40\n",
    "Eve,eve.example.com,35\n",
    "\"\"\"\n",
    "\n",
    "# Load the data into a pandas DataFrame\n",
    "df = pd.read_csv(io.StringIO(csv_data))\n",
    "\n",
    "# Get the Great Expectations Data Context\n",
    "context = gx.get_context()\n",
    "\n",
    "# Create a Great Expectations Datasource (if you haven't already)\n",
    "# For a simple in-memory DataFrame, you can skip this and directly create a Batch\n",
    "datasource_name = \"my_pandas_datasource\"\n",
    "if datasource_name not in context.list_datasources():\n",
    "    pandas_datasource = context.add_pandas(name=datasource_name)\n",
    "\n",
    "# Create a Batch of data\n",
    "batch_kwargs = {\"dataframe\": df, \"datasource\": datasource_name, \"name\": \"my_data_batch\"}\n",
    "batch = context.get_batch(**batch_kwargs)\n",
    "\n",
    "# Create an Expectation Suite (a collection of expectations)\n",
    "expectation_suite_name = \"my_initial_expectation_suite\"\n",
    "suite = context.create_expectation_suite(\n",
    "    expectation_suite_name=expectation_suite_name, overwrite_existing=True\n",
    ")\n",
    "\n",
    "# Add expectations to the suite\n",
    "\n",
    "# Expect the 'Name' column to be present\n",
    "suite.expect_column_to_exist(\"Name\")\n",
    "\n",
    "# Expect the 'Email' column to be present\n",
    "suite.expect_column_to_exist(\"Email\")\n",
    "\n",
    "# Expect the 'Age' column to be present\n",
    "suite.expect_column_to_exist(\"Age\")\n",
    "\n",
    "# Expect the 'Age' column to be of integer type (though it might have a NaN, so we handle that)\n",
    "suite.expect_column_values_to_be_in_type_list(column=\"Age\", type_list=[\"INTEGER\", \"FLOAT\"])\n",
    "\n",
    "# Save the Expectation Suite\n",
    "context.save_expectation_suite(expectation_suite=suite, expectation_suite_name=expectation_suite_name)\n",
    "\n",
    "print(f\"Expectation suite '{expectation_suite_name}' created and saved.\")"
   ]
  },
  {
   "cell_type": "markdown",
   "metadata": {},
   "source": [
    "### Task 2: Validate Datasets and Generate Reports\n",
    "\n",
    "1. Objective: Validate a dataset against defined expectations and generate a report.\n",
    "2. Steps:\n",
    "    - Execute the validation process on the dataset.\n",
    "    - Review the validation results and generate a report.\n",
    "    - Eg., Validate completeness and consistency expectations, and view the results.\n"
   ]
  },
  {
   "cell_type": "code",
   "execution_count": null,
   "metadata": {},
   "outputs": [],
   "source": [
    "# Write your code from here"
   ]
  },
  {
   "cell_type": "markdown",
   "metadata": {},
   "source": [
    "### Task 3: Advanced Expectations and Scheduling\n",
    "\n",
    "1. Objective: Create advanced expectations for conditional checks and automate the validation.\n",
    "2. Steps:\n",
    "    - Define advanced expectations based on complex conditions.\n",
    "    - Use scheduling tools to automate periodic checks.\n",
    "    - E.g., an expectation that customer IDs must be unique and schedule a daily check."
   ]
  },
  {
   "cell_type": "code",
   "execution_count": null,
   "metadata": {},
   "outputs": [],
   "source": [
    "# Write your code from here"
   ]
  }
 ],
 "metadata": {
  "kernelspec": {
   "display_name": ".venv",
   "language": "python",
   "name": "python3"
  },
  "language_info": {
   "codemirror_mode": {
    "name": "ipython",
    "version": 3
   },
   "file_extension": ".py",
   "mimetype": "text/x-python",
   "name": "python",
   "nbconvert_exporter": "python",
   "pygments_lexer": "ipython3",
   "version": "3.10.12"
  }
 },
 "nbformat": 4,
 "nbformat_minor": 2
}
