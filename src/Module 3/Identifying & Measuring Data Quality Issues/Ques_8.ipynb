{
 "cells": [
  {
   "cell_type": "code",
   "execution_count": 1,
   "metadata": {},
   "outputs": [],
   "source": [
    "# Question: Detecting Data Drift\n",
    "# Description: Identify potential data drift between two time periods for a numeric attribute.\n"
   ]
  },
  {
   "cell_type": "code",
   "execution_count": 2,
   "metadata": {},
   "outputs": [
    {
     "name": "stdout",
     "output_type": "stream",
     "text": [
      "Error: One or both of the CSV files ('customer_data_period1.csv', 'customer_data_period2.csv') were not found.\n"
     ]
    }
   ],
   "source": [
    "import pandas as pd\n",
    "import matplotlib.pyplot as plt\n",
    "from scipy.stats import ks_2samp\n",
    "\n",
    "def detect_data_drift_numeric(df1, df2, column_name, threshold=0.05):\n",
    "    \"\"\"\n",
    "    Identifies potential data drift for a numeric attribute between two DataFrames\n",
    "    representing two time periods.\n",
    "\n",
    "    Args:\n",
    "        df1: Pandas DataFrame representing the first time period.\n",
    "        df2: Pandas DataFrame representing the second time period.\n",
    "        column_name: The name of the numeric column to compare.\n",
    "        threshold: The significance level (alpha) for the Kolmogorov-Smirnov test.\n",
    "                   If the p-value is below this threshold, drift is suspected.\n",
    "\n",
    "    Returns:\n",
    "        A dictionary containing the KS statistic and p-value. Prints a message\n",
    "        indicating if drift is likely detected based on the threshold.\n",
    "    \"\"\"\n",
    "\n",
    "    if column_name not in df1.columns or column_name not in df2.columns:\n",
    "        print(f\"Error: Column '{column_name}' not found in one or both DataFrames.\")\n",
    "        return None\n",
    "\n",
    "    if not pd.api.types.is_numeric_dtype(df1[column_name]) or not pd.api.types.is_numeric_dtype(df2[column_name]):\n",
    "        print(f\"Error: Column '{column_name}' is not numeric in one or both DataFrames.\")\n",
    "        return None\n",
    "\n",
    "    # Perform the Kolmogorov-Smirnov (KS) test\n",
    "    ks_statistic, p_value = ks_2samp(df1[column_name].dropna(), df2[column_name].dropna())\n",
    "\n",
    "    print(f\"--- Data Drift Analysis for Column '{column_name}' ---\")\n",
    "    print(f\"KS Statistic: {ks_statistic:.4f}\")\n",
    "    print(f\"P-value: {p_value:.4f}\")\n",
    "\n",
    "    if p_value < threshold:\n",
    "        print(f\"Potential data drift detected (p-value < {threshold}). The distributions of '{column_name}' in the two time periods are significantly different.\")\n",
    "    else:\n",
    "        print(f\"No significant data drift detected (p-value >= {threshold}). The distributions of '{column_name}' in the two time periods are not significantly different based on the KS test.\")\n",
    "\n",
    "    # Visualize the distributions\n",
    "    plt.figure(figsize=(10, 6))\n",
    "    df1[column_name].hist(alpha=0.6, label='Time Period 1', density=True)\n",
    "    df2[column_name].hist(alpha=0.6, label='Time Period 2', density=True)\n",
    "    plt.title(f\"Distribution of '{column_name}' Over Time\")\n",
    "    plt.xlabel(column_name)\n",
    "    plt.ylabel(\"Density\")\n",
    "    plt.legend()\n",
    "    plt.grid(True)\n",
    "    plt.show()\n",
    "\n",
    "    return {'ks_statistic': ks_statistic, 'p_value': p_value}\n",
    "\n",
    "if __name__ == '__main__':\n",
    "    # --- Example Usage (Replace with your actual data loading) ---\n",
    "    # Assume you have two CSV files representing data from two time periods\n",
    "    try:\n",
    "        df_period1 = pd.read_csv('customer_data_period1.csv')\n",
    "        df_period2 = pd.read_csv('customer_data_period2.csv')\n",
    "        numeric_column_to_check = 'TotalSpend'  # Replace with your numeric column\n",
    "\n",
    "        drift_results = detect_data_drift_numeric(df_period1, df_period2, numeric_column_to_check)\n",
    "        if drift_results:\n",
    "            print(\"\\nDrift Detection Results:\", drift_results)\n",
    "\n",
    "    except FileNotFoundError:\n",
    "        print(\"Error: One or both of the CSV files ('customer_data_period1.csv', 'customer_data_period2.csv') were not found.\")\n",
    "    except Exception as e:\n",
    "        print(f\"An error occurred: {e}\")"
   ]
  }
 ],
 "metadata": {
  "kernelspec": {
   "display_name": ".venv",
   "language": "python",
   "name": "python3"
  },
  "language_info": {
   "codemirror_mode": {
    "name": "ipython",
    "version": 3
   },
   "file_extension": ".py",
   "mimetype": "text/x-python",
   "name": "python",
   "nbconvert_exporter": "python",
   "pygments_lexer": "ipython3",
   "version": "3.10.12"
  }
 },
 "nbformat": 4,
 "nbformat_minor": 2
}
