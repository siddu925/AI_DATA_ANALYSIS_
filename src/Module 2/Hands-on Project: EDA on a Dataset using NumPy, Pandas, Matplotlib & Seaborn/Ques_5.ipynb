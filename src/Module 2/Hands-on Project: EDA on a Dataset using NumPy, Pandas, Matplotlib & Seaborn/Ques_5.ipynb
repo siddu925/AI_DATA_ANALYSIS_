{
 "cells": [
  {
   "cell_type": "code",
   "execution_count": 1,
   "metadata": {},
   "outputs": [],
   "source": [
    "# Title: Data Cleaning using Pandas\n",
    "# Description: Check for missing values and handle them by imputing the median."
   ]
  },
  {
   "cell_type": "code",
   "execution_count": 2,
   "metadata": {},
   "outputs": [
    {
     "name": "stdout",
     "output_type": "stream",
     "text": [
      "Number of missing values before imputation:\n",
      "sepal_length    20\n",
      "sepal_width     15\n",
      "petal_length     0\n",
      "petal_width      0\n",
      "species          0\n",
      "dtype: int64\n",
      "\n",
      "==================================================\n",
      "\n",
      "Number of missing values after imputation:\n",
      "sepal_length    0\n",
      "sepal_width     0\n",
      "petal_length    0\n",
      "petal_width     0\n",
      "species         0\n",
      "dtype: int64\n",
      "\n",
      "==================================================\n",
      "\n",
      "First few rows of the Iris dataset after imputation:\n",
      "   sepal_length  sepal_width  petal_length  petal_width species\n",
      "0           5.1          3.5           1.4          0.2  setosa\n",
      "1           4.9          3.0           1.4          0.2  setosa\n",
      "2           4.7          3.2           1.3          0.2  setosa\n",
      "3           4.6          3.1           1.5          0.2  setosa\n",
      "4           5.0          3.6           1.4          0.2  setosa\n"
     ]
    },
    {
     "name": "stderr",
     "output_type": "stream",
     "text": [
      "/tmp/ipykernel_5806/98997101.py:22: FutureWarning: A value is trying to be set on a copy of a DataFrame or Series through chained assignment using an inplace method.\n",
      "The behavior will change in pandas 3.0. This inplace method will never work because the intermediate object on which we are setting values always behaves as a copy.\n",
      "\n",
      "For example, when doing 'df[col].method(value, inplace=True)', try using 'df.method({col: value}, inplace=True)' or df[col] = df[col].method(value) instead, to perform the operation inplace on the original object.\n",
      "\n",
      "\n",
      "  iris['sepal_length'].fillna(median_sepal_length, inplace=True)\n",
      "/tmp/ipykernel_5806/98997101.py:26: FutureWarning: A value is trying to be set on a copy of a DataFrame or Series through chained assignment using an inplace method.\n",
      "The behavior will change in pandas 3.0. This inplace method will never work because the intermediate object on which we are setting values always behaves as a copy.\n",
      "\n",
      "For example, when doing 'df[col].method(value, inplace=True)', try using 'df.method({col: value}, inplace=True)' or df[col] = df[col].method(value) instead, to perform the operation inplace on the original object.\n",
      "\n",
      "\n",
      "  iris['sepal_width'].fillna(median_sepal_width, inplace=True)\n"
     ]
    }
   ],
   "source": [
    "import seaborn as sns\n",
    "import pandas as pd\n",
    "\n",
    "# Load the Iris dataset (which has no missing values for demonstration purposes)\n",
    "iris = sns.load_dataset('iris')\n",
    "\n",
    "# Introduce some artificial missing values for demonstration\n",
    "import numpy as np\n",
    "np.random.seed(42)\n",
    "indices = np.random.choice(iris.index, size=20, replace=False)\n",
    "iris.loc[indices, 'sepal_length'] = np.nan\n",
    "indices = np.random.choice(iris.index, size=15, replace=False)\n",
    "iris.loc[indices, 'sepal_width'] = np.nan\n",
    "\n",
    "# Check for missing values\n",
    "print(\"Number of missing values before imputation:\")\n",
    "print(iris.isnull().sum())\n",
    "print(\"\\n\" + \"=\"*50 + \"\\n\")\n",
    "\n",
    "# Impute missing values in 'sepal_length' with the median of that column\n",
    "median_sepal_length = iris['sepal_length'].median()\n",
    "iris['sepal_length'].fillna(median_sepal_length, inplace=True)\n",
    "\n",
    "# Impute missing values in 'sepal_width' with the median of that column\n",
    "median_sepal_width = iris['sepal_width'].median()\n",
    "iris['sepal_width'].fillna(median_sepal_width, inplace=True)\n",
    "\n",
    "# Verify that missing values have been handled\n",
    "print(\"Number of missing values after imputation:\")\n",
    "print(iris.isnull().sum())\n",
    "print(\"\\n\" + \"=\"*50 + \"\\n\")\n",
    "\n",
    "# Display the first few rows after imputation\n",
    "print(\"First few rows of the Iris dataset after imputation:\")\n",
    "print(iris.head())"
   ]
  }
 ],
 "metadata": {
  "kernelspec": {
   "display_name": ".venv",
   "language": "python",
   "name": "python3"
  },
  "language_info": {
   "codemirror_mode": {
    "name": "ipython",
    "version": 3
   },
   "file_extension": ".py",
   "mimetype": "text/x-python",
   "name": "python",
   "nbconvert_exporter": "python",
   "pygments_lexer": "ipython3",
   "version": "3.10.12"
  }
 },
 "nbformat": 4,
 "nbformat_minor": 2
}
