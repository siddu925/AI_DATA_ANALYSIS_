{
 "cells": [
  {
   "cell_type": "code",
   "execution_count": 1,
   "metadata": {},
   "outputs": [],
   "source": [
    "# Title: Basic NumPy Operations\n",
    "# Description: Perform basic operations such as calculating the mean of the dataset."
   ]
  },
  {
   "cell_type": "code",
   "execution_count": 2,
   "metadata": {},
   "outputs": [
    {
     "ename": "SyntaxError",
     "evalue": "invalid syntax (1913551942.py, line 35)",
     "output_type": "error",
     "traceback": [
      "\u001b[0;36m  Cell \u001b[0;32mIn[2], line 35\u001b[0;36m\u001b[0m\n\u001b[0;31m    median_sepal_length = np.\u001b[0m\n\u001b[0m                             ^\u001b[0m\n\u001b[0;31mSyntaxError\u001b[0m\u001b[0;31m:\u001b[0m invalid syntax\n"
     ]
    }
   ],
   "source": [
    "import seaborn as sns\n",
    "import numpy as np\n",
    "\n",
    "# Load the Iris dataset\n",
    "iris = sns.load_dataset('iris')\n",
    "\n",
    "# Extract the numerical columns for calculations\n",
    "numerical_data = iris[['sepal_length', 'sepal_width', 'petal_length', 'petal_width']].values\n",
    "\n",
    "# Calculate the mean of all numerical values in the dataset\n",
    "mean_all = np.mean(numerical_data)\n",
    "print(f\"Mean of all numerical features: {mean_all:.2f}\")\n",
    "print(\"\\n\" + \"=\"*50 + \"\\n\")\n",
    "\n",
    "# Calculate the mean of each numerical column\n",
    "mean_sepal_length = np.mean(numerical_data[:, 0])\n",
    "mean_sepal_width = np.mean(numerical_data[:, 1])\n",
    "mean_petal_length = np.mean(numerical_data[:, 2])\n",
    "mean_petal_width = np.mean(numerical_data[:, 3])\n",
    "\n",
    "print(\"Mean of each numerical feature:\")\n",
    "print(f\"  Sepal Length: {mean_sepal_length:.2f}\")\n",
    "print(f\"  Sepal Width:  {mean_sepal_width:.2f}\")\n",
    "print(f\"  Petal Length: {mean_petal_length:.2f}\")\n",
    "print(f\"  Petal Width:  {mean_petal_width:.2f}\")\n",
    "print(\"\\n\" + \"=\"*50 + \"\\n\")\n",
    "\n",
    "# Calculate the mean of each row (representing a flower's measurements)\n",
    "mean_by_flower = np.mean(numerical_data, axis=1)\n",
    "print(\"Mean of numerical features for the first 5 flowers:\")\n",
    "print(mean_by_flower[:5])\n",
    "print(\"\\n\" + \"=\"*50 + \"\\n\")\n",
    "\n",
    "# You can also calculate other statistics like median, standard deviation, etc.\n",
    "median_sepal_length = np."
   ]
  }
 ],
 "metadata": {
  "kernelspec": {
   "display_name": ".venv",
   "language": "python",
   "name": "python3"
  },
  "language_info": {
   "codemirror_mode": {
    "name": "ipython",
    "version": 3
   },
   "file_extension": ".py",
   "mimetype": "text/x-python",
   "name": "python",
   "nbconvert_exporter": "python",
   "pygments_lexer": "ipython3",
   "version": "3.10.12"
  }
 },
 "nbformat": 4,
 "nbformat_minor": 2
}
