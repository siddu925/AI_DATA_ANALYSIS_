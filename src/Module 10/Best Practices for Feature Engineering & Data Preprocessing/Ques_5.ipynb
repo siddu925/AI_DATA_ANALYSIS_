{
 "cells": [
  {
   "cell_type": "markdown",
   "metadata": {},
   "source": [
    "### Scaling & Feature Selection in a Pipeline\n",
    "**Description**: Create a pipeline that includes feature scaling, variance threshold selection, and a classification model."
   ]
  },
  {
   "cell_type": "code",
   "execution_count": 1,
   "metadata": {},
   "outputs": [],
   "source": [
    "import pandas as pd\n",
    "from sklearn.model_selection import train_test_split\n",
    "from sklearn.preprocessing import StandardScaler\n",
    "from sklearn.feature_selection import VarianceThreshold\n",
    "from sklearn.linear_model import LogisticRegression\n",
    "from sklearn.pipeline import Pipeline\n",
    "from sklearn.metrics import accuracy_score\n",
    "from sklearn.preprocessing import LabelEncoder\n",
    "\n",
    "# Create a sample DataFrame for classification\n",
    "data_pipeline_scaling_selection = {'feature_1': [1, 1, 1, 2, 2, 2, 3, 3, 3, 4],\n",
    "                                    'feature_2': [5, 5, 5, 6, 6, 6, 7, 7, 7, 8],\n",
    "                                    'feature_3': [10, 20, 15, 25, 30, 18, 22, 28, 16, 24],\n",
    "                                    'feature_4': [0, 0, 0, 0, 0, 0, 0, 0, 0, 1],\n",
    "                                    'feature_5': ['A', 'B', 'A', 'C', 'B', 'C', 'A', 'B', 'C', 'A'],\n",
    "                                    'target': ['no', 'yes', 'no', 'yes', 'no', 'yes', 'no', 'yes', 'no', 'yes']}\n",
    "df_pipeline_scaling_selection = pd.DataFrame(data_pipeline_scaling_selection)\n",
    "\n",
    "# Separate features (X) and target (y)\n",
    "X = df_pipeline_scaling_selection.drop('target', axis=1)\n",
    "y = df_pipeline_scaling_selection['target']\n",
    "\n",
    "# Encode the target variable\n",
    "label_encoder = LabelEncoder()\n",
    "y_encoded = label_encoder.fit_transform(y)\n",
    "\n",
    "#"
   ]
  }
 ],
 "metadata": {
  "kernelspec": {
   "display_name": ".venv",
   "language": "python",
   "name": "python3"
  },
  "language_info": {
   "codemirror_mode": {
    "name": "ipython",
    "version": 3
   },
   "file_extension": ".py",
   "mimetype": "text/x-python",
   "name": "python",
   "nbconvert_exporter": "python",
   "pygments_lexer": "ipython3",
   "version": "3.10.12"
  }
 },
 "nbformat": 4,
 "nbformat_minor": 2
}
