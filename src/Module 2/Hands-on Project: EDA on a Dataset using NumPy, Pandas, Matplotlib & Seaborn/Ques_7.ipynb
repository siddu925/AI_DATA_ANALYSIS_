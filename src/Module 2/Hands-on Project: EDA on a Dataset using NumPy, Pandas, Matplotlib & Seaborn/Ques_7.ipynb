{
 "cells": [
  {
   "cell_type": "code",
   "execution_count": 1,
   "metadata": {},
   "outputs": [],
   "source": [
    "# Title: Group and Aggregate Data\n",
    "# Description: Group the dataset by species (target) and compute the average of each feature."
   ]
  },
  {
   "cell_type": "code",
   "execution_count": 2,
   "metadata": {},
   "outputs": [
    {
     "name": "stdout",
     "output_type": "stream",
     "text": [
      "Average feature values per Iris species:\n",
      "            sepal_length  sepal_width  petal_length  petal_width\n",
      "species                                                         \n",
      "setosa             5.006        3.428         1.462        0.246\n",
      "versicolor         5.936        2.770         4.260        1.326\n",
      "virginica          6.588        2.974         5.552        2.026\n",
      "\n",
      "==================================================\n",
      "\n",
      "Median feature values per Iris species:\n",
      "            sepal_length  sepal_width  petal_length  petal_width\n",
      "species                                                         \n",
      "setosa               5.0          3.4          1.50          0.2\n",
      "versicolor           5.9          2.8          4.35          1.3\n",
      "virginica            6.5          3.0          5.55          2.0\n",
      "\n",
      "==================================================\n",
      "\n",
      "Count of observations per Iris species:\n",
      "species\n",
      "setosa        50\n",
      "versicolor    50\n",
      "virginica     50\n",
      "dtype: int64\n",
      "\n",
      "==================================================\n",
      "\n",
      "Aggregated statistics per Iris species:\n",
      "           sepal_length                        sepal_width                   \\\n",
      "                   mean median       std count        mean median       std   \n",
      "species                                                                       \n",
      "setosa            5.006    5.0  0.352490    50       3.428    3.4  0.379064   \n",
      "versicolor        5.936    5.9  0.516171    50       2.770    2.8  0.313798   \n",
      "virginica         6.588    6.5  0.635880    50       2.974    3.0  0.322497   \n",
      "\n",
      "                 petal_length                        petal_width         \\\n",
      "           count         mean median       std count        mean median   \n",
      "species                                                                   \n",
      "setosa        50        1.462   1.50  0.173664    50       0.246    0.2   \n",
      "versicolor    50        4.260   4.35  0.469911    50       1.326    1.3   \n",
      "virginica     50        5.552   5.55  0.551895    50       2.026    2.0   \n",
      "\n",
      "                            \n",
      "                 std count  \n",
      "species                     \n",
      "setosa      0.105386    50  \n",
      "versicolor  0.197753    50  \n",
      "virginica   0.274650    50  \n"
     ]
    }
   ],
   "source": [
    "import seaborn as sns\n",
    "import pandas as pd\n",
    "\n",
    "# Load the Iris dataset\n",
    "iris = sns.load_dataset('iris')\n",
    "\n",
    "# Group the DataFrame by the 'species' column and calculate the mean of each numerical feature\n",
    "average_features_per_species = iris.groupby('species').mean()\n",
    "\n",
    "# Display the resulting DataFrame with the average feature values per species\n",
    "print(\"Average feature values per Iris species:\")\n",
    "print(average_features_per_species)\n",
    "print(\"\\n\" + \"=\"*50 + \"\\n\")\n",
    "\n",
    "# You can also group by multiple columns if your dataset has them\n",
    "# For example, if there was another categorical column 'location', you could do:\n",
    "# average_features_per_species_location = iris.groupby(['species', 'location']).mean()\n",
    "# print(average_features_per_species_location)\n",
    "\n",
    "# You can also calculate other aggregate functions like median, sum, count, etc.\n",
    "median_features_per_species = iris.groupby('species').median()\n",
    "print(\"Median feature values per Iris species:\")\n",
    "print(median_features_per_species)\n",
    "print(\"\\n\" + \"=\"*50 + \"\\n\")\n",
    "\n",
    "count_per_species = iris.groupby('species').size()\n",
    "print(\"Count of observations per Iris species:\")\n",
    "print(count_per_species)\n",
    "print(\"\\n\" + \"=\"*50 + \"\\n\")\n",
    "\n",
    "# You can apply multiple aggregation functions at once using the .agg() method\n",
    "aggregated_data = iris.groupby('species').agg(['mean', 'median', 'std', 'count'])\n",
    "print(\"Aggregated statistics per Iris species:\")\n",
    "print(aggregated_data)"
   ]
  }
 ],
 "metadata": {
  "kernelspec": {
   "display_name": ".venv",
   "language": "python",
   "name": "python3"
  },
  "language_info": {
   "codemirror_mode": {
    "name": "ipython",
    "version": 3
   },
   "file_extension": ".py",
   "mimetype": "text/x-python",
   "name": "python",
   "nbconvert_exporter": "python",
   "pygments_lexer": "ipython3",
   "version": "3.10.12"
  }
 },
 "nbformat": 4,
 "nbformat_minor": 2
}
