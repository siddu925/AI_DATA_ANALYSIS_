{
 "cells": [
  {
   "cell_type": "markdown",
   "metadata": {},
   "source": [
    "### Using NLP for Text Data Quality\n",
    "**Objective**: Enhance text data quality using NLP techniques.\n",
    "\n",
    "**Task**: Handling Noisy Text Data\n",
    "\n",
    "**Steps**:\n",
    "1. Data Set: Obtain a dataset with customer reviews containing noise (e.g., random characters).\n",
    "2. Clean Data: Use regex patterns to clean the noise from text data.\n",
    "3. Evaluate: Compare the text before and after cleaning for noise."
   ]
  },
  {
   "cell_type": "code",
   "execution_count": 1,
   "metadata": {},
   "outputs": [
    {
     "ename": "NameError",
     "evalue": "name 'np' is not defined",
     "output_type": "error",
     "traceback": [
      "\u001b[0;31m---------------------------------------------------------------------------\u001b[0m",
      "\u001b[0;31mNameError\u001b[0m                                 Traceback (most recent call last)",
      "Cell \u001b[0;32mIn[1], line 31\u001b[0m\n\u001b[1;32m     28\u001b[0m         noisy_text \u001b[38;5;241m+\u001b[39m\u001b[38;5;241m=\u001b[39m char\n\u001b[1;32m     29\u001b[0m     \u001b[38;5;28;01mreturn\u001b[39;00m noisy_text\n\u001b[0;32m---> 31\u001b[0m \u001b[43mnp\u001b[49m\u001b[38;5;241m.\u001b[39mrandom\u001b[38;5;241m.\u001b[39mseed(\u001b[38;5;241m42\u001b[39m)\n\u001b[1;32m     32\u001b[0m df[\u001b[38;5;124m'\u001b[39m\u001b[38;5;124mNoisy_Review\u001b[39m\u001b[38;5;124m'\u001b[39m] \u001b[38;5;241m=\u001b[39m df[\u001b[38;5;124m'\u001b[39m\u001b[38;5;124mReview\u001b[39m\u001b[38;5;124m'\u001b[39m]\u001b[38;5;241m.\u001b[39mapply(add_noise)\n\u001b[1;32m     33\u001b[0m \u001b[38;5;28mprint\u001b[39m(\u001b[38;5;124m\"\u001b[39m\u001b[38;5;124mOriginal DataFrame with Noisy Reviews:\u001b[39m\u001b[38;5;124m\"\u001b[39m)\n",
      "\u001b[0;31mNameError\u001b[0m: name 'np' is not defined"
     ]
    }
   ],
   "source": [
    "import pandas as pd\n",
    "import re\n",
    "\n",
    "# Step 1: Obtain a dataset with customer reviews containing noise (e.g., random characters).\n",
    "# Generate sample noisy customer reviews\n",
    "data = {\n",
    "    'Review': [\n",
    "        \"This product is gr8! I luv it!! #happycustomer\",\n",
    "        \"It was okay... but had some issues. 😠 1/5 stars.\",\n",
    "        \"The service was terribl3. Never again! %$#@!\",\n",
    "        \"Absolutely fantastic! Highly recommended. 👍💯\",\n",
    "        \"Not bad, could be better. 🤔 ...\",\n",
    "        \"This is the b3st thing I've ever bought! ✨\",\n",
    "        \"The delivery was so slowwww. 🐌\",\n",
    "        \"What a waste of m0ney! 😡\",\n",
    "        \"Excellent quality and fast shipping. 😊🚀\",\n",
    "        \"It's alright, nothing special. 🤷‍♀️\"\n",
    "    ]\n",
    "}\n",
    "df = pd.DataFrame(data)\n",
    "\n",
    "# Introduce more noise (random characters)\n",
    "def add_noise(text, noise_level=0.1):\n",
    "    noisy_text = \"\"\n",
    "    for char in text:\n",
    "        if np.random.rand() < noise_level:\n",
    "            noisy_text += np.random.choice(['#', '$', '%', '&', '*', '!', '?', '0', '1', '2', '3', '4', '5', '6', '7', '8', '9'])\n",
    "        noisy_text += char\n",
    "    return noisy_text\n",
    "\n",
    "np.random.seed(42)\n",
    "df['Noisy_Review'] = df['Review'].apply(add_noise)\n",
    "print(\"Original DataFrame with Noisy Reviews:\")\n",
    "print(df)\n",
    "\n",
    "# Step 2: Clean Data: Use regex patterns to clean the noise from text data.\n",
    "def clean_text(text):\n",
    "    # Remove special characters (keeping spaces and alphanumeric)\n",
    "    text = re.sub(r'[^a-zA-Z0-9\\s]', '', text)\n",
    "    # Remove numbers\n",
    "    text = re.sub(r'\\d+', '', text)\n",
    "    # Remove extra whitespace\n",
    "    text = re.sub(r'\\s+', ' ', text).strip()\n",
    "    return text\n",
    "\n",
    "df['Cleaned_Review'] = df['Noisy_Review'].apply(clean_text)\n",
    "\n",
    "# More targeted cleaning (optional, based on the type of noise)\n",
    "def more_targeted_clean(text):\n",
    "    # Remove repeating characters (e.g., slowwww -> slow)\n",
    "    text = re.sub(r'(.)\\1{2,}', r'\\1\\1', text)\n",
    "    # Correct some common abbreviations (you might need a more extensive dictionary)\n",
    "    text = re.sub(r'gr8', 'great', text, flags=re.IGNORECASE)\n",
    "    text = re.sub(r'luv', 'love', text, flags=re.IGNORECASE)\n",
    "    text = re.sub(r'b3st', 'best', text, flags=re.IGNORECASE)\n",
    "    return text\n",
    "\n",
    "df['Further_Cleaned_Review'] = df['Cleaned_Review'].apply(more_targeted_clean)\n",
    "\n",
    "print(\"\\nDataFrame after Cleaning:\")\n",
    "print(df)\n",
    "\n",
    "# Step 3: Evaluate: Compare the text before and after cleaning for noise.\n",
    "print(\"\\nComparison of Original, Noisy, and Cleaned Reviews:\")\n",
    "for index, row in df.iterrows():\n",
    "    print(f\"Original: {row['Review']}\")\n",
    "    print(f\"Noisy:    {row['Noisy_Review']}\")\n",
    "    print(f\"Cleaned:  {row['Further_Cleaned_Review']}\")\n",
    "    print(\"-\" * 30)"
   ]
  }
 ],
 "metadata": {
  "kernelspec": {
   "display_name": ".venv",
   "language": "python",
   "name": "python3"
  },
  "language_info": {
   "codemirror_mode": {
    "name": "ipython",
    "version": 3
   },
   "file_extension": ".py",
   "mimetype": "text/x-python",
   "name": "python",
   "nbconvert_exporter": "python",
   "pygments_lexer": "ipython3",
   "version": "3.10.12"
  }
 },
 "nbformat": 4,
 "nbformat_minor": 2
}
