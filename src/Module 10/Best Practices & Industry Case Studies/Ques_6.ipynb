{
 "cells": [
  {
   "cell_type": "markdown",
   "metadata": {},
   "source": [
    "### Basic ML Model Monitoring with MLFlow\n",
    "**Description**: Set up a basic ML model monitoring pipeline using MLFlow to track experiment parameters and results.\n",
    "\n",
    "**Steps**:\n",
    "1. Installation\n",
    "2. Set Up MLFlow Tracking\n",
    "3. Training a Simple Model\n",
    "4. Logging Model and Metrics\n",
    "5. View Logged Data\n",
    "    - Access the MLFlow UI to view your logged parameters, metrics, and models."
   ]
  },
  {
   "cell_type": "code",
   "execution_count": 1,
   "metadata": {},
   "outputs": [
    {
     "ename": "ModuleNotFoundError",
     "evalue": "No module named 'mlflow'",
     "output_type": "error",
     "traceback": [
      "\u001b[0;31m---------------------------------------------------------------------------\u001b[0m",
      "\u001b[0;31mModuleNotFoundError\u001b[0m                       Traceback (most recent call last)",
      "Cell \u001b[0;32mIn[1], line 1\u001b[0m\n\u001b[0;32m----> 1\u001b[0m \u001b[38;5;28;01mimport\u001b[39;00m\u001b[38;5;250m \u001b[39m\u001b[38;5;21;01mmlflow\u001b[39;00m\n\u001b[1;32m      2\u001b[0m \u001b[38;5;28;01mimport\u001b[39;00m\u001b[38;5;250m \u001b[39m\u001b[38;5;21;01mmlflow\u001b[39;00m\u001b[38;5;21;01m.\u001b[39;00m\u001b[38;5;21;01msklearn\u001b[39;00m\n\u001b[1;32m      3\u001b[0m \u001b[38;5;28;01mfrom\u001b[39;00m\u001b[38;5;250m \u001b[39m\u001b[38;5;21;01msklearn\u001b[39;00m\u001b[38;5;21;01m.\u001b[39;00m\u001b[38;5;21;01mlinear_model\u001b[39;00m\u001b[38;5;250m \u001b[39m\u001b[38;5;28;01mimport\u001b[39;00m LinearRegression\n",
      "\u001b[0;31mModuleNotFoundError\u001b[0m: No module named 'mlflow'"
     ]
    }
   ],
   "source": [
    "import mlflow\n",
    "import mlflow.sklearn\n",
    "from sklearn.linear_model import LinearRegression\n",
    "from sklearn.model_selection import train_test_split\n",
    "from sklearn.metrics import mean_squared_error\n",
    "import numpy as np\n",
    "\n",
    "# Step 2: Set Up MLFlow Tracking\n",
    "# MLflow tracking is automatically set up when you import mlflow.\n",
    "# By default, it logs runs to a local file store (./mlruns).\n",
    "# You can configure a different tracking URI if needed:\n",
    "# mlflow.set_tracking_uri(\"your_tracking_uri\")\n",
    "\n",
    "# Set the experiment name (optional, but good practice)\n",
    "mlflow.set_experiment(\"Basic ML Model Monitoring\")\n",
    "\n",
    "# Step 3: Training a Simple Model\n",
    "with mlflow.start_run():\n",
    "    # Log experiment parameters\n",
    "    learning_rate = 0.01\n",
    "    alpha = 0.1\n",
    "    mlflow.log_param(\"learning_rate\", learning_rate)\n",
    "    mlflow.log_param(\"alpha\", alpha)\n",
    "\n",
    "    # Generate some synthetic data\n",
    "    np.random.seed(42)\n",
    "    X = np.random.rand(100, 1)\n",
    "    y = 2 + 3 * X + np.random.randn(100, 1) * 0.1\n",
    "\n",
    "    # Split data into training and testing sets\n",
    "    X_train, X_test, y_train, y_test = train_test_split(X, y, test_size=0.2, random_state=42)\n",
    "\n",
    "    # Train a linear regression model\n",
    "    model = LinearRegression()\n",
    "    model.fit(X_train, y_train)\n",
    "\n",
    "    # Step 4: Logging Model and Metrics\n",
    "    # Make predictions on the test set\n",
    "    predictions = model.predict(X_test)\n",
    "\n",
    "    # Calculate and log a metric\n",
    "    rmse = np.sqrt(mean_squared_error(y_test, predictions))\n",
    "    mlflow.log_metric(\"rmse\", rmse)\n",
    "\n",
    "    # Log the trained model\n",
    "    mlflow.sklearn.log_model(model, \"linear_regression_model\")\n",
    "\n",
    "    print(f\"Logged run_id: {mlflow.active_run().info.run_id}\")\n",
    "    print(f\"Parameters logged: learning_rate={learning_rate}, alpha={alpha}\")\n",
    "    print(f\"Metrics logged: rmse={rmse}\")\n",
    "    print(\"Trained linear regression model logged.\")\n",
    "\n",
    "# Step 5: View Logged Data\n",
    "# To view the logged parameters, metrics, and models, you need to access the MLflow UI.\n",
    "# 1. Make sure your MLflow tracking server is running (it runs by default when you import mlflow).\n",
    "# 2. Open your terminal or command prompt.\n",
    "# 3. Navigate to the directory containing your MLflow runs (usually 'mlruns' in your project directory).\n",
    "# 4. Run the command: `mlflow ui`\n",
    "# 5. This will start the MLflow UI, and you can access it by opening your web browser and navigating to http://localhost:5000 (default).\n",
    "# 6. In the MLflow UI, you can browse the \"Experiments\" tab, find the \"Basic ML Model Monitoring\" experiment, and then view the details of the run you just executed, including the logged parameters, metrics, and the saved model.\n",
    "\n",
    "print(\"\\nTo view the logged data, open the MLflow UI by running 'mlflow ui' in your terminal and navigating to http://localhost:5000.\")"
   ]
  }
 ],
 "metadata": {
  "kernelspec": {
   "display_name": ".venv",
   "language": "python",
   "name": "python3"
  },
  "language_info": {
   "codemirror_mode": {
    "name": "ipython",
    "version": 3
   },
   "file_extension": ".py",
   "mimetype": "text/x-python",
   "name": "python",
   "nbconvert_exporter": "python",
   "pygments_lexer": "ipython3",
   "version": "3.10.12"
  }
 },
 "nbformat": 4,
 "nbformat_minor": 2
}
