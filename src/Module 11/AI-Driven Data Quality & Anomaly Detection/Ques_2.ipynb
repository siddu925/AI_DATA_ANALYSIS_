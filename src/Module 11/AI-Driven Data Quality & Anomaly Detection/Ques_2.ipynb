{
 "cells": [
  {
   "cell_type": "markdown",
   "metadata": {},
   "source": [
    "# Automated Anomaly Detection\n",
    "**Objective**: Understand and practice automated anomaly detection using various techniques.\n",
    "\n",
    "**Task**: Anomaly Detection with Isolation Forest\n",
    "\n",
    "**Steps**:\n",
    "1. Data Set: Obtain a dataset of server response times.\n",
    "2. Train Model: Use Isolation Forest to train a model on the response time data.\n",
    "3. Detect Anomalies: Predict which response times are anomalies.\n",
    "4. Evaluate Results: Assess the number of anomalies detected."
   ]
  },
  {
   "cell_type": "code",
   "execution_count": null,
   "metadata": {},
   "outputs": [],
   "source": [
    "import pandas as pd\n",
    "import numpy as np\n",
    "from sklearn.ensemble import IsolationForest\n",
    "import matplotlib.pyplot as plt\n",
    "\n",
    "# Step 1: Generate sample server response time data (replace with your actual data)\n",
    "np.random.seed(42)\n",
    "timestamps = pd.to_datetime(pd.date_range(start='2025-01-01', end='2025-05-16', freq='S'))  # Sample data until today\n",
    "response_times = 0.1 + 0.02 * np.random.randn(len(timestamps))\n",
    "\n",
    "# Introduce some anomalies (unusually high response times)\n",
    "anomaly_indices = np.random.randint(0, len(response_times), 10)\n",
    "response_times[anomaly_indices] += 0.5\n",
    "\n",
    "df = pd.DataFrame({'Timestamp': timestamps, 'ResponseTime': response_times})\n",
    "\n",
    "# Step 2: Train Model: Use Isolation Forest to train a model on the response time data.\n",
    "# We'll train the model on the 'ResponseTime' column\n",
    "model = IsolationForest(contamination='auto', random_state=42)\n",
    "model.fit(df[['ResponseTime']])\n",
    "\n",
    "# Step 3: Detect Anomalies: Predict which response times are anomalies.\n",
    "# The predict method returns 1 for inliers and -1 for outliers (anomalies)\n",
    "df['Anomaly'] = model.predict(df[['ResponseTime']])\n",
    "df['AnomalyLabel'] = df['Anomaly'].apply(lambda x: 'Anomaly' if x == -1 else 'Normal')\n",
    "anomalies = df[df['Anomaly'] == -1]\n",
    "\n",
    "print(\"Number of Anomalies Detected:\", len(anomalies))\n",
    "print(\"\\nSample of Detected Anomalies:\")\n",
    "print(anomalies.head())\n",
    "\n",
    "# Step 4: Evaluate Results: Assess the number of anomalies detected (already done above)\n",
    "\n",
    "# Visualize the results\n",
    "plt.figure(figsize=(14, 6))\n",
    "plt.plot(df['Timestamp'], df['ResponseTime'], label='Response Time')\n",
    "plt.scatter(anomalies['Timestamp'], anomalies['ResponseTime'], color='red', label='Anomaly')\n",
    "plt.title('Anomaly Detection with Isolation Forest')\n",
    "plt.xlabel('Timestamp')\n",
    "plt.ylabel('Response Time (seconds)')\n",
    "plt.legend()\n",
    "plt.grid(True)\n",
    "plt.show()"
   ]
  }
 ],
 "metadata": {
  "kernelspec": {
   "display_name": ".venv",
   "language": "python",
   "name": "python3"
  },
  "language_info": {
   "codemirror_mode": {
    "name": "ipython",
    "version": 3
   },
   "file_extension": ".py",
   "mimetype": "text/x-python",
   "name": "python",
   "nbconvert_exporter": "python",
   "pygments_lexer": "ipython3",
   "version": "3.10.12"
  }
 },
 "nbformat": 4,
 "nbformat_minor": 2
}
