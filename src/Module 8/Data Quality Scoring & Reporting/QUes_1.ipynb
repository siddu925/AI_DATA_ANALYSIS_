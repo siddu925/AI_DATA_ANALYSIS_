{
 "cells": [
  {
   "cell_type": "markdown",
   "metadata": {},
   "source": [
    "## Read Data from CSV and Calculate DQI\n",
    "\n",
    "**Description**: Read data from a CSV file, identify errors as missing values, and calculate the DQI."
   ]
  },
  {
   "cell_type": "code",
   "execution_count": 1,
   "metadata": {},
   "outputs": [],
   "source": [
    "# Write your code from here"
   ]
  },
  {
   "cell_type": "markdown",
   "metadata": {},
   "source": [
    "### Visualize Basic DQI with Bar Plot\n",
    "\n",
    "**Description**: Create a bar plot for DQI and errors in a dataset."
   ]
  },
  {
   "cell_type": "code",
   "execution_count": 2,
   "metadata": {},
   "outputs": [],
   "source": [
    "# Write your code from here"
   ]
  },
  {
   "cell_type": "code",
   "execution_count": 3,
   "metadata": {},
   "outputs": [
    {
     "name": "stdout",
     "output_type": "stream",
     "text": [
      "Error: File not found at your_data.csv\n"
     ]
    },
    {
     "ename": "ValueError",
     "evalue": "not enough values to unpack (expected 4, got 2)",
     "output_type": "error",
     "traceback": [
      "\u001b[0;31m---------------------------------------------------------------------------\u001b[0m",
      "\u001b[0;31mValueError\u001b[0m                                Traceback (most recent call last)",
      "Cell \u001b[0;32mIn[3], line 38\u001b[0m\n\u001b[1;32m     36\u001b[0m \u001b[38;5;66;03m# Example usage: Replace 'your_data.csv' with the actual path to your file\u001b[39;00m\n\u001b[1;32m     37\u001b[0m file_path \u001b[38;5;241m=\u001b[39m \u001b[38;5;124m'\u001b[39m\u001b[38;5;124myour_data.csv\u001b[39m\u001b[38;5;124m'\u001b[39m\n\u001b[0;32m---> 38\u001b[0m dqi, total_errors, columns, errors_per_column \u001b[38;5;241m=\u001b[39m calculate_dqi(file_path)\n\u001b[1;32m     40\u001b[0m \u001b[38;5;28;01mif\u001b[39;00m dqi \u001b[38;5;129;01mis\u001b[39;00m \u001b[38;5;129;01mnot\u001b[39;00m \u001b[38;5;28;01mNone\u001b[39;00m:\n\u001b[1;32m     41\u001b[0m     \u001b[38;5;28mprint\u001b[39m(\u001b[38;5;124mf\u001b[39m\u001b[38;5;124m\"\u001b[39m\u001b[38;5;124mData Quality Index (DQI): \u001b[39m\u001b[38;5;132;01m{\u001b[39;00mdqi\u001b[38;5;132;01m:\u001b[39;00m\u001b[38;5;124m.2f\u001b[39m\u001b[38;5;132;01m}\u001b[39;00m\u001b[38;5;124m%\u001b[39m\u001b[38;5;124m\"\u001b[39m)\n",
      "\u001b[0;31mValueError\u001b[0m: not enough values to unpack (expected 4, got 2)"
     ]
    }
   ],
   "source": [
    "import pandas as pd\n",
    "import matplotlib.pyplot as plt\n",
    "\n",
    "# --- Read Data from CSV and Calculate DQI ---\n",
    "def calculate_dqi(file_path):\n",
    "    \"\"\"\n",
    "    Reads data from a CSV file, identifies missing values as errors,\n",
    "    calculates the Data Quality Index (DQI), and returns the DQI\n",
    "    and the number of errors.\n",
    "\n",
    "    Args:\n",
    "        file_path (str): The path to the CSV file.\n",
    "\n",
    "    Returns:\n",
    "        tuple: A tuple containing the DQI (float) and the total\n",
    "               number of errors (int).\n",
    "    \"\"\"\n",
    "    try:\n",
    "        df = pd.read_csv(file_path)\n",
    "    except FileNotFoundError:\n",
    "        print(f\"Error: File not found at {file_path}\")\n",
    "        return None, None\n",
    "\n",
    "    total_cells = df.size\n",
    "    missing_values_count = df.isnull().sum().sum()\n",
    "    error_count = missing_values_count  # Treating missing values as errors\n",
    "    valid_cells = total_cells - error_count\n",
    "\n",
    "    if total_cells > 0:\n",
    "        dqi = (valid_cells / total_cells) * 100\n",
    "    else:\n",
    "        dqi = 0\n",
    "\n",
    "    return dqi, error_count, df.columns.tolist(), df.isnull().sum().to_dict()\n",
    "\n",
    "# Example usage: Replace 'your_data.csv' with the actual path to your file\n",
    "file_path = 'your_data.csv'\n",
    "dqi, total_errors, columns, errors_per_column = calculate_dqi(file_path)\n",
    "\n",
    "if dqi is not None:\n",
    "    print(f\"Data Quality Index (DQI): {dqi:.2f}%\")\n",
    "    print(f\"Total Errors (Missing Values): {total_errors}\")\n",
    "    print(f\"Errors per column: {errors_per_column}\")\n",
    "\n",
    "    # --- Visualize Basic DQI with Bar Plot ---\n",
    "    def visualize_dqi(dqi, total_errors, errors_per_column):\n",
    "        \"\"\"\n",
    "        Creates a bar plot visualizing the DQI and the number of errors.\n",
    "\n",
    "        Args:\n",
    "            dqi (float): The Data Quality Index.\n",
    "            total_errors (int): The total number of errors.\n",
    "            errors_per_column (dict): Dictionary of error counts per column.\n",
    "        \"\"\"\n",
    "        labels = ['DQI', 'Total Errors']\n",
    "        values = [dqi, total_errors]\n",
    "\n",
    "        plt.figure(figsize=(8, 6))\n",
    "        plt.bar(labels, values, color=['green', 'red'])\n",
    "        plt.ylabel('Percentage / Count')\n",
    "        plt.title('Data Quality Index and Total Errors')\n",
    "        plt.ylim(0, max(100, total_errors * 1.2))  # Adjust y-axis limit\n",
    "\n",
    "        plt.show()\n",
    "\n",
    "        # Visualize errors per column\n",
    "        plt.figure(figsize=(10, 6))\n",
    "        plt.bar(errors_per_column.keys(), errors_per_column.values(), color='orange')\n",
    "        plt.xlabel('Columns')\n",
    "        plt.ylabel('Number of Missing Values')\n",
    "        plt.title('Missing Values per Column')\n",
    "        plt.xticks(rotation=45, ha='right')\n",
    "        plt.tight_layout()\n",
    "        plt.show()\n",
    "\n",
    "    visualize_dqi(dqi, total_errors, errors_per_column)"
   ]
  }
 ],
 "metadata": {
  "kernelspec": {
   "display_name": ".venv",
   "language": "python",
   "name": "python3"
  },
  "language_info": {
   "codemirror_mode": {
    "name": "ipython",
    "version": 3
   },
   "file_extension": ".py",
   "mimetype": "text/x-python",
   "name": "python",
   "nbconvert_exporter": "python",
   "pygments_lexer": "ipython3",
   "version": "3.10.12"
  }
 },
 "nbformat": 4,
 "nbformat_minor": 2
}
