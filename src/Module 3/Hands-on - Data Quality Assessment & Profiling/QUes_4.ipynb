{
 "cells": [
  {
   "cell_type": "code",
   "execution_count": 1,
   "metadata": {},
   "outputs": [],
   "source": [
    "# Part 1: Load a Dataset & Check Missing Values\n",
    "\n",
    "# Task 1: Customer Dataset\n",
    "# - Load a custom CSV file named customer_data.csv .\n",
    "# - Find any missing values in specific columns like 'Email' and 'Phone'.\n",
    "\n",
    "\n",
    "\n",
    "\n",
    "\n",
    "\n",
    "# Part 2: Identify Duplicates & Inconsistencies\n",
    "\n",
    "# Task 2: Duplicate Emails in Customer Dataset\n",
    "# - Identify duplicate emails which might indicate duplicate customer records.\n",
    "\n",
    "\n",
    "\n",
    "\n",
    "\n",
    "\n",
    "\n",
    "# Part 3: Generate a Data Quality Report\n",
    "\n",
    "# Task 3: Customer Dataset Report\n",
    "# - Summarize the data quality with missing values, duplicates, and inconsistencies for customer_data.csv .\n",
    "\n",
    "\n",
    "\n",
    "\n",
    "\n"
   ]
  },
  {
   "cell_type": "code",
   "execution_count": null,
   "metadata": {},
   "outputs": [
    {
     "name": "stdout",
     "output_type": "stream",
     "text": [
      "Error: The file 'customer_data.csv' was not found. Please ensure it's in the correct directory or provide the full path.\n"
     ]
    },
    {
     "ename": "NameError",
     "evalue": "name 'customer_df' is not defined",
     "output_type": "error",
     "traceback": [
      "\u001b[0;31m---------------------------------------------------------------------------\u001b[0m",
      "\u001b[0;31mNameError\u001b[0m                                 Traceback (most recent call last)",
      "Cell \u001b[0;32mIn[2], line 11\u001b[0m\n\u001b[1;32m      8\u001b[0m     \u001b[38;5;28mprint\u001b[39m(\u001b[38;5;124m\"\u001b[39m\u001b[38;5;124mError: The file \u001b[39m\u001b[38;5;124m'\u001b[39m\u001b[38;5;124mcustomer_data.csv\u001b[39m\u001b[38;5;124m'\u001b[39m\u001b[38;5;124m was not found. Please ensure it\u001b[39m\u001b[38;5;124m'\u001b[39m\u001b[38;5;124ms in the correct directory or provide the full path.\u001b[39m\u001b[38;5;124m\"\u001b[39m)\n\u001b[1;32m      9\u001b[0m     exit()\n\u001b[0;32m---> 11\u001b[0m missing_email \u001b[38;5;241m=\u001b[39m \u001b[43mcustomer_df\u001b[49m[\u001b[38;5;124m'\u001b[39m\u001b[38;5;124mEmail\u001b[39m\u001b[38;5;124m'\u001b[39m]\u001b[38;5;241m.\u001b[39misnull()\u001b[38;5;241m.\u001b[39msum()\n\u001b[1;32m     12\u001b[0m missing_phone \u001b[38;5;241m=\u001b[39m customer_df[\u001b[38;5;124m'\u001b[39m\u001b[38;5;124mPhone\u001b[39m\u001b[38;5;124m'\u001b[39m]\u001b[38;5;241m.\u001b[39misnull()\u001b[38;5;241m.\u001b[39msum()\n\u001b[1;32m     14\u001b[0m \u001b[38;5;28mprint\u001b[39m(\u001b[38;5;124mf\u001b[39m\u001b[38;5;124m\"\u001b[39m\u001b[38;5;124mNumber of missing values in the \u001b[39m\u001b[38;5;124m'\u001b[39m\u001b[38;5;124mEmail\u001b[39m\u001b[38;5;124m'\u001b[39m\u001b[38;5;124m column: \u001b[39m\u001b[38;5;132;01m{\u001b[39;00mmissing_email\u001b[38;5;132;01m}\u001b[39;00m\u001b[38;5;124m\"\u001b[39m)\n",
      "\u001b[0;31mNameError\u001b[0m: name 'customer_df' is not defined"
     ]
    },
    {
     "ename": "",
     "evalue": "",
     "output_type": "error",
     "traceback": [
      "\u001b[1;31mThe Kernel crashed while executing code in the current cell or a previous cell. \n",
      "\u001b[1;31mPlease review the code in the cell(s) to identify a possible cause of the failure. \n",
      "\u001b[1;31mClick <a href='https://aka.ms/vscodeJupyterKernelCrash'>here</a> for more info. \n",
      "\u001b[1;31mView Jupyter <a href='command:jupyter.viewOutput'>log</a> for further details."
     ]
    }
   ],
   "source": [
    "import pandas as pd\n",
    "\n",
    "# Part 1: Load a Dataset & Check Missing Values\n",
    "# Task 1: Customer Dataset\n",
    "try:\n",
    "    customer_df = pd.read_csv('customer_data.csv')\n",
    "except FileNotFoundError:\n",
    "    print(\"Error: The file 'customer_data.csv' was not found. Please ensure it's in the correct directory or provide the full path.\")\n",
    "    exit()\n",
    "\n",
    "missing_email = customer_df['Email'].isnull().sum()\n",
    "missing_phone = customer_df['Phone'].isnull().sum()\n",
    "\n",
    "print(f\"Number of missing values in the 'Email' column: {missing_email}\")\n",
    "print(f\"Number of missing values in the 'Phone' column: {missing_phone}\\n\")\n",
    "\n",
    "# Part 2: Identify Duplicates & Inconsistencies\n",
    "# Task 2: Duplicate Emails in Customer Dataset\n",
    "duplicate_emails = customer_df['Email'].duplicated(keep=False).sum()\n",
    "print(f\"Number of duplicate emails (indicating potential duplicate customers): {duplicate_emails}\\n\")\n",
    "\n",
    "# Part 3: Generate a Data Quality Report\n",
    "# Task 3: Customer Dataset Report\n",
    "print(\"--- Data Quality Report: Customer Dataset (customer_data.csv) ---\")\n",
    "print(f\"Total number of rows: {len(customer_df)}\")\n",
    "print(f\"Total number of columns: {len(customer_df.columns)}\")\n",
    "print(f\"\\nMissing Values in Specific Columns:\")\n",
    "print(f\"  'Email': {missing_email}\")\n",
    "print(f\"  'Phone': {missing_phone}\")\n",
    "print(f\"\\nNumber of duplicate emails: {duplicate_emails}\")\n",
    "print(\"--- End of Report ---\")"
   ]
  }
 ],
 "metadata": {
  "kernelspec": {
   "display_name": ".venv",
   "language": "python",
   "name": "python3"
  },
  "language_info": {
   "codemirror_mode": {
    "name": "ipython",
    "version": 3
   },
   "file_extension": ".py",
   "mimetype": "text/x-python",
   "name": "python",
   "nbconvert_exporter": "python",
   "pygments_lexer": "ipython3",
   "version": "3.10.12"
  }
 },
 "nbformat": 4,
 "nbformat_minor": 2
}
