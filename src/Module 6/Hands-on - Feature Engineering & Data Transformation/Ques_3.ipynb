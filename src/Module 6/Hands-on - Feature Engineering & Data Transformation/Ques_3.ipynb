{
 "cells": [
  {
   "cell_type": "code",
   "execution_count": 1,
   "metadata": {},
   "outputs": [],
   "source": [
    "# Feature Scaling & Encoding\n",
    "\n",
    "# Objective: Learn to scale numerical features and encode categorical features for better model performance.\n",
    "# Instructions:\n",
    "# For each example, perform the following steps:\n",
    "#     1. Load the Dataset: Load the dataset into your environment.\n",
    "#     2. Feature Scaling: Apply scaling methods (StandardScaler or MinMaxScaler) to specified numerical columns.\n",
    "#     3. Feature Encoding: Apply encoding methods (One-Hot Encoding or Label Encoding) to specified categorical columns.\n",
    "#     4. Verify Changes: Check the data to ensure proper scaling and encoding. \n",
    "\n",
    "\n",
    "# Task:\n",
    "#   Dataset: car_features.csv (get it by your own it includes the columns of Mileage , Horsepower)\n",
    "    # Columns to scale: Mileage , Horsepower\n",
    "    # Column to encode: Fuel_Type\n",
    "    # Steps:\n",
    "    #     1. Load car_features.csv .\n",
    "    #     2. Scale Mileage and Horsepower using StandardScaler.\n",
    "    #     3. Encode Fuel_Type using Label Encoding.\n",
    "    #     4. Confirm scaling and encoding by checking these columns.\n",
    "\n",
    "\n",
    "\n",
    "    \n",
    "    \n",
    "    "
   ]
  },
  {
   "cell_type": "code",
   "execution_count": null,
   "metadata": {},
   "outputs": [
    {
     "name": "stdout",
     "output_type": "stream",
     "text": [
      "Error: car_features.csv not found. Please ensure the file is in the correct directory.\n"
     ]
    },
    {
     "ename": "NameError",
     "evalue": "name 'df' is not defined",
     "output_type": "error",
     "traceback": [
      "\u001b[0;31m---------------------------------------------------------------------------\u001b[0m",
      "\u001b[0;31mNameError\u001b[0m                                 Traceback (most recent call last)",
      "Cell \u001b[0;32mIn[2], line 18\u001b[0m\n\u001b[1;32m     16\u001b[0m \u001b[38;5;66;03m# 2. Scale Mileage and Horsepower using StandardScaler\u001b[39;00m\n\u001b[1;32m     17\u001b[0m scaler \u001b[38;5;241m=\u001b[39m StandardScaler()\n\u001b[0;32m---> 18\u001b[0m df[numerical_cols] \u001b[38;5;241m=\u001b[39m scaler\u001b[38;5;241m.\u001b[39mfit_transform(\u001b[43mdf\u001b[49m[numerical_cols])\n\u001b[1;32m     19\u001b[0m \u001b[38;5;28mprint\u001b[39m(\u001b[38;5;124m\"\u001b[39m\u001b[38;5;130;01m\\n\u001b[39;00m\u001b[38;5;124mNumerical features scaled using StandardScaler:\u001b[39m\u001b[38;5;124m\"\u001b[39m)\n\u001b[1;32m     20\u001b[0m \u001b[38;5;28mprint\u001b[39m(df[numerical_cols]\u001b[38;5;241m.\u001b[39mhead())\n",
      "\u001b[0;31mNameError\u001b[0m: name 'df' is not defined"
     ]
    },
    {
     "ename": "",
     "evalue": "",
     "output_type": "error",
     "traceback": [
      "\u001b[1;31mThe Kernel crashed while executing code in the current cell or a previous cell. \n",
      "\u001b[1;31mPlease review the code in the cell(s) to identify a possible cause of the failure. \n",
      "\u001b[1;31mClick <a href='https://aka.ms/vscodeJupyterKernelCrash'>here</a> for more info. \n",
      "\u001b[1;31mView Jupyter <a href='command:jupyter.viewOutput'>log</a> for further details."
     ]
    }
   ],
   "source": [
    "import pandas as pd\n",
    "from sklearn.preprocessing import StandardScaler, LabelEncoder\n",
    "\n",
    "# 1. Load car_features.csv\n",
    "try:\n",
    "    df = pd.read_csv('car_features.csv')\n",
    "    print(\"Dataset loaded successfully!\")\n",
    "except FileNotFoundError:\n",
    "    print(\"Error: car_features.csv not found. Please ensure the file is in the correct directory.\")\n",
    "    exit()\n",
    "\n",
    "# Identify numerical and categorical columns\n",
    "numerical_cols = ['Mileage', 'Horsepower']\n",
    "categorical_col = ['Fuel_Type']\n",
    "\n",
    "# 2. Scale Mileage and Horsepower using StandardScaler\n",
    "scaler = StandardScaler()\n",
    "df[numerical_cols] = scaler.fit_transform(df[numerical_cols])\n",
    "print(\"\\nNumerical features scaled using StandardScaler:\")\n",
    "print(df[numerical_cols].head())\n",
    "print(\"\\nSummary statistics of the scaled numerical features:\")\n",
    "print(df[numerical_cols].describe())\n",
    "\n",
    "# 3. Encode Fuel_Type using Label Encoding\n",
    "label_encoder = LabelEncoder()\n",
    "df['Fuel_Type_Encoded'] = label_encoder.fit_transform(df[categorical_col])\n",
    "print(\"\\nCategorical feature 'Fuel_Type' Label Encoded:\")\n",
    "print(df[['Fuel_Type', 'Fuel_Type_Encoded']].head())\n",
    "print(\"\\nMapping of Fuel Types to Encoded Values:\")\n",
    "print(dict(zip(label_encoder.classes_, label_encoder.transform(label_encoder.classes_))))\n",
    "\n",
    "# 4. Confirm scaling and encoding by checking these columns\n",
    "print(\"\\nFirst 5 rows of the transformed dataset:\")\n",
    "print(df.head())\n",
    "\n",
    "print(\"\\nValue counts of the original 'Fuel_Type' column:\")\n",
    "try:\n",
    "    original_df = pd.read_csv('car_features.csv')\n",
    "    print(original_df['Fuel_Type'].value_counts())\n",
    "except FileNotFoundError:\n",
    "    print(\"Original car_features.csv not found for verification of 'Fuel_Type'.\")\n",
    "\n",
    "print(\"\\nColumns in the final transformed dataset:\")\n",
    "print(df.columns)"
   ]
  }
 ],
 "metadata": {
  "kernelspec": {
   "display_name": ".venv",
   "language": "python",
   "name": "python3"
  },
  "language_info": {
   "codemirror_mode": {
    "name": "ipython",
    "version": 3
   },
   "file_extension": ".py",
   "mimetype": "text/x-python",
   "name": "python",
   "nbconvert_exporter": "python",
   "pygments_lexer": "ipython3",
   "version": "3.10.12"
  }
 },
 "nbformat": 4,
 "nbformat_minor": 2
}
