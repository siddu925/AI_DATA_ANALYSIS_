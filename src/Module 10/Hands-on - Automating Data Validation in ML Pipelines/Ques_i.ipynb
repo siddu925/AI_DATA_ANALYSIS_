{
 "cells": [
  {
   "cell_type": "markdown",
   "metadata": {},
   "source": [
    "### Using Great Expectations for Automated Data Checks\n",
    "**Objective**: Use Great Expectations to perform data validation steps on a dataset.\n",
    "\n",
    "**Task 1**: Validate Column Existence\n",
    "\n",
    "**Steps**:\n",
    "- Load your dataset using a Pandas DataFrame.\n",
    "- Use Great Expectations to setup an expectation suite.\n",
    "- Create an expectation to confirm that a specific column (e.g., customer_id ) exists in your dataset.\n",
    "- Run the expectation and observe the results."
   ]
  },
  {
   "cell_type": "code",
   "execution_count": 4,
   "metadata": {},
   "outputs": [],
   "source": [
    "# write your code from here"
   ]
  },
  {
   "cell_type": "markdown",
   "metadata": {},
   "source": [
    "**Task 2**: Validate Column Data Types\n",
    "\n",
    "**Steps**:\n",
    "- Using the same dataset setup, create an expectation to check that a numeric column\n",
    "(e.g., purchase_amount ) contains only float values.\n",
    "- Identify a numeric column in your dataset.\n",
    "- Use Great Expectations to create and validate an expectation that checks the column's data type is correct.\n",
    "- Run your expectation and check if it passes for your data."
   ]
  },
  {
   "cell_type": "code",
   "execution_count": 5,
   "metadata": {},
   "outputs": [],
   "source": [
    "# write your code from here"
   ]
  },
  {
   "cell_type": "markdown",
   "metadata": {},
   "source": [
    "**Task 3**: Validate Range of Values\n",
    "\n",
    "**Steps**:\n",
    "- Set an expectation using Great Expectations to ensure that a column (e.g., age ) values\n",
    "are between 18 and 65.\n",
    "- Identify a column in your dataset where values fall within a specific range.\n",
    "- Implement a range-based expectation to check this column and validate your dataset.\n",
    "- Observe and interpret the result of your expectation."
   ]
  },
  {
   "cell_type": "code",
   "execution_count": 6,
   "metadata": {},
   "outputs": [
    {
     "ename": "AttributeError",
     "evalue": "'EphemeralDataContext' object has no attribute 'add_pandas'",
     "output_type": "error",
     "traceback": [
      "\u001b[0;31m---------------------------------------------------------------------------\u001b[0m",
      "\u001b[0;31mAttributeError\u001b[0m                            Traceback (most recent call last)",
      "Cell \u001b[0;32mIn[6], line 17\u001b[0m\n\u001b[1;32m     15\u001b[0m datasource_name \u001b[38;5;241m=\u001b[39m \u001b[38;5;124m\"\u001b[39m\u001b[38;5;124mmy_pandas_datasource\u001b[39m\u001b[38;5;124m\"\u001b[39m\n\u001b[1;32m     16\u001b[0m \u001b[38;5;28;01mif\u001b[39;00m datasource_name \u001b[38;5;129;01mnot\u001b[39;00m \u001b[38;5;129;01min\u001b[39;00m context\u001b[38;5;241m.\u001b[39mlist_datasources():\n\u001b[0;32m---> 17\u001b[0m     \u001b[43mcontext\u001b[49m\u001b[38;5;241;43m.\u001b[39;49m\u001b[43madd_pandas\u001b[49m(name\u001b[38;5;241m=\u001b[39mdatasource_name, dataframe\u001b[38;5;241m=\u001b[39mdf)\n\u001b[1;32m     19\u001b[0m \u001b[38;5;66;03m# Create a batch of data\u001b[39;00m\n\u001b[1;32m     20\u001b[0m batch_kwargs \u001b[38;5;241m=\u001b[39m {\u001b[38;5;124m\"\u001b[39m\u001b[38;5;124mdatasource\u001b[39m\u001b[38;5;124m\"\u001b[39m: datasource_name, \u001b[38;5;124m\"\u001b[39m\u001b[38;5;124mname\u001b[39m\u001b[38;5;124m\"\u001b[39m: \u001b[38;5;124m\"\u001b[39m\u001b[38;5;124mmy_data_batch\u001b[39m\u001b[38;5;124m\"\u001b[39m}\n",
      "\u001b[0;31mAttributeError\u001b[0m: 'EphemeralDataContext' object has no attribute 'add_pandas'"
     ]
    }
   ],
   "source": [
    "import pandas as pd\n",
    "import great_expectations as ge\n",
    "\n",
    "# Load your dataset using Pandas\n",
    "data = {'customer_id': [1, 2, 3, 4, 5],\n",
    "        'purchase_amount': [10.5, 20.3, 5.0, 15.7, 22.1],\n",
    "        'age': [25, 30, 18, 45, 60],\n",
    "        'product_type': ['A', 'B', 'A', 'C', 'B']}\n",
    "df = pd.DataFrame(data)\n",
    "\n",
    "# Create a Great Expectations context\n",
    "context = ge.get_context()\n",
    "\n",
    "# Create a datasource (if you haven't already)\n",
    "datasource_name = \"my_pandas_datasource\"\n",
    "if datasource_name not in context.list_datasources():\n",
    "    context.add_pandas(name=datasource_name, dataframe=df)\n",
    "\n",
    "# Create a batch of data\n",
    "batch_kwargs = {\"datasource\": datasource_name, \"name\": \"my_data_batch\"}\n",
    "batch = context.get_batch(batch_kwargs)\n",
    "\n",
    "# Create an expectation suite (if you haven't already)\n",
    "expectation_suite_name = \"my_expectation_suite\"\n",
    "if expectation_suite_name not in context.list_expectation_suite_names():\n",
    "    context.create_expectation_suite(expectation_suite_name=expectation_suite_name)\n",
    "\n",
    "validator = context.get_validator(\n",
    "    batch_request=batch.as_batch_request(),\n",
    "    expectation_suite_name=expectation_suite_name,\n",
    ")\n",
    "print(f\"Using validator for data: {validator.active_batch_request.batch_spec}\")\n",
    "\n",
    "print(\"\\n--- Task 1: Validate Column Existence ---\")\n",
    "column_to_check = \"customer_id\"\n",
    "expectation_result_column_exists = validator.expect_column_to_exist(column=column_to_check)\n",
    "print(f\"Expectation to check if column '{column_to_check}' exists: {expectation_result_column_exists.success}\")\n",
    "\n",
    "print(\"\\n--- Task 2: Validate Column Data Types ---\")\n",
    "column_to_check_type = \"purchase_amount\"\n",
    "expected_data_type = \"float\"\n",
    "expectation_result_column_type = validator.expect_column_values_to_be_of_type(\n",
    "    column=column_to_check_type, type_=expected_data_type\n",
    ")\n",
    "print(f\"Expectation to check if column '{column_to_check_type}' is of type '{expected_data_type}': {expectation_result_column_type.success}\")\n",
    "\n",
    "print(\"\\n--- Task 3: Validate Range of Values ---\")\n",
    "column_to_check_range = \"age\"\n",
    "min_value = 18\n",
    "max_value = 65\n",
    "expectation_result_column_range = validator.expect_column_values_to_be_between(\n",
    "    column=column_to_check_range, min_value=min_value, max_value=max_value\n",
    ")\n",
    "print(f\"Expectation to check if values in column '{column_to_check_range}' are between {min_value} and {max_value}: {expectation_result_column_range.success}\")\n",
    "\n",
    "# Save the expectations (optional, but recommended for persistent validation)\n",
    "validator.save_expectation_suite()"
   ]
  }
 ],
 "metadata": {
  "kernelspec": {
   "display_name": ".venv",
   "language": "python",
   "name": "python3"
  },
  "language_info": {
   "codemirror_mode": {
    "name": "ipython",
    "version": 3
   },
   "file_extension": ".py",
   "mimetype": "text/x-python",
   "name": "python",
   "nbconvert_exporter": "python",
   "pygments_lexer": "ipython3",
   "version": "3.10.12"
  }
 },
 "nbformat": 4,
 "nbformat_minor": 2
}
