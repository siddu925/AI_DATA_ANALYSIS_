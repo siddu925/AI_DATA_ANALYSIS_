{
 "cells": [
  {
   "cell_type": "markdown",
   "metadata": {},
   "source": [
    "### Implementing Adversarial Validation for Data Drift\n",
    "Description: Create and train a classifier that distinguishes between train and test datasets, using the classifier’s performance to infer data drift."
   ]
  },
  {
   "cell_type": "code",
   "execution_count": 1,
   "metadata": {},
   "outputs": [
    {
     "name": "stdout",
     "output_type": "stream",
     "text": [
      "Adversarial Validation AUC: 0.7178\n",
      "Adversarial Validation Accuracy: 0.6233\n",
      "High AUC (0.7178) suggests significant data drift.\n"
     ]
    }
   ],
   "source": [
    "import pandas as pd\n",
    "import numpy as np\n",
    "from sklearn.model_selection import train_test_split\n",
    "from sklearn.ensemble import GradientBoostingClassifier\n",
    "from sklearn.metrics import roc_auc_score, accuracy_score\n",
    "\n",
    "# Assume you have your baseline data in 'baseline_df' and current data in 'current_df'\n",
    "# For demonstration, let's create some sample data\n",
    "np.random.seed(42)\n",
    "n_samples = 1000\n",
    "baseline_df = pd.DataFrame({\n",
    "    'feature_1': np.random.normal(0, 1, n_samples),\n",
    "    'feature_2': np.random.normal(0, 1, n_samples),\n",
    "    'feature_3': np.random.rand(n_samples)\n",
    "})\n",
    "current_df = pd.DataFrame({\n",
    "    'feature_1': np.random.normal(0.5, 1.2, n_samples),\n",
    "    'feature_2': np.random.normal(-0.2, 0.8, n_samples),\n",
    "    'feature_3': np.random.rand(n_samples) + 0.1\n",
    "})\n",
    "\n",
    "# Add a target variable to distinguish between the datasets\n",
    "baseline_df['is_current'] = 0  # 0 for baseline\n",
    "current_df['is_current'] = 1   # 1 for current\n",
    "\n",
    "# Combine the datasets\n",
    "combined_df = pd.concat([baseline_df, current_df], ignore_index=True)\n",
    "\n",
    "# Separate features (X) and the target variable (y)\n",
    "X = combined_df.drop('is_current', axis=1)\n",
    "y = combined_df['is_current']\n",
    "\n",
    "# Split the combined data into training and testing sets for the adversarial classifier\n",
    "X_train, X_test, y_train, y_test = train_test_split(X, y, test_size=0.3, stratify=y, random_state=42)\n",
    "\n",
    "# Train a classifier to distinguish between the two datasets\n",
    "model = GradientBoostingClassifier(random_state=42)\n",
    "model.fit(X_train, y_train)\n",
    "\n",
    "# Make predictions on the test set\n",
    "y_pred_proba = model.predict_proba(X_test)[:, 1]\n",
    "y_pred = model.predict(X_test)\n",
    "\n",
    "# Evaluate the performance of the adversarial classifier\n",
    "auc_score = roc_auc_score(y_test, y_pred_proba)\n",
    "accuracy = accuracy_score(y_test, y_pred)\n",
    "\n",
    "print(f\"Adversarial Validation AUC: {auc_score:.4f}\")\n",
    "print(f\"Adversarial Validation Accuracy: {accuracy:.4f}\")\n",
    "\n",
    "# Interpret the results\n",
    "drift_threshold = 0.7  # You'll need to determine an appropriate threshold\n",
    "\n",
    "if auc_score > drift_threshold:\n",
    "    print(f\"High AUC ({auc_score:.4f}) suggests significant data drift.\")\n",
    "else:\n",
    "    print(f\"Lower AUC ({auc_score:.4f}) suggests less significant data drift.\")"
   ]
  }
 ],
 "metadata": {
  "kernelspec": {
   "display_name": ".venv",
   "language": "python",
   "name": "python3"
  },
  "language_info": {
   "codemirror_mode": {
    "name": "ipython",
    "version": 3
   },
   "file_extension": ".py",
   "mimetype": "text/x-python",
   "name": "python",
   "nbconvert_exporter": "python",
   "pygments_lexer": "ipython3",
   "version": "3.10.12"
  }
 },
 "nbformat": 4,
 "nbformat_minor": 2
}
