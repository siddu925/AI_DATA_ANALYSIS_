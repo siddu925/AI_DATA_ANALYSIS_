{
 "cells": [
  {
   "cell_type": "markdown",
   "metadata": {},
   "source": [
    "## Find Conflicting Values Across Datasets\n",
    "\n",
    "**Description**: You have two datasets: `crm_customers.csv` and `erp_customers.csv` . Find customers with conflicting \"email\" information."
   ]
  },
  {
   "cell_type": "code",
   "execution_count": 1,
   "metadata": {},
   "outputs": [
    {
     "name": "stdout",
     "output_type": "stream",
     "text": [
      "\n",
      "--- Find Conflicting Email Values Across Datasets ---\n",
      "Error: One or both of the CSV files ('crm_customers.csv', 'erp_customers.csv') were not found: [Errno 2] No such file or directory: 'crm_customers.csv'\n"
     ]
    }
   ],
   "source": [
    "# Write your code from here\n",
    "import pandas as pd\n",
    "\n",
    "print(\"\\n--- Find Conflicting Email Values Across Datasets ---\")\n",
    "try:\n",
    "    crm_customers = pd.read_csv('crm_customers.csv')\n",
    "    erp_customers = pd.read_csv('erp_customers.csv')\n",
    "\n",
    "    # Assuming both DataFrames have a common customer identifier column,\n",
    "    # let's assume it's 'customer_id'. Adjust if your column name is different.\n",
    "    merged_df = pd.merge(crm_customers, erp_customers, on='customer_id', suffixes=('_crm', '_erp'))\n",
    "\n",
    "    # Identify rows where the email addresses are different\n",
    "    conflicting_emails_df = merged_df[merged_df['email_crm'] != merged_df['email_erp']]\n",
    "\n",
    "    if conflicting_emails_df.empty:\n",
    "        print(\"No customers found with conflicting email information.\")\n",
    "    else:\n",
    "        print(\"Customers with conflicting email information:\")\n",
    "        print(conflicting_emails_df[['customer_id', 'email_crm', 'email_erp']])\n",
    "\n",
    "except FileNotFoundError as e:\n",
    "    print(f\"Error: One or both of the CSV files ('crm_customers.csv', 'erp_customers.csv') were not found: {e}\")\n",
    "except KeyError as e:\n",
    "    print(f\"Error: One or both of the CSV files must contain a column named '{e}'. Please ensure 'customer_id' and 'email' columns exist.\")"
   ]
  }
 ],
 "metadata": {
  "kernelspec": {
   "display_name": ".venv",
   "language": "python",
   "name": "python3"
  },
  "language_info": {
   "codemirror_mode": {
    "name": "ipython",
    "version": 3
   },
   "file_extension": ".py",
   "mimetype": "text/x-python",
   "name": "python",
   "nbconvert_exporter": "python",
   "pygments_lexer": "ipython3",
   "version": "3.10.12"
  }
 },
 "nbformat": 4,
 "nbformat_minor": 2
}
