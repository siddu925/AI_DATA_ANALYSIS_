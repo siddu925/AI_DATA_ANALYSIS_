{
 "cells": [
  {
   "cell_type": "markdown",
   "metadata": {},
   "source": [
    "## Advanced Consistency Check with Hierarchical Data\n",
    "\n",
    "**Description**: You have two datasets `orders.csv` and `order_items.csv` . Perform a consistency check to ensure each order in `orders.csv` has corresponding items in `order_items.csv` ."
   ]
  },
  {
   "cell_type": "code",
   "execution_count": 1,
   "metadata": {},
   "outputs": [
    {
     "name": "stdout",
     "output_type": "stream",
     "text": [
      "\n",
      "--- Advanced Consistency Check with Hierarchical Data ---\n",
      "Error: One or both of the CSV files ('orders.csv', 'order_items.csv') were not found: [Errno 2] No such file or directory: 'orders.csv'\n"
     ]
    }
   ],
   "source": [
    "# Write your code from here\n",
    "import pandas as pd\n",
    "\n",
    "print(\"\\n--- Advanced Consistency Check with Hierarchical Data ---\")\n",
    "try:\n",
    "    orders = pd.read_csv('orders.csv')\n",
    "    order_items = pd.read_csv('order_items.csv')\n",
    "\n",
    "    # Assuming both DataFrames have a common column named 'order_id'.\n",
    "    # If your order identifier column has a different name, replace 'order_id' accordingly.\n",
    "    orders_without_items = orders[~orders['order_id'].isin(order_items['order_id'])]\n",
    "    items_without_orders = order_items[~order_items['order_id'].isin(orders['order_id'])]\n",
    "\n",
    "    if orders_without_items.empty and items_without_orders.empty:\n",
    "        print(\"Consistency check passed: Every order in 'orders.csv' has corresponding items in 'order_items.csv', and vice versa.\")\n",
    "    else:\n",
    "        if not orders_without_items.empty:\n",
    "            print(\"\\nOrders in 'orders.csv' without corresponding items in 'order_items.csv':\")\n",
    "            print(orders_without_items)\n",
    "        if not items_without_orders.empty:\n",
    "            print(\"\\nItems in 'order_items.csv' without a corresponding order in 'orders.csv':\")\n",
    "            print(items_without_orders)\n",
    "\n",
    "except FileNotFoundError as e:\n",
    "    print(f\"Error: One or both of the CSV files ('orders.csv', 'order_items.csv') were not found: {e}\")\n",
    "except KeyError as e:\n",
    "    print(f\"Error: One or both of the CSV files must contain a column named 'order_id'. Please adjust if your order identifier column has a different name.\")"
   ]
  }
 ],
 "metadata": {
  "kernelspec": {
   "display_name": ".venv",
   "language": "python",
   "name": "python3"
  },
  "language_info": {
   "codemirror_mode": {
    "name": "ipython",
    "version": 3
   },
   "file_extension": ".py",
   "mimetype": "text/x-python",
   "name": "python",
   "nbconvert_exporter": "python",
   "pygments_lexer": "ipython3",
   "version": "3.10.12"
  }
 },
 "nbformat": 4,
 "nbformat_minor": 2
}
