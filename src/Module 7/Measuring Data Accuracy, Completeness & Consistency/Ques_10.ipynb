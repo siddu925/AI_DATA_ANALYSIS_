{
 "cells": [
  {
   "cell_type": "markdown",
   "metadata": {},
   "source": [
    "# Ensuring Consistency\n",
    "\n",
    "**Activity Overview**: Ensure consistency by identifying and resolving conflicting values across datasets.\n",
    "\n",
    "## Title: Customer Address Discrepancies\n",
    "\n",
    "**Task**: Address customer address mismatches between CRM and marketing databases.\n",
    "\n",
    "**Steps**:\n",
    "1. Compare customer addresses in the CRM with those in the marketing database.\n",
    "2. Identify records with conflicting address information.\n",
    "3. Propose a method to consolidate records with verified addresses."
   ]
  },
  {
   "cell_type": "code",
   "execution_count": 1,
   "metadata": {},
   "outputs": [
    {
     "name": "stdout",
     "output_type": "stream",
     "text": [
      "\n",
      "--- Customer Address Mismatch Identification ---\n",
      "Error: One or both of the CSV files ('crm_customers.csv', 'marketing_customers.csv') were not found: [Errno 2] No such file or directory: 'crm_customers.csv'\n"
     ]
    }
   ],
   "source": [
    "# Write your code from here\n",
    "import pandas as pd\n",
    "\n",
    "print(\"\\n--- Customer Address Mismatch Identification ---\")\n",
    "\n",
    "# --- Configuration ---\n",
    "CRM_DATA_PATH = 'crm_customers.csv'         # Path to your CRM customer data\n",
    "MARKETING_DATA_PATH = 'marketing_customers.csv' # Path to your marketing customer data\n",
    "CUSTOMER_ID_COLUMN = 'customer_id'         # Common column to identify customers\n",
    "ADDRESS_COLUMN_CRM = 'crm_address'          # Address column in CRM data\n",
    "ADDRESS_COLUMN_MARKETING = 'marketing_address' # Address column in marketing data\n",
    "\n",
    "try:\n",
    "    # Load the datasets\n",
    "    crm_data = pd.read_csv(CRM_DATA_PATH)\n",
    "    marketing_data = pd.read_csv(MARKETING_DATA_PATH)\n",
    "\n",
    "    # Merge the two datasets on the customer ID\n",
    "    merged_df = pd.merge(crm_data, marketing_data, on=CUSTOMER_ID_COLUMN, suffixes=('_crm', '_marketing'), how='inner')\n",
    "\n",
    "    # Identify records with conflicting address information\n",
    "    conflicting_addresses_df = merged_df[merged_df[ADDRESS_COLUMN_CRM] != merged_df[ADDRESS_COLUMN_MARKETING]]\n",
    "\n",
    "    if conflicting_addresses_df.empty:\n",
    "        print(\"No conflicting customer addresses found between the CRM and marketing databases (for matching customer IDs).\")\n",
    "    else:\n",
    "        print(\"\\nCustomers with conflicting address information:\")\n",
    "        print(conflicting_addresses_df[[CUSTOMER_ID_COLUMN, ADDRESS_COLUMN_CRM, ADDRESS_COLUMN_MARKETING]])\n",
    "\n",
    "    print(\"\\n--- Proposed Method to Consolidate Records with Verified Addresses ---\")\n",
    "    print(\"\\n1. **Identify a 'Verified Address' Source:** Determine which database (CRM or marketing) is more likely to contain the most accurate and up-to-date address information. This might involve checking for timestamps, data entry protocols, or specific data quality checks performed on either database.\")\n",
    "    print(\"\\n2. **Prioritize Verified Addresses:**\")\n",
    "    print(\"   - If one database is deemed the 'verified' source, prioritize its address during consolidation.\")\n",
    "    print(\"   - If there's no single verified source, consider implementing a rule-based system:\")\n",
    "    print(\"     - Prioritize addresses that have been recently updated.\")\n",
    "    print(\"     - Prioritize addresses that have more complete information (e.g., fewer missing fields).\")\n",
    "    print(\"     - Potentially use a third-party address verification service to validate and standardize addresses from both sources.\")\n",
    "    print(\"\\n3. **Consolidation Process:**\")\n",
    "    print(\"   - For records with matching 'customer_id' and conflicting addresses:\")\n",
    "    print(\"     - If a verified address source is identified, update the address in the non-verified system with the address from the verified source.\")\n",
    "    print(\"     - If using a rule-based system, apply the rules to determine the most appropriate address to retain or use for updating.\")\n",
    "    print(\"\\n4. **Logging and Auditing:** Maintain a log of all address conflicts and the resolution steps taken. This helps in understanding the extent of the issue and tracking the impact of the consolidation process.\")\n",
    "    print(\"\\n5. **Data Governance:** Implement clear data governance policies and procedures for address management in both the CRM and marketing databases to prevent future inconsistencies. This might include standardized address formats, validation rules at the point of entry, and regular data quality checks.\")\n",
    "\n",
    "except FileNotFoundError as e:\n",
    "    print(f\"Error: One or both of the CSV files ('{CRM_DATA_PATH}', '{MARKETING_DATA_PATH}') were not found: {e}\")\n",
    "except KeyError as e:\n",
    "    print(f\"Error: One or more of the specified column names were not found in the CSV files. Please check: '{CUSTOMER_ID_COLUMN}', '{ADDRESS_COLUMN_CRM}', '{ADDRESS_COLUMN_MARKETING}'\")\n",
    "except Exception as e:\n",
    "    print(f\"An unexpected error occurred: {e}\")"
   ]
  }
 ],
 "metadata": {
  "kernelspec": {
   "display_name": ".venv",
   "language": "python",
   "name": "python3"
  },
  "language_info": {
   "codemirror_mode": {
    "name": "ipython",
    "version": 3
   },
   "file_extension": ".py",
   "mimetype": "text/x-python",
   "name": "python",
   "nbconvert_exporter": "python",
   "pygments_lexer": "ipython3",
   "version": "3.10.12"
  }
 },
 "nbformat": 4,
 "nbformat_minor": 2
}
