{
 "cells": [
  {
   "cell_type": "markdown",
   "metadata": {},
   "source": [
    "### Implementing and Logging an ML Experiment with MLFlow\n",
    "**Description**: Train an ML model for an e-commerce recommendation engine using MLFlow to track models and experiments.\n",
    "\n",
    "**Steps**:\n",
    "1. MLFlow Integration Setup\n",
    "2. Training the Model\n",
    "3. Logging the Experiment\n",
    "4. Accessing MLFlow UI"
   ]
  },
  {
   "cell_type": "code",
   "execution_count": 1,
   "metadata": {},
   "outputs": [
    {
     "ename": "ModuleNotFoundError",
     "evalue": "No module named 'mlflow'",
     "output_type": "error",
     "traceback": [
      "\u001b[0;31m---------------------------------------------------------------------------\u001b[0m",
      "\u001b[0;31mModuleNotFoundError\u001b[0m                       Traceback (most recent call last)",
      "Cell \u001b[0;32mIn[1], line 1\u001b[0m\n\u001b[0;32m----> 1\u001b[0m \u001b[38;5;28;01mimport\u001b[39;00m\u001b[38;5;250m \u001b[39m\u001b[38;5;21;01mmlflow\u001b[39;00m\n\u001b[1;32m      2\u001b[0m \u001b[38;5;28;01mimport\u001b[39;00m\u001b[38;5;250m \u001b[39m\u001b[38;5;21;01mmlflow\u001b[39;00m\u001b[38;5;21;01m.\u001b[39;00m\u001b[38;5;21;01msklearn\u001b[39;00m\n\u001b[1;32m      3\u001b[0m \u001b[38;5;28;01mfrom\u001b[39;00m\u001b[38;5;250m \u001b[39m\u001b[38;5;21;01msklearn\u001b[39;00m\u001b[38;5;21;01m.\u001b[39;00m\u001b[38;5;21;01mlinear_model\u001b[39;00m\u001b[38;5;250m \u001b[39m\u001b[38;5;28;01mimport\u001b[39;00m LogisticRegression\n",
      "\u001b[0;31mModuleNotFoundError\u001b[0m: No module named 'mlflow'"
     ]
    }
   ],
   "source": [
    "import mlflow\n",
    "import mlflow.sklearn\n",
    "from sklearn.linear_model import LogisticRegression\n",
    "from sklearn.model_selection import train_test_split\n",
    "from sklearn.metrics import accuracy_score, precision_score, recall_score, f1_score\n",
    "from sklearn.datasets import make_classification\n",
    "import numpy as np\n",
    "\n",
    "# Step 1: MLFlow Integration Setup\n",
    "# MLflow tracking is automatically set up when you import mlflow.\n",
    "# You can optionally set the tracking URI:\n",
    "# mlflow.set_tracking_uri(\"your_tracking_uri\")\n",
    "\n",
    "# Set the experiment name\n",
    "mlflow.set_experiment(\"E-commerce Recommendation Model Training\")\n",
    "\n",
    "# Step 2: Training the Model\n",
    "with mlflow.start_run():\n",
    "    # Log experiment parameters\n",
    "    n_samples = 1000\n",
    "    n_features = 20\n",
    "    random_state = 42\n",
    "    test_size = 0.2\n",
    "    C = 1.0\n",
    "    solver = 'liblinear'\n",
    "\n",
    "    mlflow.log_param(\"n_samples\", n_samples)\n",
    "    mlflow.log_param(\"n_features\", n_features)\n",
    "    mlflow.log_param(\"random_state\", random_state)\n",
    "    mlflow.log_param(\"test_size\", test_size)\n",
    "    mlflow.log_param(\"C\", C)\n",
    "    mlflow.log_param(\"solver\", solver)\n",
    "\n",
    "    # Generate synthetic data for a recommendation task (binary classification: recommended or not)\n",
    "    X, y = make_classification(n_samples=n_samples, n_features=n_features, random_state=random_state)\n",
    "    X_train, X_test, y_train, y_test = train_test_split(X, y, test_size=test_size, random_state=random_state)\n",
    "\n",
    "    # Train a Logistic Regression model\n",
    "    model = LogisticRegression(C=C, solver=solver, random_state=random_state)\n",
    "    model.fit(X_train, y_train)\n",
    "\n",
    "    # Make predictions on the test set\n",
    "    predictions = model.predict(X_test)\n",
    "\n",
    "    # Step 3: Logging the Experiment\n",
    "    # Log evaluation metrics\n",
    "    accuracy = accuracy_score(y_test, predictions)\n",
    "    precision = precision_score(y_test, predictions)\n",
    "    recall = recall_score(y_test, predictions)\n",
    "    f1 = f1_score(y_test, predictions)\n",
    "\n",
    "    mlflow.log_metric(\"accuracy\", accuracy)\n",
    "    mlflow.log_metric(\"precision\", precision)\n",
    "    mlflow.log_metric(\"recall\", recall)\n",
    "    mlflow.log_metric(\"f1\", f1)\n",
    "\n",
    "    # Log the trained model\n",
    "    mlflow.sklearn.log_model(model, \"recommendation_model\")\n",
    "\n",
    "    print(f\"Logged run_id: {mlflow.active_run().info.run_id}\")\n",
    "    print(f\"Parameters logged: n_samples={n_samples}, n_features={n_features}, C={C}, solver={solver}\")\n",
    "    print(f\"Metrics logged: accuracy={accuracy:.4f}, precision={precision:.4f}, recall={recall:.4f}, f1={f1:.4f}\")\n",
    "    print(\"Trained Logistic Regression model logged.\")\n",
    "\n",
    "# Step 4: Accessing MLFlow UI\n",
    "# To access the MLflow UI and view the logged experiment:\n",
    "# 1. Ensure your MLflow tracking server is running (it runs by default).\n",
    "# 2. Open your terminal or command prompt.\n",
    "# 3. Navigate to your project directory (where the 'mlruns' folder is).\n",
    "# 4. Run the command: `mlflow ui`\n",
    "# 5. Open your web browser and go to http://localhost:5000 (default).\n",
    "# 6. In the MLflow UI, you will see the \"E-commerce Recommendation Model Training\" experiment.\n",
    "# 7. Click on the experiment to view the runs. Each run corresponds to an execution of the code within the `with mlflow.start_run():` block.\n",
    "# 8. By clicking on a specific run, you can see the logged parameters, metrics, artifacts (including the saved model), and other details.\n",
    "\n",
    "print(\"\\nTo access the MLflow UI, run 'mlflow ui' in your terminal and navigate to http://localhost:5000.\")"
   ]
  }
 ],
 "metadata": {
  "kernelspec": {
   "display_name": ".venv",
   "language": "python",
   "name": "python3"
  },
  "language_info": {
   "codemirror_mode": {
    "name": "ipython",
    "version": 3
   },
   "file_extension": ".py",
   "mimetype": "text/x-python",
   "name": "python",
   "nbconvert_exporter": "python",
   "pygments_lexer": "ipython3",
   "version": "3.10.12"
  }
 },
 "nbformat": 4,
 "nbformat_minor": 2
}
