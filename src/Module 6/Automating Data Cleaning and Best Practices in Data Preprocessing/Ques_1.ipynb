{
 "cells": [
  {
   "cell_type": "markdown",
   "metadata": {},
   "source": [
    "## Automating Data Cleaning in Python"
   ]
  },
  {
   "cell_type": "markdown",
   "metadata": {
    "vscode": {
     "languageId": "plaintext"
    }
   },
   "source": [
    "    Task: Basic Pipeline with Scaling\n",
    "1. Objective: Create a pipeline that scales numerical features in a dataset.\n",
    "2. Steps:\n",
    "    - Load a sample dataset with Pandas.\n",
    "    - Define a pipeline using Pipeline from sklearn.pipeline .\n",
    "    - Use StandardScaler to scale features."
   ]
  },
  {
   "cell_type": "code",
   "execution_count": 1,
   "metadata": {},
   "outputs": [
    {
     "name": "stdout",
     "output_type": "stream",
     "text": [
      "Original DataFrame:\n",
      "   feature1  feature2 category\n",
      "0        10         5        A\n",
      "1        20        15        B\n",
      "2        30        25        A\n",
      "3        40        35        C\n",
      "4        50        45        B\n",
      "\n",
      "DataFrame with scaled numerical features:\n",
      "   feature1  feature2 category\n",
      "0 -1.414214 -1.414214        A\n",
      "1 -0.707107 -0.707107        B\n",
      "2  0.000000  0.000000        A\n",
      "3  0.707107  0.707107        C\n",
      "4  1.414214  1.414214        B\n"
     ]
    }
   ],
   "source": [
    "# Write your code from here\n",
    "import pandas as pd\n",
    "from sklearn.pipeline import Pipeline\n",
    "from sklearn.preprocessing import StandardScaler\n",
    "\n",
    "# 1. Load a sample dataset with Pandas\n",
    "data = {'feature1': [10, 20, 30, 40, 50],\n",
    "        'feature2': [5, 15, 25, 35, 45],\n",
    "        'category': ['A', 'B', 'A', 'C', 'B']}\n",
    "df = pd.DataFrame(data)\n",
    "\n",
    "# Identify numerical features\n",
    "numerical_features = ['feature1', 'feature2']\n",
    "\n",
    "# 2. Define a pipeline using Pipeline from sklearn.pipeline\n",
    "# 3. Use StandardScaler to scale features\n",
    "pipeline = Pipeline([\n",
    "    ('scaler', StandardScaler())\n",
    "])\n",
    "\n",
    "# Apply the pipeline to the numerical features\n",
    "df[numerical_features] = pipeline.fit_transform(df[numerical_features])\n",
    "\n",
    "# Display the scaled data\n",
    "print(\"Original DataFrame:\")\n",
    "print(pd.DataFrame(data))\n",
    "print(\"\\nDataFrame with scaled numerical features:\")\n",
    "print(df)"
   ]
  },
  {
   "cell_type": "markdown",
   "metadata": {},
   "source": [
    "    Task: Pipeline with Imputation\n",
    "1. Objective: Automate data cleaning by handling missing values.\n",
    "2. Steps:\n",
    "    - Load a dataset with missing values.\n",
    "    - Define a pipeline to use SimpleImputer for filling missing values."
   ]
  },
  {
   "cell_type": "code",
   "execution_count": 2,
   "metadata": {},
   "outputs": [
    {
     "name": "stdout",
     "output_type": "stream",
     "text": [
      "Original DataFrame with missing values:\n",
      "   feature1  feature2 category\n",
      "0      10.0       5.0        A\n",
      "1       NaN      15.0        B\n",
      "2      30.0       NaN        A\n",
      "3      40.0      35.0      NaN\n",
      "4      50.0      45.0        B\n",
      "\n",
      "DataFrame after imputation:\n",
      "   feature1  feature2 category\n",
      "0      10.0       5.0        A\n",
      "1      32.5      15.0        B\n",
      "2      30.0      25.0        A\n",
      "3      40.0      35.0        A\n",
      "4      50.0      45.0        B\n"
     ]
    }
   ],
   "source": [
    "# Write your code from here\n",
    "import pandas as pd\n",
    "from sklearn.pipeline import Pipeline\n",
    "from sklearn.impute import SimpleImputer\n",
    "import numpy as np\n",
    "\n",
    "# 1. Load a dataset with missing values\n",
    "data = {'feature1': [10, np.nan, 30, 40, 50],\n",
    "        'feature2': [5, 15, np.nan, 35, 45],\n",
    "        'category': ['A', 'B', 'A', np.nan, 'B']}\n",
    "df = pd.DataFrame(data)\n",
    "\n",
    "print(\"Original DataFrame with missing values:\")\n",
    "print(df)\n",
    "\n",
    "# Identify numerical and categorical features\n",
    "numerical_features = ['feature1', 'feature2']\n",
    "categorical_features = ['category']\n",
    "\n",
    "# 2. Define a pipeline to use SimpleImputer for filling missing values\n",
    "\n",
    "# For numerical features, we'll use the mean to impute missing values\n",
    "numerical_pipeline = Pipeline([\n",
    "    ('imputer', SimpleImputer(strategy='mean'))\n",
    "])\n",
    "\n",
    "# For categorical features, we'll use the most frequent value to impute missing values\n",
    "categorical_pipeline = Pipeline([\n",
    "    ('imputer', SimpleImputer(strategy='most_frequent'))\n",
    "])\n",
    "\n",
    "# Apply the numerical pipeline to the numerical features\n",
    "df[numerical_features] = numerical_pipeline.fit_transform(df[numerical_features])\n",
    "\n",
    "# Apply the categorical pipeline to the categorical features\n",
    "df[categorical_features] = categorical_pipeline.fit_transform(df[categorical_features])\n",
    "\n",
    "# Display the DataFrame after imputation\n",
    "print(\"\\nDataFrame after imputation:\")\n",
    "print(df)"
   ]
  }
 ],
 "metadata": {
  "kernelspec": {
   "display_name": ".venv",
   "language": "python",
   "name": "python3"
  },
  "language_info": {
   "codemirror_mode": {
    "name": "ipython",
    "version": 3
   },
   "file_extension": ".py",
   "mimetype": "text/x-python",
   "name": "python",
   "nbconvert_exporter": "python",
   "pygments_lexer": "ipython3",
   "version": "3.10.12"
  }
 },
 "nbformat": 4,
 "nbformat_minor": 2
}
