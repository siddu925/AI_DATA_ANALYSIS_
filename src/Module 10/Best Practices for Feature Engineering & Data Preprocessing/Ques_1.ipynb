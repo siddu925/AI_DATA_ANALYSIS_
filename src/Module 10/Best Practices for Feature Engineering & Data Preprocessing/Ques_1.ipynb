{
 "cells": [
  {
   "cell_type": "markdown",
   "metadata": {},
   "source": [
    "### Task 1: Handling Missing Values - Simple Imputation\n",
    "**Description**: Given a dataset with missing values, impute the missing values using the mean for numerical features and the mode for categorical features."
   ]
  },
  {
   "cell_type": "code",
   "execution_count": 1,
   "metadata": {},
   "outputs": [],
   "source": [
    "# write your code from here"
   ]
  },
  {
   "cell_type": "markdown",
   "metadata": {},
   "source": [
    "### Task 2: Feature Scaling - Min-Max Normalization\n",
    "**Description**: Normalize a numerical feature using Min-Max scaling to a range [0, 1]."
   ]
  },
  {
   "cell_type": "code",
   "execution_count": 2,
   "metadata": {},
   "outputs": [],
   "source": [
    "# write your code from here"
   ]
  },
  {
   "cell_type": "markdown",
   "metadata": {},
   "source": [
    "### Task 3: Handling Missing Values - Drop Missing Values\n",
    "**Description**: Remove rows with missing values from a dataset."
   ]
  },
  {
   "cell_type": "code",
   "execution_count": 3,
   "metadata": {},
   "outputs": [],
   "source": [
    "# write your code from here"
   ]
  },
  {
   "cell_type": "markdown",
   "metadata": {},
   "source": [
    "### Task 4: Feature Scaling - Standardization\n",
    "**Description**: Standardize a numerical feature to have zero mean and unit variance."
   ]
  },
  {
   "cell_type": "code",
   "execution_count": 4,
   "metadata": {},
   "outputs": [
    {
     "name": "stdout",
     "output_type": "stream",
     "text": [
      "DataFrame after Simple Imputation:\n",
      "   numerical_col categorical_col\n",
      "0            1.0               A\n",
      "1            2.0            None\n",
      "2            3.0               B\n",
      "3            4.0               A\n",
      "4            5.0               C\n",
      "\n",
      "==================================================\n",
      "\n",
      "Original numerical feature for Min-Max Normalization:\n",
      "0    10\n",
      "1    20\n",
      "2    30\n",
      "3    40\n",
      "4    50\n",
      "dtype: int64\n",
      "\n",
      "Numerical feature after Min-Max Normalization (range [0, 1]):\n",
      "0    0.00\n",
      "1    0.25\n",
      "2    0.50\n",
      "3    0.75\n",
      "4    1.00\n",
      "dtype: float64\n",
      "\n",
      "==================================================\n",
      "\n",
      "Original DataFrame with missing values:\n",
      "   col1  col2\n",
      "0   1.0     X\n",
      "1   NaN     Y\n",
      "2   3.0  None\n",
      "3   NaN     Z\n",
      "4   5.0     X\n",
      "\n",
      "DataFrame after dropping rows with missing values:\n",
      "   col1 col2\n",
      "0   1.0    X\n",
      "4   5.0    X\n",
      "\n",
      "==================================================\n",
      "\n",
      "Original numerical feature for Standardization:\n",
      "0    1\n",
      "1    5\n",
      "2    2\n",
      "3    8\n",
      "4    3\n",
      "dtype: int64\n",
      "\n",
      "Numerical feature after Standardization (zero mean and unit variance):\n",
      "0   -1.128152\n",
      "1    0.483494\n",
      "2   -0.725241\n",
      "3    1.692228\n",
      "4   -0.322329\n",
      "dtype: float64\n"
     ]
    }
   ],
   "source": [
    "import pandas as pd\n",
    "from sklearn.impute import SimpleImputer\n",
    "from sklearn.preprocessing import MinMaxScaler, StandardScaler\n",
    "\n",
    "# Assuming your data is in a pandas DataFrame called 'df'\n",
    "\n",
    "# Task 1: Handling Missing Values - Simple Imputation\n",
    "# Create a sample DataFrame with missing values for demonstration\n",
    "data_imputation = {'numerical_col': [1, 2, None, 4, 5],\n",
    "                     'categorical_col': ['A', None, 'B', 'A', 'C']}\n",
    "df_imputation = pd.DataFrame(data_imputation)\n",
    "\n",
    "# Identify numerical and categorical columns\n",
    "numerical_cols_imputation = df_imputation.select_dtypes(include=['number']).columns\n",
    "categorical_cols_imputation = df_imputation.select_dtypes(include=['object']).columns\n",
    "\n",
    "# Impute missing values in numerical columns with the mean\n",
    "imputer_numerical = SimpleImputer(strategy='mean')\n",
    "df_imputation[numerical_cols_imputation] = imputer_numerical.fit_transform(df_imputation[numerical_cols_imputation])\n",
    "\n",
    "# Impute missing values in categorical columns with the mode\n",
    "imputer_categorical = SimpleImputer(strategy='most_frequent')\n",
    "df_imputation[categorical_cols_imputation] = imputer_categorical.fit_transform(df_imputation[categorical_cols_imputation])\n",
    "\n",
    "print(\"DataFrame after Simple Imputation:\")\n",
    "print(df_imputation)\n",
    "\n",
    "print(\"\\n\" + \"=\"*50 + \"\\n\")\n",
    "\n",
    "# Task 2: Feature Scaling - Min-Max Normalization\n",
    "# Create a sample numerical Series for demonstration\n",
    "numerical_feature_minmax = pd.Series([10, 20, 30, 40, 50])\n",
    "print(\"Original numerical feature for Min-Max Normalization:\")\n",
    "print(numerical_feature_minmax)\n",
    "\n",
    "# Reshape the Series for the MinMaxScaler\n",
    "numerical_feature_minmax_reshaped = numerical_feature_minmax.values.reshape(-1, 1)\n",
    "\n",
    "# Initialize the MinMaxScaler\n",
    "scaler_minmax = MinMaxScaler(feature_range=(0, 1))\n",
    "\n",
    "# Fit and transform the data\n",
    "numerical_feature_minmax_scaled = scaler_minmax.fit_transform(numerical_feature_minmax_reshaped)\n",
    "\n",
    "# Convert back to a Series if needed\n",
    "numerical_feature_minmax_scaled_series = pd.Series(numerical_feature_minmax_scaled.flatten())\n",
    "\n",
    "print(\"\\nNumerical feature after Min-Max Normalization (range [0, 1]):\")\n",
    "print(numerical_feature_minmax_scaled_series)\n",
    "\n",
    "print(\"\\n\" + \"=\"*50 + \"\\n\")\n",
    "\n",
    "# Task 3: Handling Missing Values - Drop Missing Values\n",
    "# Create a sample DataFrame with missing values for demonstration\n",
    "data_dropna = {'col1': [1, None, 3, None, 5],\n",
    "                 'col2': ['X', 'Y', None, 'Z', 'X']}\n",
    "df_dropna = pd.DataFrame(data_dropna)\n",
    "print(\"Original DataFrame with missing values:\")\n",
    "print(df_dropna)\n",
    "\n",
    "# Drop rows with any missing values\n",
    "df_dropna_cleaned = df_dropna.dropna()\n",
    "\n",
    "print(\"\\nDataFrame after dropping rows with missing values:\")\n",
    "print(df_dropna_cleaned)\n",
    "\n",
    "print(\"\\n\" + \"=\"*50 + \"\\n\")\n",
    "\n",
    "# Task 4: Feature Scaling - Standardization\n",
    "# Create a sample numerical Series for demonstration\n",
    "numerical_feature_standardization = pd.Series([1, 5, 2, 8, 3])\n",
    "print(\"Original numerical feature for Standardization:\")\n",
    "print(numerical_feature_standardization)\n",
    "\n",
    "# Reshape the Series for the StandardScaler\n",
    "numerical_feature_standardization_reshaped = numerical_feature_standardization.values.reshape(-1, 1)\n",
    "\n",
    "# Initialize the StandardScaler\n",
    "scaler_standardization = StandardScaler()\n",
    "\n",
    "# Fit and transform the data\n",
    "numerical_feature_standardization_scaled = scaler_standardization.fit_transform(numerical_feature_standardization_reshaped)\n",
    "\n",
    "# Convert back to a Series if needed\n",
    "numerical_feature_standardization_scaled_series = pd.Series(numerical_feature_standardization_scaled.flatten())\n",
    "\n",
    "print(\"\\nNumerical feature after Standardization (zero mean and unit variance):\")\n",
    "print(numerical_feature_standardization_scaled_series)"
   ]
  }
 ],
 "metadata": {
  "kernelspec": {
   "display_name": ".venv",
   "language": "python",
   "name": "python3"
  },
  "language_info": {
   "codemirror_mode": {
    "name": "ipython",
    "version": 3
   },
   "file_extension": ".py",
   "mimetype": "text/x-python",
   "name": "python",
   "nbconvert_exporter": "python",
   "pygments_lexer": "ipython3",
   "version": "3.10.12"
  }
 },
 "nbformat": 4,
 "nbformat_minor": 2
}
