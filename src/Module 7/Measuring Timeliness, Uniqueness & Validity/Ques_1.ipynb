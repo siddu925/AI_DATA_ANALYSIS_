{
 "cells": [
  {
   "cell_type": "markdown",
   "metadata": {},
   "source": [
    "## Format Compliance for Email\n",
    "\n",
    "**Description**: Check if emails in a list are valid based on a basic regex pattern."
   ]
  },
  {
   "cell_type": "code",
   "execution_count": null,
   "metadata": {},
   "outputs": [],
   "source": [
    "# Write your code from here"
   ]
  },
  {
   "cell_type": "markdown",
   "metadata": {},
   "source": [
    "## Format Compliance for Phone Numbers\n",
    "\n",
    "**Description**: Verify if the phone numbers follow a specific pattern."
   ]
  },
  {
   "cell_type": "code",
   "execution_count": null,
   "metadata": {},
   "outputs": [],
   "source": [
    "# Write your code from here"
   ]
  },
  {
   "cell_type": "markdown",
   "metadata": {},
   "source": [
    "## Checking Date Validity Format\n",
    "\n",
    "**Description**: Ensure the dates in a list adhere to a specific format (e.g., YYYY-MM-DD)."
   ]
  },
  {
   "cell_type": "code",
   "execution_count": 1,
   "metadata": {},
   "outputs": [
    {
     "name": "stdout",
     "output_type": "stream",
     "text": [
      "\n",
      "--- Format Compliance for Email ---\n",
      "Original Email List: ['test@example.com', 'invalid.email', 'another@sub.domain.co.in', '@missing.user', 'no.domain@', '']\n",
      "Valid Emails: ['test@example.com', 'another@sub.domain.co.in']\n",
      "Invalid Emails: ['invalid.email', '@missing.user', 'no.domain@', '']\n",
      "\n",
      "--- Format Compliance for Phone Numbers ---\n",
      "Original Phone Number List: ['1234567890', '123-456-7890', '+1-555-123-4567', 'abc1234567', '987654321', '']\n",
      "Valid Phone Numbers (10 digits): ['1234567890']\n",
      "Invalid Phone Numbers (10 digits): ['123-456-7890', '+1-555-123-4567', 'abc1234567', '987654321', '']\n",
      "\n",
      "Valid Phone Numbers (US Format): []\n",
      "Invalid Phone Numbers (US Format): ['1234567890', '123-456-7890', '+1-555-123-4567', 'abc1234567', '987654321', '']\n",
      "\n",
      "--- Checking Date Validity Format ---\n",
      "Original Date List: ['2023-10-26', '2024/01/15', '15-05-2022', '2025-13-01', '2026-02-30', 'not a date', '']\n",
      "Valid Dates (Format: %Y-%m-%d): ['2023-10-26']\n",
      "Invalid Dates (Format: %Y-%m-%d): ['2024/01/15', '15-05-2022', '2025-13-01', '2026-02-30', 'not a date', '']\n",
      "\n",
      "Valid Dates (Format: %Y/%m/%d): ['2024/01/15']\n",
      "Invalid Dates (Format: %Y/%m/%d): ['2023-10-26', '15-05-2022', '2025-13-01', '2026-02-30', 'not a date', '']\n"
     ]
    }
   ],
   "source": [
    "# Write your code from here\n",
    "import re\n",
    "import pandas as pd\n",
    "from datetime import datetime\n",
    "\n",
    "# --- Format Compliance for Email ---\n",
    "print(\"\\n--- Format Compliance for Email ---\")\n",
    "\n",
    "def is_valid_email(email):\n",
    "    \"\"\"\n",
    "    Checks if an email string is valid based on a basic regex pattern.\n",
    "    Note: This is a simplified check and might not catch all invalid emails.\n",
    "    A more robust solution might involve a dedicated email validation library.\n",
    "    \"\"\"\n",
    "    if not isinstance(email, str):\n",
    "        return False\n",
    "    pattern = r\"^[a-zA-Z0-9._%+-]+@[a-zA-Z0-9.-]+\\.[a-zA-Z]{2,}$\"\n",
    "    return re.match(pattern, email) is not None\n",
    "\n",
    "email_list = [\"test@example.com\", \"invalid.email\", \"another@sub.domain.co.in\", \"@missing.user\", \"no.domain@\", \"\"]\n",
    "valid_emails = [email for email in email_list if is_valid_email(email)]\n",
    "invalid_emails = [email for email in email_list if not is_valid_email(email)]\n",
    "\n",
    "print(\"Original Email List:\", email_list)\n",
    "print(\"Valid Emails:\", valid_emails)\n",
    "print(\"Invalid Emails:\", invalid_emails)\n",
    "\n",
    "\n",
    "# --- Format Compliance for Phone Numbers ---\n",
    "print(\"\\n--- Format Compliance for Phone Numbers ---\")\n",
    "\n",
    "def is_valid_phone_number(phone_number, pattern=r\"^\\d{10}$\"):\n",
    "    \"\"\"\n",
    "    Verifies if a phone number follows a specific pattern (default: 10 digits).\n",
    "    You can adjust the regex pattern based on your expected format.\n",
    "    Examples:\n",
    "    - For a format like +[Country Code]-[Area Code]-[Number]: r\"^\\+\\d{1,3}-\\d{1,4}-\\d{4,}$\"\n",
    "    - For a format like (XXX) XXX-XXXX: r\"^\\(\\d{3}\\) \\d{3}-\\d{4}$\"\n",
    "    \"\"\"\n",
    "    if not isinstance(phone_number, str):\n",
    "        return False\n",
    "    return re.match(pattern, phone_number) is not None\n",
    "\n",
    "phone_number_list = [\"1234567890\", \"123-456-7890\", \"+1-555-123-4567\", \"abc1234567\", \"987654321\", \"\"]\n",
    "valid_phone_numbers = [number for number in phone_number_list if is_valid_phone_number(number)]\n",
    "invalid_phone_numbers = [number for number in phone_number_list if not is_valid_phone_number(number)]\n",
    "\n",
    "print(\"Original Phone Number List:\", phone_number_list)\n",
    "print(\"Valid Phone Numbers (10 digits):\", valid_phone_numbers)\n",
    "print(\"Invalid Phone Numbers (10 digits):\", invalid_phone_numbers)\n",
    "\n",
    "# Example with a different pattern (US format)\n",
    "us_phone_pattern = r\"^\\(\\d{3}\\) \\d{3}-\\d{4}$\"\n",
    "us_valid_numbers = [number for number in phone_number_list if is_valid_phone_number(number, us_phone_pattern)]\n",
    "us_invalid_numbers = [number for number in phone_number_list if not is_valid_phone_number(number, us_phone_pattern)]\n",
    "\n",
    "print(\"\\nValid Phone Numbers (US Format):\", us_valid_numbers)\n",
    "print(\"Invalid Phone Numbers (US Format):\", us_invalid_numbers)\n",
    "\n",
    "\n",
    "# --- Checking Date Validity Format ---\n",
    "print(\"\\n--- Checking Date Validity Format ---\")\n",
    "\n",
    "def is_valid_date_format(date_string, format_str=\"%Y-%m-%d\"):\n",
    "    \"\"\"\n",
    "    Ensures that a date string adheres to a specific format (default: YYYY-MM-DD).\n",
    "    Returns True if the format matches, False otherwise.\n",
    "    \"\"\"\n",
    "    if not isinstance(date_string, str):\n",
    "        return False\n",
    "    try:\n",
    "        datetime.strptime(date_string, format_str)\n",
    "        return True\n",
    "    except ValueError:\n",
    "        return False\n",
    "\n",
    "date_list = [\"2023-10-26\", \"2024/01/15\", \"15-05-2022\", \"2025-13-01\", \"2026-02-30\", \"not a date\", \"\"]\n",
    "valid_dates = [date for date in date_list if is_valid_date_format(date)]\n",
    "invalid_dates = [date for date in date_list if not is_valid_date_format(date)]\n",
    "\n",
    "print(\"Original Date List:\", date_list)\n",
    "print(f\"Valid Dates (Format: %Y-%m-%d):\", valid_dates)\n",
    "print(f\"Invalid Dates (Format: %Y-%m-%d):\", invalid_dates)\n",
    "\n",
    "# Example with a different format (YYYY/MM/DD)\n",
    "other_format = \"%Y/%m/%d\"\n",
    "other_valid_dates = [date for date in date_list if is_valid_date_format(date, other_format)]\n",
    "other_invalid_dates = [date for date in date_list if not is_valid_date_format(date, other_format)]\n",
    "\n",
    "print(f\"\\nValid Dates (Format: %Y/%m/%d):\", other_valid_dates)\n",
    "print(f\"Invalid Dates (Format: %Y/%m/%d):\", other_invalid_dates)"
   ]
  }
 ],
 "metadata": {
  "kernelspec": {
   "display_name": ".venv",
   "language": "python",
   "name": "python3"
  },
  "language_info": {
   "codemirror_mode": {
    "name": "ipython",
    "version": 3
   },
   "file_extension": ".py",
   "mimetype": "text/x-python",
   "name": "python",
   "nbconvert_exporter": "python",
   "pygments_lexer": "ipython3",
   "version": "3.10.12"
  }
 },
 "nbformat": 4,
 "nbformat_minor": 2
}
