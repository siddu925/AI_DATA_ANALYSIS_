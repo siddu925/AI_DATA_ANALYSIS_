{
 "cells": [
  {
   "cell_type": "code",
   "execution_count": 1,
   "metadata": {},
   "outputs": [],
   "source": [
    "# Activity 3: Data Standardization & Validation\n",
    "\n",
    "# Task A: Enforcing Data Formats & Constraints\n",
    "\n",
    "# 13. Date Format Standardization:\n",
    "# - Convert all date entries into a uniform format (e.g., YYYY-MM-DD).\n",
    "\n",
    "\n",
    "\n",
    "\n",
    "\n",
    "# 14. Numeric Constraints Enforcement:\n",
    "# - Check and enforce numeric constraints (e.g., age > 0).\n",
    "\n",
    "\n",
    "\n",
    "\n",
    "\n",
    "\n",
    "# 15. String Format Checks:\n",
    "# - Ensure text fields meet certain constraints (e.g., valid email format)."
   ]
  },
  {
   "cell_type": "code",
   "execution_count": 2,
   "metadata": {},
   "outputs": [
    {
     "name": "stdout",
     "output_type": "stream",
     "text": [
      "  date_column date_column_standardized\n",
      "0  2023/10/26               2023-10-26\n",
      "1   26-Nov-22               2022-11-26\n",
      "2  12-05-2024               2024-05-12\n"
     ]
    }
   ],
   "source": [
    "import pandas as pd\n",
    "\n",
    "# Sample DataFrame (replace with your actual data)\n",
    "data = {'date_column': ['2023/10/26', '26-Nov-22', '12-05-2024']}\n",
    "df = pd.DataFrame(data)\n",
    "\n",
    "def standardize_date(date_str):\n",
    "    formats_to_try = ['%Y/%m/%d', '%d-%b-%y', '%d-%m-%Y']\n",
    "    for fmt in formats_to_try:\n",
    "        try:\n",
    "            return pd.to_datetime(date_str, format=fmt).strftime('%Y-%m-%d')\n",
    "        except ValueError:\n",
    "            continue\n",
    "    return None # Or handle the error as needed\n",
    "\n",
    "df['date_column_standardized'] = df['date_column'].apply(standardize_date)\n",
    "print(df)"
   ]
  },
  {
   "cell_type": "code",
   "execution_count": 3,
   "metadata": {},
   "outputs": [],
   "source": [
    "# Task B: Addressing Inconsistent Representations\n",
    "\n",
    "# 16. Standardizing Date Formats:\n",
    "# - Identify and correct inconsistent date formats within the dataset.\n",
    "\n",
    "\n",
    "\n",
    "\n",
    "\n",
    "\n",
    "\n",
    "\n",
    "# 17. Pattern Matching for Consistency:\n",
    "# - Standardize phone numbers to a specific pattern (e.g., (123) 456-7890).\n",
    "\n",
    "\n",
    "\n",
    "\n",
    "\n",
    "# 18. Handling Mixed Case Text:\n",
    "# - Convert all text entries to a consistent case (e.g., all uppercase).\n",
    "\n",
    "\n",
    "\n",
    "\n",
    "\n",
    "\n",
    "\n",
    "\n",
    "\n"
   ]
  },
  {
   "cell_type": "code",
   "execution_count": 4,
   "metadata": {},
   "outputs": [
    {
     "name": "stdout",
     "output_type": "stream",
     "text": [
      "    date_column date_column_standardized\n",
      "0    2023/10/26               2023-10-26\n",
      "1     26-Nov-22               2022-11-26\n",
      "2    12.05.2024               2024-05-12\n",
      "3  Oct 26, 2023               2023-10-26\n",
      "4      20221126               2022-11-26\n"
     ]
    }
   ],
   "source": [
    "import pandas as pd\n",
    "\n",
    "# Sample DataFrame with inconsistent date formats\n",
    "data = {'date_column': ['2023/10/26', '26-Nov-22', '12.05.2024', 'Oct 26, 2023', '20221126']}\n",
    "df = pd.DataFrame(data)\n",
    "\n",
    "def standardize_date_robust(date_str):\n",
    "    formats_to_try = ['%Y/%m/%d', '%d-%b-%y', '%d.%m.%Y', '%b %d, %Y', '%Y%m%d']\n",
    "    for fmt in formats_to_try:\n",
    "        try:\n",
    "            return pd.to_datetime(date_str, format=fmt).strftime('%Y-%m-%d')\n",
    "        except ValueError:\n",
    "            continue\n",
    "    return None # Handle unparseable dates as needed\n",
    "\n",
    "df['date_column_standardized'] = df['date_column'].apply(standardize_date_robust)\n",
    "print(df)"
   ]
  }
 ],
 "metadata": {
  "kernelspec": {
   "display_name": ".venv",
   "language": "python",
   "name": "python3"
  },
  "language_info": {
   "codemirror_mode": {
    "name": "ipython",
    "version": 3
   },
   "file_extension": ".py",
   "mimetype": "text/x-python",
   "name": "python",
   "nbconvert_exporter": "python",
   "pygments_lexer": "ipython3",
   "version": "3.10.12"
  }
 },
 "nbformat": 4,
 "nbformat_minor": 2
}
