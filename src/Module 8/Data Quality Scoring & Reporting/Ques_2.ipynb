{
 "cells": [
  {
   "cell_type": "markdown",
   "metadata": {},
   "source": [
    "## Build a Data Quality Dashboard\n",
    "\n",
    "**Description**: Create a simple dashboard that displays data quality metrics using a library like `dash` or `streamlit`.\n",
    "\n",
    "**Steps:**\n",
    "1. Install Streamlit: pip install streamlit\n",
    "2. Create a Python script dashboard.py.\n",
    "3. Run the dashboard: streamlit run dashboard.py"
   ]
  },
  {
   "cell_type": "code",
   "execution_count": 1,
   "metadata": {},
   "outputs": [
    {
     "ename": "SyntaxError",
     "evalue": "invalid syntax (2922879143.py, line 1)",
     "output_type": "error",
     "traceback": [
      "\u001b[0;36m  Cell \u001b[0;32mIn[1], line 1\u001b[0;36m\u001b[0m\n\u001b[0;31m    pip install streamlit\u001b[0m\n\u001b[0m        ^\u001b[0m\n\u001b[0;31mSyntaxError\u001b[0m\u001b[0;31m:\u001b[0m invalid syntax\n"
     ]
    }
   ],
   "source": [
    "pip install streamlit\n",
    "streamlit run dashboard.py"
   ]
  },
  {
   "cell_type": "code",
   "execution_count": null,
   "metadata": {},
   "outputs": [
    {
     "ename": "ModuleNotFoundError",
     "evalue": "No module named 'streamlit'",
     "output_type": "error",
     "traceback": [
      "\u001b[0;31m---------------------------------------------------------------------------\u001b[0m",
      "\u001b[0;31mModuleNotFoundError\u001b[0m                       Traceback (most recent call last)",
      "Cell \u001b[0;32mIn[6], line 1\u001b[0m\n\u001b[0;32m----> 1\u001b[0m \u001b[38;5;28;01mimport\u001b[39;00m\u001b[38;5;250m \u001b[39m\u001b[38;5;21;01mstreamlit\u001b[39;00m\u001b[38;5;250m \u001b[39m\u001b[38;5;28;01mas\u001b[39;00m\u001b[38;5;250m \u001b[39m\u001b[38;5;21;01mst\u001b[39;00m\n\u001b[1;32m      2\u001b[0m \u001b[38;5;28;01mimport\u001b[39;00m\u001b[38;5;250m \u001b[39m\u001b[38;5;21;01mpandas\u001b[39;00m\u001b[38;5;250m \u001b[39m\u001b[38;5;28;01mas\u001b[39;00m\u001b[38;5;250m \u001b[39m\u001b[38;5;21;01mpd\u001b[39;00m\n\u001b[1;32m      3\u001b[0m \u001b[38;5;28;01mimport\u001b[39;00m\u001b[38;5;250m \u001b[39m\u001b[38;5;21;01mmatplotlib\u001b[39;00m\u001b[38;5;21;01m.\u001b[39;00m\u001b[38;5;21;01mpyplot\u001b[39;00m\u001b[38;5;250m \u001b[39m\u001b[38;5;28;01mas\u001b[39;00m\u001b[38;5;250m \u001b[39m\u001b[38;5;21;01mplt\u001b[39;00m\n",
      "\u001b[0;31mModuleNotFoundError\u001b[0m: No module named 'streamlit'"
     ]
    }
   ],
   "source": [
    "import streamlit as st\n",
    "import pandas as pd\n",
    "import matplotlib.pyplot as plt\n",
    "import seaborn as sns  # For potentially better-looking plots\n",
    "\n",
    "# --- (Reusing the data quality calculation function from the previous step) ---\n",
    "def calculate_dqi(file_path):\n",
    "    \"\"\"\n",
    "    Reads data from a CSV file, identifies missing values as errors,\n",
    "    calculates the Data Quality Index (DQI), and returns the DQI\n",
    "    and the number of errors, along with per-column error details.\n",
    "\n",
    "    Args:\n",
    "        file_path (str): The path to the CSV file.\n",
    "\n",
    "    Returns:\n",
    "        tuple: A tuple containing the DQI (float), the total\n",
    "               number of errors (int), a list of column names (list),\n",
    "               and a dictionary of error counts per column (dict).\n",
    "    \"\"\"\n",
    "    try:\n",
    "        df = pd.read_csv(file_path)\n",
    "    except FileNotFoundError:\n",
    "        st.error(f\"Error: File not found at {file_path}\")\n",
    "        return None, None, None, None\n",
    "\n",
    "    total_cells = df.size\n",
    "    missing_values_count = df.isnull().sum().sum()\n",
    "    error_count = missing_values_count  # Treating missing values as errors\n",
    "    valid_cells = total_cells - error_count\n",
    "\n",
    "    if total_cells > 0:\n",
    "        dqi = (valid_cells / total_cells) * 100\n",
    "    else:\n",
    "        dqi = 0\n",
    "\n",
    "    return dqi, error_count, df.columns.tolist(), df.isnull().sum().to_dict()\n",
    "\n",
    "# --- Streamlit Dashboard ---\n",
    "st.title(\"Data Quality Dashboard\")\n",
    "\n",
    "# Allow the user to upload a CSV file\n",
    "uploaded_file = st.file_uploader(\"Upload your CSV file\", type=\"csv\")\n",
    "\n",
    "if uploaded_file is not None:\n",
    "    # Read the uploaded CSV file into a pandas DataFrame\n",
    "    try:\n",
    "        df = pd.read_csv(uploaded_file)\n",
    "    except Exception as e:\n",
    "        st.error(f\"Error reading CSV file: {e}\")\n",
    "        df = None\n",
    "\n",
    "    if df is not None:\n",
    "        # Calculate DQI and error metrics\n",
    "        dqi, total_errors, columns, errors_per_column = calculate_dqi(uploaded_file)\n",
    "\n",
    "        if dqi is not None:\n",
    "            st.subheader(\"Overall Data Quality\")\n",
    "            st.metric(\"Data Quality Index (DQI)\", f\"{dqi:.2f}%\")\n",
    "            st.metric(\"Total Errors (Missing Values)\", total_errors)\n",
    "\n",
    "            st.subheader(\"Errors per Column\")\n",
    "\n",
    "            # Display errors per column in a table\n",
    "            errors_df = pd.DataFrame(list(errors_per_column.items()), columns=['Column', 'Missing Values'])\n",
    "            st.dataframe(errors_df)\n",
    "\n",
    "            # Create a bar chart of errors per column using Matplotlib\n",
    "            st.subheader(\"Visualization of Missing Values per Column\")\n",
    "            fig_col_errors, ax_col_errors = plt.subplots()\n",
    "            sns.barplot(x=list(errors_per_column.keys()), y=list(errors_per_column.values()), ax=ax_col_errors)\n",
    "            ax_col_errors.set_xlabel(\"Columns\")\n",
    "            ax_col_errors.set_ylabel(\"Number of Missing Values\")\n",
    "            plt.xticks(rotation=45, ha='right')\n",
    "            plt.tight_layout()\n",
    "            st.pyplot(fig_col_errors)\n",
    "\n",
    "            # Optional: Display the first few rows of the dataframe\n",
    "            st.subheader(\"Sample Data\")\n",
    "            st.dataframe(df.head())"
   ]
  }
 ],
 "metadata": {
  "kernelspec": {
   "display_name": ".venv",
   "language": "python",
   "name": "python3"
  },
  "language_info": {
   "codemirror_mode": {
    "name": "ipython",
    "version": 3
   },
   "file_extension": ".py",
   "mimetype": "text/x-python",
   "name": "python",
   "nbconvert_exporter": "python",
   "pygments_lexer": "ipython3",
   "version": "3.10.12"
  }
 },
 "nbformat": 4,
 "nbformat_minor": 2
}
