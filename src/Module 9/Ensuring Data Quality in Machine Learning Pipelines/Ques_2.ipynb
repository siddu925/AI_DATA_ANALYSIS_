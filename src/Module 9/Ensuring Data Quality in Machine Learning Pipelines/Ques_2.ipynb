{
 "cells": [
  {
   "cell_type": "markdown",
   "metadata": {},
   "source": [
    "### Bias & Fairness in Data: Distribution Check\n",
    "**Description**: Load the Adult Income dataset and check for representation bias by analyzing the distribution of gender across different income levels."
   ]
  },
  {
   "cell_type": "code",
   "execution_count": null,
   "metadata": {},
   "outputs": [
    {
     "name": "stdout",
     "output_type": "stream",
     "text": [
      "Error: adult.csv not found. Please make sure the file is in the correct directory.\n",
      "--- Exploring Gender and Income Columns ---\n",
      "Unique values in 'sex' column:\n"
     ]
    },
    {
     "ename": "NameError",
     "evalue": "name 'df' is not defined",
     "output_type": "error",
     "traceback": [
      "\u001b[0;31m---------------------------------------------------------------------------\u001b[0m",
      "\u001b[0;31mNameError\u001b[0m                                 Traceback (most recent call last)",
      "Cell \u001b[0;32mIn[1], line 18\u001b[0m\n\u001b[1;32m     16\u001b[0m \u001b[38;5;28mprint\u001b[39m(\u001b[38;5;124m\"\u001b[39m\u001b[38;5;124m--- Exploring Gender and Income Columns ---\u001b[39m\u001b[38;5;124m\"\u001b[39m)\n\u001b[1;32m     17\u001b[0m \u001b[38;5;28mprint\u001b[39m(\u001b[38;5;124m\"\u001b[39m\u001b[38;5;124mUnique values in \u001b[39m\u001b[38;5;124m'\u001b[39m\u001b[38;5;124msex\u001b[39m\u001b[38;5;124m'\u001b[39m\u001b[38;5;124m column:\u001b[39m\u001b[38;5;124m\"\u001b[39m)\n\u001b[0;32m---> 18\u001b[0m \u001b[38;5;28mprint\u001b[39m(\u001b[43mdf\u001b[49m[\u001b[38;5;124m'\u001b[39m\u001b[38;5;124msex\u001b[39m\u001b[38;5;124m'\u001b[39m]\u001b[38;5;241m.\u001b[39munique())\n\u001b[1;32m     19\u001b[0m \u001b[38;5;28mprint\u001b[39m(\u001b[38;5;124m\"\u001b[39m\u001b[38;5;130;01m\\n\u001b[39;00m\u001b[38;5;124mUnique values in \u001b[39m\u001b[38;5;124m'\u001b[39m\u001b[38;5;124mincome\u001b[39m\u001b[38;5;124m'\u001b[39m\u001b[38;5;124m column:\u001b[39m\u001b[38;5;124m\"\u001b[39m)\n\u001b[1;32m     20\u001b[0m \u001b[38;5;28mprint\u001b[39m(df[\u001b[38;5;124m'\u001b[39m\u001b[38;5;124mincome\u001b[39m\u001b[38;5;124m'\u001b[39m]\u001b[38;5;241m.\u001b[39munique())\n",
      "\u001b[0;31mNameError\u001b[0m: name 'df' is not defined"
     ]
    },
    {
     "ename": "",
     "evalue": "",
     "output_type": "error",
     "traceback": [
      "\u001b[1;31mThe Kernel crashed while executing code in the current cell or a previous cell. \n",
      "\u001b[1;31mPlease review the code in the cell(s) to identify a possible cause of the failure. \n",
      "\u001b[1;31mClick <a href='https://aka.ms/vscodeJupyterKernelCrash'>here</a> for more info. \n",
      "\u001b[1;31mView Jupyter <a href='command:jupyter.viewOutput'>log</a> for further details."
     ]
    }
   ],
   "source": [
    "# write your code from here\n",
    "import pandas as pd\n",
    "import matplotlib.pyplot as plt\n",
    "import seaborn as sns\n",
    "\n",
    "# Load the Adult Income dataset\n",
    "try:\n",
    "    # You might need to adjust the path depending on where you've stored the data\n",
    "    df = pd.read_csv('adult.csv')\n",
    "    print(\"Adult Income dataset loaded successfully.\\n\")\n",
    "except FileNotFoundError:\n",
    "    print(\"Error: adult.csv not found. Please make sure the file is in the correct directory.\")\n",
    "    exit()\n",
    "\n",
    "# --- Step 1: Explore Gender and Income Columns ---\n",
    "print(\"--- Exploring Gender and Income Columns ---\")\n",
    "print(\"Unique values in 'sex' column:\")\n",
    "print(df['sex'].unique())\n",
    "print(\"\\nUnique values in 'income' column:\")\n",
    "print(df['income'].unique())\n",
    "\n",
    "# Rename columns for easier analysis (optional)\n",
    "df.rename(columns={'sex': 'gender', 'income': 'income_level'}, inplace=True)\n",
    "\n",
    "# --- Step 2: Analyze Gender Distribution Across Income Levels ---\n",
    "print(\"\\n--- Analyzing Gender Distribution Across Income Levels ---\")\n",
    "\n",
    "# Create a contingency table to show the counts of each gender for each income level\n",
    "gender_income_counts = pd.crosstab(df['gender'], df['income_level'])\n",
    "print(\"\\nCounts of Gender across Income Levels:\")\n",
    "print(gender_income_counts)\n",
    "\n",
    "# Calculate the proportion of each gender within each income level\n",
    "gender_income_proportions = gender_income_counts.apply(lambda x: x / x.sum(), axis=1)\n",
    "print(\"\\nProportion of Gender within each Income Level:\")\n",
    "print(gender_income_proportions)\n",
    "\n",
    "# --- Step 3: Visualize the Distribution ---\n",
    "print(\"\\n--- Visualizing the Distribution ---\")\n",
    "\n",
    "# Stacked bar chart of gender distribution by income level (counts)\n",
    "gender_income_counts.plot(kind='bar', stacked=True, figsize=(8, 6))\n",
    "plt.title('Gender Distribution by Income Level (Counts)')\n",
    "plt.xlabel('Gender')\n",
    "plt.ylabel('Count')\n",
    "plt.xticks(rotation=0)\n",
    "plt.legend(title='Income Level')\n",
    "plt.tight_layout()\n",
    "plt.show()\n",
    "\n",
    "# Stacked bar chart of gender distribution by income level (proportions)\n",
    "gender_income_proportions.plot(kind='bar', stacked=True, figsize=(8, 6))\n",
    "plt.title('Gender Distribution by Income Level (Proportions)')\n",
    "plt.xlabel('Gender')\n",
    "plt.ylabel('Proportion')\n",
    "plt.xticks(rotation=0)\n",
    "plt.legend(title='Income Level')\n",
    "plt.tight_layout()\n",
    "plt.show()\n",
    "\n",
    "# Grouped bar chart to compare income levels for each gender\n",
    "df.groupby('gender')['income_level'].value_counts(normalize=True).unstack().plot(kind='bar', figsize=(8, 6))\n",
    "plt.title('Income Level Distribution by Gender (Proportions)')\n",
    "plt.xlabel('Gender')\n",
    "plt.ylabel('Proportion')\n",
    "plt.xticks(rotation=0)\n",
    "plt.legend(title='Income Level')\n",
    "plt.tight_layout()\n",
    "plt.show()\n",
    "\n",
    "# --- Step 4: Interpretation of Potential Representation Bias ---\n",
    "print(\"\\n--- Interpretation of Potential Representation Bias ---\")\n",
    "print(\"By analyzing the counts and proportions, we can observe the representation of each gender within different income levels.\")\n",
    "print(\"If the proportion of one gender is significantly lower in the higher income level compared to the lower income level (or vice versa),\")\n",
    "print(\"it might indicate a potential representation bias in the dataset.\")\n",
    "print(\"\\nFor example, if the proportion of 'Female' individuals earning '>50K' is considerably lower than the proportion of 'Male' individuals\")\n",
    "print(\"in the same income bracket, this could suggest a lack of representation or potential bias in the data collection or societal factors reflected in the data.\")\n",
    "print(\"\\nFurther statistical analysis (e.g., Chi-squared test for independence) can be used to determine if the observed differences are statistically significant.\")"
   ]
  }
 ],
 "metadata": {
  "kernelspec": {
   "display_name": ".venv",
   "language": "python",
   "name": "python3"
  },
  "language_info": {
   "codemirror_mode": {
    "name": "ipython",
    "version": 3
   },
   "file_extension": ".py",
   "mimetype": "text/x-python",
   "name": "python",
   "nbconvert_exporter": "python",
   "pygments_lexer": "ipython3",
   "version": "3.10.12"
  }
 },
 "nbformat": 4,
 "nbformat_minor": 2
}
