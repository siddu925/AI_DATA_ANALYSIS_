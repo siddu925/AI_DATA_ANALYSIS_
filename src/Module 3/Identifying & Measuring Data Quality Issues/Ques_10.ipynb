{
 "cells": [
  {
   "cell_type": "code",
   "execution_count": 1,
   "metadata": {},
   "outputs": [],
   "source": [
    "# Question: Advanced Data Profiling and Outlier Detection\n",
    "# Description: Perform detailed data profiling including outlier detection for numeric columns.\n",
    "\n",
    "\n"
   ]
  },
  {
   "cell_type": "code",
   "execution_count": 2,
   "metadata": {},
   "outputs": [],
   "source": [
    "import pandas as pd\n",
    "import matplotlib.pyplot as plt\n",
    "import seaborn as sns\n",
    "from scipy import stats\n",
    "\n",
    "def advanced_data_profiling(df):\n",
    "    \"\"\"\n",
    "    Performs advanced data profiling and outlier detection for numeric columns\n",
    "    in a Pandas DataFrame.\n",
    "\n",
    "    Args:\n",
    "        df: The Pandas DataFrame to profile.\n",
    "\n",
    "    Returns:\n",
    "        A dictionary containing profiling information and identified outliers for\n",
    "        each numeric column.\n",
    "    \"\"\"\n",
    "\n",
    "    profile_report = {}\n",
    "    outlier_report = {}\n",
    "\n",
    "    numeric_cols = df.select_dtypes(include=['number']).columns\n",
    "\n",
    "    for col in numeric_cols:\n",
    "        print(f\"--- Profiling Column: '{col}' ---\")\n",
    "\n",
    "        # 1. Basic Descriptive Statistics (already covered by .describe())\n",
    "        print(df[col].describe())\n",
    "        print(\"\\n\")\n",
    "\n",
    "        # 2. Missing Values (re-check for completeness)\n",
    "        missing_count = df[col].isnull().sum()\n",
    "        missing_percentage = (missing_count / len(df)) * 100\n",
    "        print(f\"Missing Values: {missing_count} ({missing_percentage:.2f}%)\")\n",
    "        print(\"\\n\")\n",
    "\n",
    "        # 3. Distribution Visualization\n",
    "        plt.figure(figsize=(12, 5))\n",
    "\n",
    "        plt.subplot(1, 2, 1)\n",
    "        sns.histplot(df[col], kde=True)\n",
    "        plt.title(f\"Distribution of '{col}'\")\n",
    "        plt.xlabel(col)\n",
    "        plt.ylabel(\"Frequency\")\n",
    "\n",
    "        plt.subplot(1, 2, 2)\n",
    "        sns.boxplot(x=df[col])\n",
    "        plt.title(f\"Boxplot of '{col}'\")\n",
    "        plt.xlabel(col)\n",
    "\n",
    "        plt.tight_layout()\n",
    "        plt.show()\n",
    "\n",
    "        # 4. Outlier Detection (using IQR method)\n",
    "        Q1 = df[col].quantile(0.25)\n",
    "        Q3 = df[col].quantile(0.75)\n",
    "        IQR = Q3 - Q1\n",
    "        lower_bound = Q1 - 1.5 * IQR\n",
    "        upper_bound = Q3 + 1.5 * IQR\n",
    "        outliers_iqr = df[(df[col] < lower_bound) | (df[col] > upper_bound)][col].tolist()"
   ]
  }
 ],
 "metadata": {
  "kernelspec": {
   "display_name": ".venv",
   "language": "python",
   "name": "python3"
  },
  "language_info": {
   "codemirror_mode": {
    "name": "ipython",
    "version": 3
   },
   "file_extension": ".py",
   "mimetype": "text/x-python",
   "name": "python",
   "nbconvert_exporter": "python",
   "pygments_lexer": "ipython3",
   "version": "3.10.12"
  }
 },
 "nbformat": 4,
 "nbformat_minor": 2
}
