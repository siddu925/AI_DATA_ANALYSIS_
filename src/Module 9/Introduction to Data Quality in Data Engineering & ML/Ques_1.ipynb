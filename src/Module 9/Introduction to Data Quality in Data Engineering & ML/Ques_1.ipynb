{
 "cells": [
  {
   "cell_type": "markdown",
   "metadata": {},
   "source": [
    "### Detect Data Drift\n",
    "**Description**: Data drift can occur when the statistical properties of your data change over time. Learn to detect data drift using visualizations."
   ]
  },
  {
   "cell_type": "code",
   "execution_count": 1,
   "metadata": {},
   "outputs": [
    {
     "ename": "NameError",
     "evalue": "name 'historical_data' is not defined",
     "output_type": "error",
     "traceback": [
      "\u001b[0;31m---------------------------------------------------------------------------\u001b[0m",
      "\u001b[0;31mNameError\u001b[0m                                 Traceback (most recent call last)",
      "Cell \u001b[0;32mIn[1], line 56\u001b[0m\n\u001b[1;32m     50\u001b[0m     plt\u001b[38;5;241m.\u001b[39mshow()\n\u001b[1;32m     52\u001b[0m \u001b[38;5;66;03m# Example Usage (assuming you have loaded your data into historical_data and current_data)\u001b[39;00m\n\u001b[1;32m     53\u001b[0m \u001b[38;5;66;03m# Replace 'feature_to_analyze' with the actual name of the column you want to inspect\u001b[39;00m\n\u001b[1;32m     54\u001b[0m \n\u001b[1;32m     55\u001b[0m \u001b[38;5;66;03m# For a numerical feature:\u001b[39;00m\n\u001b[0;32m---> 56\u001b[0m \u001b[38;5;28;01mif\u001b[39;00m \u001b[38;5;124m'\u001b[39m\u001b[38;5;124mnumerical_feature\u001b[39m\u001b[38;5;124m'\u001b[39m \u001b[38;5;129;01min\u001b[39;00m \u001b[43mhistorical_data\u001b[49m\u001b[38;5;241m.\u001b[39mcolumns \u001b[38;5;129;01mand\u001b[39;00m \u001b[38;5;124m'\u001b[39m\u001b[38;5;124mnumerical_feature\u001b[39m\u001b[38;5;124m'\u001b[39m \u001b[38;5;129;01min\u001b[39;00m current_data\u001b[38;5;241m.\u001b[39mcolumns:\n\u001b[1;32m     57\u001b[0m     detect_numerical_drift(historical_data, current_data, \u001b[38;5;124m'\u001b[39m\u001b[38;5;124mnumerical_feature\u001b[39m\u001b[38;5;124m'\u001b[39m)\n\u001b[1;32m     59\u001b[0m \u001b[38;5;66;03m# For a categorical feature:\u001b[39;00m\n",
      "\u001b[0;31mNameError\u001b[0m: name 'historical_data' is not defined"
     ]
    }
   ],
   "source": [
    "# Write your code from here\n",
    "import pandas as pd\n",
    "import matplotlib.pyplot as plt\n",
    "import seaborn as sns\n",
    "\n",
    "# Assuming you have two pandas DataFrames:\n",
    "# historical_data: DataFrame containing historical data\n",
    "# current_data: DataFrame containing the most recent data\n",
    "\n",
    "# Let's assume these DataFrames have a common column named 'feature_to_analyze'\n",
    "\n",
    "def detect_numerical_drift(historical_df, current_df, column_name):\n",
    "    \"\"\"\n",
    "    Visualizes the distribution of a numerical feature in historical and current data\n",
    "    to detect drift.\n",
    "    \"\"\"\n",
    "    plt.figure(figsize=(10, 6))\n",
    "    sns.histplot(historical_df[column_name], label='Historical Data', kde=True)\n",
    "    sns.histplot(current_df[column_name], color='orange', label='Current Data', kde=True)\n",
    "    plt.title(f'Distribution of {column_name}')\n",
    "    plt.xlabel(column_name)\n",
    "    plt.ylabel('Density')\n",
    "    plt.legend()\n",
    "    plt.show()\n",
    "\n",
    "    plt.figure(figsize=(8, 6))\n",
    "    sns.boxplot(data=[historical_df[column_name], current_df[column_name]],\n",
    "                palette=\"Set2\",\n",
    "                names=['Historical Data', 'Current Data'])\n",
    "    plt.title(f'Box Plot of {column_name}')\n",
    "    plt.ylabel(column_name)\n",
    "    plt.show()\n",
    "\n",
    "def detect_categorical_drift(historical_df, current_df, column_name):\n",
    "    \"\"\"\n",
    "    Visualizes the distribution of a categorical feature in historical and current data\n",
    "    to detect drift.\n",
    "    \"\"\"\n",
    "    historical_counts = historical_df[column_name].value_counts(normalize=True).sort_index()\n",
    "    current_counts = current_df[column_name].value_counts(normalize=True).sort_index()\n",
    "\n",
    "    comparison_df = pd.DataFrame({'Historical': historical_counts, 'Current': current_counts})\n",
    "    comparison_df.plot(kind='bar', figsize=(10, 6))\n",
    "    plt.title(f'Distribution of {column_name}')\n",
    "    plt.ylabel('Proportion')\n",
    "    plt.xlabel(column_name)\n",
    "    plt.xticks(rotation=45, ha='right')\n",
    "    plt.legend()\n",
    "    plt.tight_layout()\n",
    "    plt.show()\n",
    "\n",
    "# Example Usage (assuming you have loaded your data into historical_data and current_data)\n",
    "# Replace 'feature_to_analyze' with the actual name of the column you want to inspect\n",
    "\n",
    "# For a numerical feature:\n",
    "if 'numerical_feature' in historical_data.columns and 'numerical_feature' in current_data.columns:\n",
    "    detect_numerical_drift(historical_data, current_data, 'numerical_feature')\n",
    "\n",
    "# For a categorical feature:\n",
    "if 'categorical_feature' in historical_data.columns and 'categorical_feature' in current_data.columns:\n",
    "    detect_categorical_drift(historical_data, current_data, 'categorical_feature')"
   ]
  }
 ],
 "metadata": {
  "kernelspec": {
   "display_name": ".venv",
   "language": "python",
   "name": "python3"
  },
  "language_info": {
   "codemirror_mode": {
    "name": "ipython",
    "version": 3
   },
   "file_extension": ".py",
   "mimetype": "text/x-python",
   "name": "python",
   "nbconvert_exporter": "python",
   "pygments_lexer": "ipython3",
   "version": "3.10.12"
  }
 },
 "nbformat": 4,
 "nbformat_minor": 2
}
