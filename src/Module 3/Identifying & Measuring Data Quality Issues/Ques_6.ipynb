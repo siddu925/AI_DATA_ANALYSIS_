{
 "cells": [
  {
   "cell_type": "code",
   "execution_count": 1,
   "metadata": {},
   "outputs": [],
   "source": [
    "# Question: Evaluating Data Distribution\n",
    "# Description: Analyze the distribution of a numeric column using histograms and descriptive statistics.\n",
    "\n"
   ]
  },
  {
   "cell_type": "code",
   "execution_count": 2,
   "metadata": {},
   "outputs": [
    {
     "name": "stdout",
     "output_type": "stream",
     "text": [
      "Error: 'titanic.csv' not found. Please provide your dataset.\n"
     ]
    }
   ],
   "source": [
    "import pandas as pd\n",
    "import matplotlib.pyplot as plt\n",
    "\n",
    "def analyze_numeric_distribution(df, column_name):\n",
    "    \"\"\"\n",
    "    Analyzes the distribution of a numeric column in a Pandas DataFrame.\n",
    "\n",
    "    Args:\n",
    "        df: The Pandas DataFrame containing the data.\n",
    "        column_name: The name of the numeric column to analyze.\n",
    "    \"\"\"\n",
    "\n",
    "    if column_name not in df.columns:\n",
    "        print(f\"Error: Column '{column_name}' not found in the DataFrame.\")\n",
    "        return\n",
    "\n",
    "    if not pd.api.types.is_numeric_dtype(df[column_name]):\n",
    "        print(f\"Error: Column '{column_name}' is not numeric.\")\n",
    "        return\n",
    "\n",
    "    # 1. Descriptive Statistics\n",
    "    print(f\"--- Descriptive Statistics for '{column_name}' ---\")\n",
    "    print(df[column_name].describe())\n",
    "    print(\"\\n\")\n",
    "\n",
    "    # 2. Histogram\n",
    "    plt.figure(figsize=(8, 6))\n",
    "    plt.hist(df[column_name], bins=20, edgecolor='black')  # You can adjust 'bins'\n",
    "    plt.title(f\"Histogram of '{column_name}'\")\n",
    "    plt.xlabel(column_name)\n",
    "    plt.ylabel(\"Frequency\")\n",
    "    plt.grid(axis='y', alpha=0.75)\n",
    "    plt.show()\n",
    "\n",
    "\n",
    "if __name__ == '__main__':\n",
    "    # --- Example Usage (Replace with your data and column) ---\n",
    "    try:\n",
    "        df = pd.read_csv('titanic.csv')  # Or your dataset\n",
    "        numeric_column = 'Age'  # Or the column you want to analyze\n",
    "        analyze_numeric_distribution(df, numeric_column)\n",
    "\n",
    "    except FileNotFoundError:\n",
    "        print(\"Error: 'titanic.csv' not found. Please provide your dataset.\")\n",
    "    except Exception as e:\n",
    "        print(f\"An error occurred: {e}\")"
   ]
  }
 ],
 "metadata": {
  "kernelspec": {
   "display_name": ".venv",
   "language": "python",
   "name": "python3"
  },
  "language_info": {
   "codemirror_mode": {
    "name": "ipython",
    "version": 3
   },
   "file_extension": ".py",
   "mimetype": "text/x-python",
   "name": "python",
   "nbconvert_exporter": "python",
   "pygments_lexer": "ipython3",
   "version": "3.10.12"
  }
 },
 "nbformat": 4,
 "nbformat_minor": 2
}
