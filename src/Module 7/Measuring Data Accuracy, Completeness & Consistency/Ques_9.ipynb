{
 "cells": [
  {
   "cell_type": "markdown",
   "metadata": {},
   "source": [
    "# Measuring Completeness\n",
    "\n",
    "**Activity Overview**: Evaluate data completeness by checking missing data rates and handling partially available records.\n",
    "\n",
    "## Title: Customer Profiles\n",
    "\n",
    "**Task**: Calculate the missing data rate for customer profiles.\n",
    "\n",
    "**Steps**:\n",
    "1. List all required fields for a complete customer profile (e.g., name, address, email,\n",
    "phone number).\n",
    "2. Analyze the dataset to count how many profiles have missing fields.\n",
    "3. Calculate the percentage of missing data fields across all profiles."
   ]
  },
  {
   "cell_type": "code",
   "execution_count": 1,
   "metadata": {},
   "outputs": [
    {
     "name": "stdout",
     "output_type": "stream",
     "text": [
      "\n",
      "--- Calculate Missing Data Rate for Customer Profiles ---\n",
      "Error: The CSV file 'customer_profiles.csv' was not found: [Errno 2] No such file or directory: 'customer_profiles.csv'\n"
     ]
    }
   ],
   "source": [
    "# Write your code from here\n",
    "import pandas as pd\n",
    "\n",
    "print(\"\\n--- Calculate Missing Data Rate for Customer Profiles ---\")\n",
    "\n",
    "# --- Configuration ---\n",
    "DATASET_PATH = 'customer_profiles.csv'  # Path to your customer profile dataset\n",
    "REQUIRED_FIELDS = ['name', 'address', 'email', 'phone_number']  # List your required fields\n",
    "\n",
    "try:\n",
    "    # Load the dataset\n",
    "    customer_profiles = pd.read_csv(DATASET_PATH)\n",
    "\n",
    "    # Initialize counters for missing fields\n",
    "    total_profiles = len(customer_profiles)\n",
    "    total_missing_fields = 0\n",
    "\n",
    "    # Iterate through each required field and count missing values\n",
    "    missing_counts = {}\n",
    "    for field in REQUIRED_FIELDS:\n",
    "        if field in customer_profiles.columns:\n",
    "            missing_count = customer_profiles[field].isnull().sum()\n",
    "            missing_counts[field] = missing_count\n",
    "            total_missing_fields += missing_count\n",
    "        else:\n",
    "            print(f\"Warning: Required field '{field}' not found in the dataset.\")\n",
    "            missing_counts[field] = 0  # Treat as 0 missing for calculation\n",
    "\n",
    "    # Calculate the total number of expected fields across all profiles\n",
    "    total_expected_fields = total_profiles * len(REQUIRED_FIELDS)\n",
    "\n",
    "    # Calculate the overall percentage of missing fields\n",
    "    if total_expected_fields > 0:\n",
    "        overall_missing_percentage = (total_missing_fields / total_expected_fields) * 100\n",
    "        print(f\"\\nTotal number of customer profiles: {total_profiles}\")\n",
    "        print(\"Missing counts per required field:\")\n",
    "        for field, count in missing_counts.items():\n",
    "            print(f\"- {field}: {count}\")\n",
    "        print(f\"\\nOverall percentage of missing data across all required fields: {overall_missing_percentage:.2f}%\")\n",
    "    else:\n",
    "        print(\"No required fields specified or dataset is empty.\")\n",
    "\n",
    "except FileNotFoundError as e:\n",
    "    print(f\"Error: The CSV file '{DATASET_PATH}' was not found: {e}\")\n",
    "except Exception as e:\n",
    "    print(f\"An unexpected error occurred: {e}\")"
   ]
  }
 ],
 "metadata": {
  "kernelspec": {
   "display_name": ".venv",
   "language": "python",
   "name": "python3"
  },
  "language_info": {
   "codemirror_mode": {
    "name": "ipython",
    "version": 3
   },
   "file_extension": ".py",
   "mimetype": "text/x-python",
   "name": "python",
   "nbconvert_exporter": "python",
   "pygments_lexer": "ipython3",
   "version": "3.10.12"
  }
 },
 "nbformat": 4,
 "nbformat_minor": 2
}
