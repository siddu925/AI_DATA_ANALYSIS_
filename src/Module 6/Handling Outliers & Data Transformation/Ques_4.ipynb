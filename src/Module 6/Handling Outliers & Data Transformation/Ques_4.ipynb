{
 "cells": [
  {
   "cell_type": "code",
   "execution_count": 1,
   "metadata": {},
   "outputs": [],
   "source": [
    "# Question: Multivariate Outlier Detection Using Mahalanobis Distance\n",
    "# Description: Implement Mahalanobis distance to detect multivariate outliers in a dataset.\n",
    "\n"
   ]
  },
  {
   "cell_type": "code",
   "execution_count": 2,
   "metadata": {},
   "outputs": [
    {
     "name": "stdout",
     "output_type": "stream",
     "text": [
      "Original Multivariate DataFrame:\n",
      "    Feature_A  Feature_B  Feature_C\n",
      "0          1          6         11\n",
      "1          2          7         12\n",
      "2          3          8         13\n",
      "3          4          9         14\n",
      "4          5         10         15\n",
      "5         10         20         50\n"
     ]
    },
    {
     "ename": "LinAlgError",
     "evalue": "singular matrix",
     "output_type": "error",
     "traceback": [
      "\u001b[0;31m---------------------------------------------------------------------------\u001b[0m",
      "\u001b[0;31mLinAlgError\u001b[0m                               Traceback (most recent call last)",
      "Cell \u001b[0;32mIn[2], line 24\u001b[0m\n\u001b[1;32m     21\u001b[0m covariance_matrix \u001b[38;5;241m=\u001b[39m df_multi\u001b[38;5;241m.\u001b[39mcov()\u001b[38;5;241m.\u001b[39mvalues\n\u001b[1;32m     23\u001b[0m \u001b[38;5;66;03m# c. Calculate the inverse of the covariance matrix\u001b[39;00m\n\u001b[0;32m---> 24\u001b[0m inv_covariance \u001b[38;5;241m=\u001b[39m \u001b[43minv\u001b[49m\u001b[43m(\u001b[49m\u001b[43mcovariance_matrix\u001b[49m\u001b[43m)\u001b[49m\n\u001b[1;32m     26\u001b[0m \u001b[38;5;66;03m# d. Calculate the Mahalanobis distance for each point\u001b[39;00m\n\u001b[1;32m     27\u001b[0m mahalanobis_distances \u001b[38;5;241m=\u001b[39m []\n",
      "File \u001b[0;32m/workspaces/AI_DATA_ANALYSIS_/.venv/lib/python3.10/site-packages/scipy/linalg/_basic.py:1163\u001b[0m, in \u001b[0;36minv\u001b[0;34m(a, overwrite_a, check_finite)\u001b[0m\n\u001b[1;32m   1161\u001b[0m     inv_a, info \u001b[38;5;241m=\u001b[39m getri(lu, piv, lwork\u001b[38;5;241m=\u001b[39mlwork, overwrite_lu\u001b[38;5;241m=\u001b[39m\u001b[38;5;241m1\u001b[39m)\n\u001b[1;32m   1162\u001b[0m \u001b[38;5;28;01mif\u001b[39;00m info \u001b[38;5;241m>\u001b[39m \u001b[38;5;241m0\u001b[39m:\n\u001b[0;32m-> 1163\u001b[0m     \u001b[38;5;28;01mraise\u001b[39;00m LinAlgError(\u001b[38;5;124m\"\u001b[39m\u001b[38;5;124msingular matrix\u001b[39m\u001b[38;5;124m\"\u001b[39m)\n\u001b[1;32m   1164\u001b[0m \u001b[38;5;28;01mif\u001b[39;00m info \u001b[38;5;241m<\u001b[39m \u001b[38;5;241m0\u001b[39m:\n\u001b[1;32m   1165\u001b[0m     \u001b[38;5;28;01mraise\u001b[39;00m \u001b[38;5;167;01mValueError\u001b[39;00m(\u001b[38;5;124m'\u001b[39m\u001b[38;5;124millegal value in \u001b[39m\u001b[38;5;132;01m%d\u001b[39;00m\u001b[38;5;124m-th argument of internal \u001b[39m\u001b[38;5;124m'\u001b[39m\n\u001b[1;32m   1166\u001b[0m                      \u001b[38;5;124m'\u001b[39m\u001b[38;5;124mgetrf|getri\u001b[39m\u001b[38;5;124m'\u001b[39m \u001b[38;5;241m%\u001b[39m \u001b[38;5;241m-\u001b[39minfo)\n",
      "\u001b[0;31mLinAlgError\u001b[0m: singular matrix"
     ]
    }
   ],
   "source": [
    "import pandas as pd\n",
    "import numpy as np\n",
    "from scipy.spatial.distance import mahalanobis\n",
    "from scipy.linalg import inv\n",
    "import matplotlib.pyplot as plt\n",
    "import seaborn as sns\n",
    "\n",
    "# 1. Create a DataFrame with potential multivariate outliers\n",
    "data_multi = {'Feature_A': [1, 2, 3, 4, 5, 10],\n",
    "              'Feature_B': [6, 7, 8, 9, 10, 20],\n",
    "              'Feature_C': [11, 12, 13, 14, 15, 50]}\n",
    "df_multi = pd.DataFrame(data_multi)\n",
    "\n",
    "print(\"Original Multivariate DataFrame:\\n\", df_multi)\n",
    "\n",
    "# 2. Calculate the Mahalanobis Distance for each data point\n",
    "# a. Calculate the mean vector of the data\n",
    "mean_vector = df_multi.mean().values\n",
    "\n",
    "# b. Calculate the covariance matrix of the data\n",
    "covariance_matrix = df_multi.cov().values\n",
    "\n",
    "# c. Calculate the inverse of the covariance matrix\n",
    "inv_covariance = inv(covariance_matrix)\n",
    "\n",
    "# d. Calculate the Mahalanobis distance for each point\n",
    "mahalanobis_distances = []\n",
    "for index, row in df_multi.iterrows():\n",
    "    diff = row.values - mean_vector\n",
    "    mahalanobis_dist = np.sqrt(diff.reshape(1, -1) @ inv_covariance @ diff.reshape(-1, 1))\n",
    "    mahalanobis_distances.append(mahalanobis_dist[0][0])\n",
    "\n",
    "df_multi['Mahalanobis_Distance'] = mahalanobis_distances\n",
    "print(\"\\nDataFrame with Mahalanobis Distances:\\n\", df_multi)\n",
    "\n",
    "# 3. Identify potential outliers based on a threshold\n",
    "# The Mahalanobis distance follows a chi-squared distribution with k degrees of freedom (where k is the number of variables)\n",
    "# under the assumption that the data is multivariate normal. We can use a threshold based on the chi-squared distribution.\n",
    "from scipy.stats import chi2\n",
    "\n",
    "# Degrees of freedom (number of features)\n",
    "degrees_freedom = df_multi.shape[1] - 1 # Subtract the Mahalanobis distance column\n",
    "\n",
    "# Set a significance level (alpha)\n",
    "alpha = 0.05\n",
    "\n",
    "# Calculate the critical value from the chi-squared distribution\n",
    "critical_value = chi2.ppf(1 - alpha, df=degrees_freedom)\n",
    "print(\"\\nCritical Chi-Squared Value (alpha={}, df={}): {:.2f}\".format(alpha, degrees_freedom, critical_value))\n",
    "\n",
    "# Identify outliers\n",
    "df_outliers_mahalanobis = df_multi[df_multi['Mahalanobis_Distance'] > critical_value]\n",
    "print(\"\\nPotential Multivariate Outliers (based on Mahalanobis Distance > {:.2f}):\\n\".format(critical_value), df_outliers_mahalanobis)\n",
    "\n",
    "# 4. Visualize the Mahalanobis Distances (optional)\n",
    "plt.figure(figsize=(8, 6))\n",
    "sns.histplot(df_multi['Mahalanobis_Distance'], kde=True)\n",
    "plt.title('Distribution of Mahalanobis Distances')\n",
    "plt.xlabel('Mahalanobis Distance')\n",
    "plt.ylabel('Frequency')\n",
    "plt.axvline(critical_value, color='red', linestyle='--', label=f'Critical Value ({critical_value:.2f})')\n",
    "plt.legend()\n",
    "plt.show()"
   ]
  }
 ],
 "metadata": {
  "kernelspec": {
   "display_name": ".venv",
   "language": "python",
   "name": "python3"
  },
  "language_info": {
   "codemirror_mode": {
    "name": "ipython",
    "version": 3
   },
   "file_extension": ".py",
   "mimetype": "text/x-python",
   "name": "python",
   "nbconvert_exporter": "python",
   "pygments_lexer": "ipython3",
   "version": "3.10.12"
  }
 },
 "nbformat": 4,
 "nbformat_minor": 2
}
