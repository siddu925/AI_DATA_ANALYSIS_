{
 "cells": [
  {
   "cell_type": "markdown",
   "metadata": {},
   "source": [
    "### Using SHAP for Feature Drift Analysis\n",
    "**Description**: Utilize SHapley Additive exPlanations (SHAP) values to analyze feature\n",
    "importance changes over time, indicating feature drift."
   ]
  },
  {
   "cell_type": "code",
   "execution_count": 2,
   "metadata": {},
   "outputs": [
    {
     "ename": "ModuleNotFoundError",
     "evalue": "No module named 'shap'",
     "output_type": "error",
     "traceback": [
      "\u001b[0;31m---------------------------------------------------------------------------\u001b[0m",
      "\u001b[0;31mModuleNotFoundError\u001b[0m                       Traceback (most recent call last)",
      "Cell \u001b[0;32mIn[2], line 5\u001b[0m\n\u001b[1;32m      3\u001b[0m \u001b[38;5;28;01mfrom\u001b[39;00m\u001b[38;5;250m \u001b[39m\u001b[38;5;21;01msklearn\u001b[39;00m\u001b[38;5;21;01m.\u001b[39;00m\u001b[38;5;21;01mmodel_selection\u001b[39;00m\u001b[38;5;250m \u001b[39m\u001b[38;5;28;01mimport\u001b[39;00m train_test_split\n\u001b[1;32m      4\u001b[0m \u001b[38;5;28;01mfrom\u001b[39;00m\u001b[38;5;250m \u001b[39m\u001b[38;5;21;01msklearn\u001b[39;00m\u001b[38;5;21;01m.\u001b[39;00m\u001b[38;5;21;01mensemble\u001b[39;00m\u001b[38;5;250m \u001b[39m\u001b[38;5;28;01mimport\u001b[39;00m GradientBoostingClassifier\n\u001b[0;32m----> 5\u001b[0m \u001b[38;5;28;01mimport\u001b[39;00m\u001b[38;5;250m \u001b[39m\u001b[38;5;21;01mshap\u001b[39;00m\n\u001b[1;32m      6\u001b[0m \u001b[38;5;28;01mimport\u001b[39;00m\u001b[38;5;250m \u001b[39m\u001b[38;5;21;01mmatplotlib\u001b[39;00m\u001b[38;5;21;01m.\u001b[39;00m\u001b[38;5;21;01mpyplot\u001b[39;00m\u001b[38;5;250m \u001b[39m\u001b[38;5;28;01mas\u001b[39;00m\u001b[38;5;250m \u001b[39m\u001b[38;5;21;01mplt\u001b[39;00m\n\u001b[1;32m      8\u001b[0m \u001b[38;5;66;03m# Assume you have your baseline data in 'baseline_df' and current data in 'current_df'\u001b[39;00m\n\u001b[1;32m      9\u001b[0m \u001b[38;5;66;03m# For demonstration, let's create some sample data\u001b[39;00m\n",
      "\u001b[0;31mModuleNotFoundError\u001b[0m: No module named 'shap'"
     ]
    }
   ],
   "source": [
    "import pandas as pd\n",
    "import numpy as np\n",
    "from sklearn.model_selection import train_test_split\n",
    "from sklearn.ensemble import GradientBoostingClassifier\n",
    "import shap\n",
    "import matplotlib.pyplot as plt\n",
    "\n",
    "# Assume you have your baseline data in 'baseline_df' and current data in 'current_df'\n",
    "# For demonstration, let's create some sample data\n",
    "np.random.seed(42)\n",
    "n_samples = 1000\n",
    "baseline_df = pd.DataFrame({\n",
    "    'feature_1': np.random.normal(0, 1, n_samples),\n",
    "    'feature_2': np.random.normal(0, 1, n_samples),\n",
    "    'feature_3': np.random.rand(n_samples)\n",
    "})\n",
    "current_df = pd.DataFrame({\n",
    "    'feature_1': np.random.normal(0.5, 1.2, n_samples),\n",
    "    'feature_2': np.random.normal(-0.2, 0.8, n_samples),\n",
    "    'feature_3': np.random.rand(n_samples) + 0.1\n",
    "})\n",
    "\n",
    "# Add a target variable to distinguish between the datasets\n",
    "baseline_df['is_current'] = 0  # 0 for baseline\n",
    "current_df['is_current'] = 1   # 1 for current\n",
    "\n",
    "# Combine the datasets\n",
    "combined_df = pd.concat([baseline_df, current_df], ignore_index=True)\n",
    "\n",
    "# Separate features (X) and the target variable (y)\n",
    "X = combined_df.drop('is_current', axis=1)\n",
    "y = combined_df['is_current']\n",
    "\n",
    "# Train a classifier to distinguish between the two datasets (same as in adversarial validation)\n",
    "model = GradientBoostingClassifier(random_state=42)\n",
    "model.fit(X, y)\n",
    "\n",
    "# Initialize the SHAP explainer\n",
    "explainer = shap.TreeExplainer(model)\n",
    "\n",
    "# Calculate SHAP values for all samples\n",
    "shap_values = explainer.shap_values(X)\n",
    "\n",
    "# Visualize the SHAP values to understand feature importance in distinguishing datasets\n",
    "shap.summary_plot(shap_values, X, class_names=['Baseline', 'Current'], color_bar_label='SHAP value (impact on model output)')\n",
    "plt.title('SHAP Summary Plot for Dataset Distinction')\n",
    "plt.show()\n",
    "\n",
    "# You can also look at the mean absolute SHAP values per feature to get an overall importance\n",
    "mean_abs_shap = np.abs(shap_values).mean(axis=0)\n",
    "feature_importance_df = pd.DataFrame(list(zip(X.columns, mean_abs_shap)), columns=['Feature', 'Mean_Abs_SHAP'])\n",
    "feature_importance_df = feature_importance_df.sort_values(by='Mean_Abs_SHAP', ascending=False).reset_index(drop=True)\n",
    "\n",
    "print(\"\\nFeature Importance based on Mean Absolute SHAP Values:\")\n",
    "print(feature_importance_df)\n",
    "\n",
    "# Further analysis: Look at SHAP values for baseline vs. current data separately (optional)\n",
    "baseline_X = X[y == 0]\n",
    "current_X = X[y == 1]\n",
    "\n",
    "shap_values_baseline = explainer.shap_values(baseline_X)\n",
    "shap_values_current = explainer.shap_values(current_X)\n",
    "\n",
    "# You can compare the distributions of SHAP values for each feature between the two datasets\n",
    "for i, feature in enumerate(X.columns):\n",
    "    plt.figure(figsize=(10, 6))\n",
    "    plt.subplot(1, 2, 1)\n",
    "    shap.dependence_plot(i, shap_values_baseline, baseline_X, display_features=X)\n",
    "    plt.title(f'SHAP Dependence Plot for {feature} (Baseline)')\n",
    "    plt.subplot(1, 2, 2)\n",
    "    shap.dependence_plot(i, shap_values_current, current_X, display_features=X)\n",
    "    plt.title(f'SHAP Dependence Plot for {feature} (Current)')\n",
    "    plt.tight_layout()\n",
    "    plt.show()"
   ]
  }
 ],
 "metadata": {
  "kernelspec": {
   "display_name": ".venv",
   "language": "python",
   "name": "python3"
  },
  "language_info": {
   "codemirror_mode": {
    "name": "ipython",
    "version": 3
   },
   "file_extension": ".py",
   "mimetype": "text/x-python",
   "name": "python",
   "nbconvert_exporter": "python",
   "pygments_lexer": "ipython3",
   "version": "3.10.12"
  }
 },
 "nbformat": 4,
 "nbformat_minor": 2
}
