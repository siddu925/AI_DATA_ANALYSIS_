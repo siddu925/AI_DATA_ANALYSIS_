{
 "cells": [
  {
   "cell_type": "markdown",
   "metadata": {},
   "source": [
    "## Ensuring Consistency in Multi-source Data Integration\n",
    "\n",
    "**Description**: Validate the integration of two datasets `products_A.csv` and `products_B.csv` . Ensure consistency in product \"category\" information."
   ]
  },
  {
   "cell_type": "code",
   "execution_count": 1,
   "metadata": {},
   "outputs": [
    {
     "name": "stdout",
     "output_type": "stream",
     "text": [
      "\n",
      "--- Ensuring Consistency in Product Category ---\n",
      "Error: One or both of the CSV files ('products_A.csv', 'products_B.csv') were not found: [Errno 2] No such file or directory: 'products_A.csv'\n"
     ]
    }
   ],
   "source": [
    "# Write your code from here\n",
    "import pandas as pd\n",
    "\n",
    "print(\"\\n--- Ensuring Consistency in Product Category ---\")\n",
    "try:\n",
    "    products_A = pd.read_csv('products_A.csv')\n",
    "    products_B = pd.read_csv('products_B.csv')\n",
    "\n",
    "    # Assuming both DataFrames have a common product identifier column,\n",
    "    # let's assume it's 'product_id'. Adjust if your column name is different.\n",
    "    merged_df = pd.merge(products_A, products_B, on='product_id', suffixes=('_A', '_B'))\n",
    "\n",
    "    # Assuming the category column is named 'category'.\n",
    "    # If it's named differently in either file, adjust accordingly.\n",
    "    inconsistent_categories_df = merged_df[merged_df['category_A'] != merged_df['category_B']]\n",
    "\n",
    "    if inconsistent_categories_df.empty:\n",
    "        print(\"No inconsistencies found in product category information across the two datasets.\")\n",
    "    else:\n",
    "        print(\"Inconsistencies found in product category information:\")\n",
    "        print(inconsistent_categories_df[['product_id', 'category_A', 'category_B']])\n",
    "\n",
    "except FileNotFoundError as e:\n",
    "    print(f\"Error: One or both of the CSV files ('products_A.csv', 'products_B.csv') were not found: {e}\")\n",
    "except KeyError as e:\n",
    "    print(f\"Error: One or both of the CSV files must contain the necessary columns. Please ensure 'product_id' and 'category' columns exist (adjusting for suffixes if needed).\")"
   ]
  }
 ],
 "metadata": {
  "kernelspec": {
   "display_name": ".venv",
   "language": "python",
   "name": "python3"
  },
  "language_info": {
   "codemirror_mode": {
    "name": "ipython",
    "version": 3
   },
   "file_extension": ".py",
   "mimetype": "text/x-python",
   "name": "python",
   "nbconvert_exporter": "python",
   "pygments_lexer": "ipython3",
   "version": "3.10.12"
  }
 },
 "nbformat": 4,
 "nbformat_minor": 2
}
