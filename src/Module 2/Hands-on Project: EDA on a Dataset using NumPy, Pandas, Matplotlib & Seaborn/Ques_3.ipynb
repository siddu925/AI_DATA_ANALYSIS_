{
 "cells": [
  {
   "cell_type": "code",
   "execution_count": 1,
   "metadata": {},
   "outputs": [],
   "source": [
    "# Title: Data Manipulation with Pandas\n",
    "# Description: Add a new column that calculates the ratio of petal length to petal width."
   ]
  },
  {
   "cell_type": "code",
   "execution_count": 2,
   "metadata": {},
   "outputs": [
    {
     "name": "stdout",
     "output_type": "stream",
     "text": [
      "First 5 rows of the Iris dataset with the petal ratio:\n",
      "   sepal_length  sepal_width  petal_length  petal_width species  petal_ratio\n",
      "0           5.1          3.5           1.4          0.2  setosa          7.0\n",
      "1           4.9          3.0           1.4          0.2  setosa          7.0\n",
      "2           4.7          3.2           1.3          0.2  setosa          6.5\n",
      "3           4.6          3.1           1.5          0.2  setosa          7.5\n",
      "4           5.0          3.6           1.4          0.2  setosa          7.0\n",
      "\n",
      "==================================================\n",
      "\n",
      "Descriptive statistics of the Iris dataset (including petal ratio):\n",
      "       sepal_length  sepal_width  petal_length  petal_width  petal_ratio\n",
      "count    150.000000   150.000000    150.000000   150.000000   150.000000\n",
      "mean       5.843333     3.057333      3.758000     1.199333     4.310500\n",
      "std        0.828066     0.435866      1.765298     0.762238     2.489648\n",
      "min        4.300000     2.000000      1.000000     0.100000     2.125000\n",
      "25%        5.100000     2.800000      1.600000     0.300000     2.802381\n",
      "50%        5.800000     3.000000      4.350000     1.300000     3.300000\n",
      "75%        6.400000     3.300000      5.100000     1.800000     4.666667\n",
      "max        7.900000     4.400000      6.900000     2.500000    15.000000\n",
      "\n",
      "==================================================\n",
      "\n",
      "Distribution of petal ratio:\n",
      "count    150.000000\n",
      "mean       4.310500\n",
      "std        2.489648\n",
      "min        2.125000\n",
      "25%        2.802381\n",
      "50%        3.300000\n",
      "75%        4.666667\n",
      "max       15.000000\n",
      "Name: petal_ratio, dtype: float64\n",
      "\n",
      "==================================================\n",
      "\n",
      "Mean petal ratio per species:\n",
      "species\n",
      "setosa        6.908000\n",
      "versicolor    3.242837\n",
      "virginica     2.780662\n",
      "Name: petal_ratio, dtype: float64\n"
     ]
    }
   ],
   "source": [
    "import seaborn as sns\n",
    "import pandas as pd\n",
    "\n",
    "# Load the Iris dataset\n",
    "iris = sns.load_dataset('iris')\n",
    "\n",
    "# Calculate the ratio of petal length to petal width\n",
    "iris['petal_ratio'] = iris['petal_length'] / iris['petal_width']\n",
    "\n",
    "# Display the first few rows with the new column\n",
    "print(\"First 5 rows of the Iris dataset with the petal ratio:\")\n",
    "print(iris.head())\n",
    "print(\"\\n\" + \"=\"*50 + \"\\n\")\n",
    "\n",
    "# Get descriptive statistics of the DataFrame including the new column\n",
    "print(\"Descriptive statistics of the Iris dataset (including petal ratio):\")\n",
    "print(iris.describe())\n",
    "print(\"\\n\" + \"=\"*50 + \"\\n\")\n",
    "\n",
    "# You can also explore the distribution of the new column\n",
    "print(\"Distribution of petal ratio:\")\n",
    "print(iris['petal_ratio'].describe())\n",
    "print(\"\\n\" + \"=\"*50 + \"\\n\")\n",
    "\n",
    "# You might want to see the petal ratio grouped by species\n",
    "print(\"Mean petal ratio per species:\")\n",
    "print(iris.groupby('species')['petal_ratio'].mean())"
   ]
  }
 ],
 "metadata": {
  "kernelspec": {
   "display_name": ".venv",
   "language": "python",
   "name": "python3"
  },
  "language_info": {
   "codemirror_mode": {
    "name": "ipython",
    "version": 3
   },
   "file_extension": ".py",
   "mimetype": "text/x-python",
   "name": "python",
   "nbconvert_exporter": "python",
   "pygments_lexer": "ipython3",
   "version": "3.10.12"
  }
 },
 "nbformat": 4,
 "nbformat_minor": 2
}
