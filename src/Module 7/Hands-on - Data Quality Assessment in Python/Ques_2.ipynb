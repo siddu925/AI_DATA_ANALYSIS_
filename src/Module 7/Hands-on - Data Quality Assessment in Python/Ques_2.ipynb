{
 "cells": [
  {
   "cell_type": "markdown",
   "metadata": {},
   "source": [
    "## Check Accuracy & Completeness\n",
    "\n",
    "**Objective**: Learn to assess data quality by checking for accuracy and completeness using Python.\n",
    "\n",
    "For this, you will use a sample dataset students.csv that contains the following\n",
    "columns: ID , Name , Age , Grade , Email .\n",
    "\n",
    "**Steps**:\n",
    "1. Check Accuracy\n",
    "    - Verify Numerical Data Accuracy\n",
    "    - Validate Email Format\n",
    "    - Integer Accuracy Check for Age\n",
    "2. Check Completeness\n",
    "    - Identify Missing Values\n",
    "    - Rows with Missing Data\n",
    "    - Column Specific Missing Value Check"
   ]
  },
  {
   "cell_type": "code",
   "execution_count": null,
   "metadata": {},
   "outputs": [
    {
     "name": "stdout",
     "output_type": "stream",
     "text": [
      "Error: 'students.csv' not found. Please make sure the file is in the same directory.\n",
      "Original DataFrame:\n"
     ]
    },
    {
     "ename": "NameError",
     "evalue": "name 'df' is not defined",
     "output_type": "error",
     "traceback": [
      "\u001b[0;31m---------------------------------------------------------------------------\u001b[0m",
      "\u001b[0;31mNameError\u001b[0m                                 Traceback (most recent call last)",
      "Cell \u001b[0;32mIn[1], line 13\u001b[0m\n\u001b[1;32m     10\u001b[0m     exit()\n\u001b[1;32m     12\u001b[0m \u001b[38;5;28mprint\u001b[39m(\u001b[38;5;124m\"\u001b[39m\u001b[38;5;124mOriginal DataFrame:\u001b[39m\u001b[38;5;124m\"\u001b[39m)\n\u001b[0;32m---> 13\u001b[0m \u001b[38;5;28mprint\u001b[39m(\u001b[43mdf\u001b[49m)\n\u001b[1;32m     14\u001b[0m \u001b[38;5;28mprint\u001b[39m(\u001b[38;5;124m\"\u001b[39m\u001b[38;5;124m-\u001b[39m\u001b[38;5;124m\"\u001b[39m \u001b[38;5;241m*\u001b[39m \u001b[38;5;241m50\u001b[39m)\n\u001b[1;32m     16\u001b[0m \u001b[38;5;66;03m# --- 1. Check Accuracy ---\u001b[39;00m\n\u001b[1;32m     17\u001b[0m \n\u001b[1;32m     18\u001b[0m \u001b[38;5;66;03m# --- Verify Numerical Data Accuracy ---\u001b[39;00m\n",
      "\u001b[0;31mNameError\u001b[0m: name 'df' is not defined"
     ]
    },
    {
     "ename": "",
     "evalue": "",
     "output_type": "error",
     "traceback": [
      "\u001b[1;31mThe Kernel crashed while executing code in the current cell or a previous cell. \n",
      "\u001b[1;31mPlease review the code in the cell(s) to identify a possible cause of the failure. \n",
      "\u001b[1;31mClick <a href='https://aka.ms/vscodeJupyterKernelCrash'>here</a> for more info. \n",
      "\u001b[1;31mView Jupyter <a href='command:jupyter.viewOutput'>log</a> for further details."
     ]
    }
   ],
   "source": [
    "# Write your code from here\n",
    "import pandas as pd\n",
    "import re\n",
    "\n",
    "# Load the sample dataset 'students.csv'\n",
    "try:\n",
    "    df = pd.read_csv('students.csv')\n",
    "except FileNotFoundError:\n",
    "    print(\"Error: 'students.csv' not found. Please make sure the file is in the same directory.\")\n",
    "    exit()\n",
    "\n",
    "print(\"Original DataFrame:\")\n",
    "print(df)\n",
    "print(\"-\" * 50)\n",
    "\n",
    "# --- 1. Check Accuracy ---\n",
    "\n",
    "# --- Verify Numerical Data Accuracy ---\n",
    "print(\"\\n--- 1.1. Verify Numerical Data Accuracy (Grade) ---\")\n",
    "# Assuming 'Grade' should be a numerical value within a reasonable range (e.g., 0-100)\n",
    "df['grade_numerical'] = pd.to_numeric(df['Grade'], errors='coerce').notna()\n",
    "print(\"Is 'Grade' numerical:\")\n",
    "print(df[['Grade', 'grade_numerical']])\n",
    "\n",
    "grade_min = 0\n",
    "grade_max = 100\n",
    "df['grade_within_range'] = df['Grade'].apply(lambda x: grade_min <= pd.to_numeric(x, errors='coerce') <= grade_max if pd.notna(pd.to_numeric(x, errors='coerce')) else False)\n",
    "print(f\"\\nIs 'Grade' within the range [{grade_min}, {grade_max}]:\")\n",
    "print(df[['Grade', 'grade_within_range']])\n",
    "print(\"-\" * 50)\n",
    "\n",
    "# --- Validate Email Format ---\n",
    "print(\"\\n--- 1.2. Validate Email Format ---\")\n",
    "def is_valid_email(email):\n",
    "    if isinstance(email, str):\n",
    "        pattern = r\"^[a-zA-Z0-9._%+-]+@[a-zA-Z0-9.-]+\\.[a-zA-Z]{2,}$\"\n",
    "        return re.match(pattern, email) is not None\n",
    "    return False\n",
    "\n",
    "df['email_valid_format'] = df['Email'].apply(is_valid_email)\n",
    "print(\"Is 'Email' valid format:\")\n",
    "print(df[['Email', 'email_valid_format']])\n",
    "print(\"-\" * 50)\n",
    "\n",
    "# --- Integer Accuracy Check for Age ---\n",
    "print(\"\\n--- 1.3. Integer Accuracy Check for Age ---\")\n",
    "df['age_is_integer'] = df['Age'].apply(lambda x: isinstance(x, int))\n",
    "print(\"Is 'Age' an integer:\")\n",
    "print(df[['Age', 'age_is_integer']])\n",
    "\n",
    "# Optional: Check for logical age range (e.g., 5-100 for students)\n",
    "age_min = 5\n",
    "age_max = 100\n",
    "df['age_logical'] = df['Age'].apply(lambda x: age_min <= x <= age_max if isinstance(x, int) else False)\n",
    "print(f\"\\nIs 'Age' within the logical range [{age_min}, {age_max}]:\")\n",
    "print(df[['Age', 'age_logical']])\n",
    "print(\"-\" * 50)\n",
    "\n",
    "# --- 2. Check Completeness ---\n",
    "\n",
    "# --- Identify Missing Values ---\n",
    "print(\"\\n--- 2.1. Identify Missing Values ---\")\n",
    "missing_values = df.isnull().sum()\n",
    "print(\"Number of missing values per column:\")\n",
    "print(missing_values)\n",
    "print(\"-\" * 50)\n",
    "\n",
    "# --- Rows with Missing Data ---\n",
    "print(\"\\n--- 2.2. Rows with Missing Data ---\")\n",
    "rows_with_missing = df[df.isnull().any(axis=1)]\n",
    "print(\"Rows containing at least one missing value:\")\n",
    "print(rows_with_missing)\n",
    "print(\"-\" * 50)\n",
    "\n",
    "# --- Column Specific Missing Value Check ---\n",
    "print(\"\\n--- 2.3. Column Specific Missing Value Check ---\")\n",
    "column_to_check = 'Email'\n",
    "missing_in_email = df[df[column_to_check].isnull()]\n",
    "print(f\"Rows where '{column_to_check}' is missing:\")\n",
    "print(missing_in_email)\n",
    "print(\"-\" * 50)"
   ]
  }
 ],
 "metadata": {
  "kernelspec": {
   "display_name": ".venv",
   "language": "python",
   "name": "python3"
  },
  "language_info": {
   "codemirror_mode": {
    "name": "ipython",
    "version": 3
   },
   "file_extension": ".py",
   "mimetype": "text/x-python",
   "name": "python",
   "nbconvert_exporter": "python",
   "pygments_lexer": "ipython3",
   "version": "3.10.12"
  }
 },
 "nbformat": 4,
 "nbformat_minor": 2
}
