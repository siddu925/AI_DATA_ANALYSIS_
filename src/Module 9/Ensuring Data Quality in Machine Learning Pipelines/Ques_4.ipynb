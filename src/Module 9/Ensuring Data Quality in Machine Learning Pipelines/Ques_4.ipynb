{
 "cells": [
  {
   "cell_type": "markdown",
   "metadata": {},
   "source": [
    "### Detecting & Handling Imbalanced Data: Visualizing Class Imbalance\n",
    "**Question**: Load the Credit Card Fraud Detection dataset and visualize the class imbalance. Then apply random undersampling to balance it."
   ]
  },
  {
   "cell_type": "code",
   "execution_count": null,
   "metadata": {},
   "outputs": [
    {
     "name": "stdout",
     "output_type": "stream",
     "text": [
      "Error: creditcard.csv not found. Please make sure the file is in the correct directory.\n",
      "--- Visualizing Class Imbalance ---\n"
     ]
    },
    {
     "ename": "NameError",
     "evalue": "name 'df' is not defined",
     "output_type": "error",
     "traceback": [
      "\u001b[0;31m---------------------------------------------------------------------------\u001b[0m",
      "\u001b[0;31mNameError\u001b[0m                                 Traceback (most recent call last)",
      "Cell \u001b[0;32mIn[1], line 17\u001b[0m\n\u001b[1;32m     14\u001b[0m \u001b[38;5;28mprint\u001b[39m(\u001b[38;5;124m\"\u001b[39m\u001b[38;5;124m--- Visualizing Class Imbalance ---\u001b[39m\u001b[38;5;124m\"\u001b[39m)\n\u001b[1;32m     16\u001b[0m \u001b[38;5;66;03m# Count the number of instances for each class\u001b[39;00m\n\u001b[0;32m---> 17\u001b[0m class_counts \u001b[38;5;241m=\u001b[39m \u001b[43mdf\u001b[49m[\u001b[38;5;124m'\u001b[39m\u001b[38;5;124mClass\u001b[39m\u001b[38;5;124m'\u001b[39m]\u001b[38;5;241m.\u001b[39mvalue_counts()\n\u001b[1;32m     18\u001b[0m \u001b[38;5;28mprint\u001b[39m(\u001b[38;5;124m\"\u001b[39m\u001b[38;5;124mClass distribution:\u001b[39m\u001b[38;5;130;01m\\n\u001b[39;00m\u001b[38;5;124m\"\u001b[39m, class_counts)\n\u001b[1;32m     20\u001b[0m \u001b[38;5;66;03m# Visualize the class distribution using a bar chart\u001b[39;00m\n",
      "\u001b[0;31mNameError\u001b[0m: name 'df' is not defined"
     ]
    },
    {
     "ename": "",
     "evalue": "",
     "output_type": "error",
     "traceback": [
      "\u001b[1;31mThe Kernel crashed while executing code in the current cell or a previous cell. \n",
      "\u001b[1;31mPlease review the code in the cell(s) to identify a possible cause of the failure. \n",
      "\u001b[1;31mClick <a href='https://aka.ms/vscodeJupyterKernelCrash'>here</a> for more info. \n",
      "\u001b[1;31mView Jupyter <a href='command:jupyter.viewOutput'>log</a> for further details."
     ]
    }
   ],
   "source": [
    "import pandas as pd\n",
    "import matplotlib.pyplot as plt\n",
    "import seaborn as sns\n",
    "\n",
    "# Load the Credit Card Fraud Detection dataset\n",
    "try:\n",
    "    df = pd.read_csv('creditcard.csv')  # Replace 'creditcard.csv' with the actual path if needed\n",
    "    print(\"Credit Card Fraud Detection dataset loaded successfully.\\n\")\n",
    "except FileNotFoundError:\n",
    "    print(\"Error: creditcard.csv not found. Please make sure the file is in the correct directory.\")\n",
    "    exit()\n",
    "\n",
    "# --- Step 1: Visualize Class Imbalance ---\n",
    "print(\"--- Visualizing Class Imbalance ---\")\n",
    "\n",
    "# Count the number of instances for each class\n",
    "class_counts = df['Class'].value_counts()\n",
    "print(\"Class distribution:\\n\", class_counts)\n",
    "\n",
    "# Visualize the class distribution using a bar chart\n",
    "plt.figure(figsize=(8, 6))\n",
    "sns.barplot(x=class_counts.index, y=class_counts.values)\n",
    "plt.title('Class Distribution in Credit Card Fraud Detection Dataset')\n",
    "plt.xlabel('Class (0: Not Fraud, 1: Fraud)')\n",
    "plt.ylabel('Number of Transactions')\n",
    "plt.show()\n",
    "\n",
    "# Calculate the percentage of each class\n",
    "total_transactions = len(df)\n",
    "fraud_percentage = (class_counts[1] / total_transactions) * 100\n",
    "non_fraud_percentage = (class_counts[0] / total_transactions) * 100\n",
    "print(f\"\\nPercentage of Fraudulent Transactions: {fraud_percentage:.2f}%\")\n",
    "print(f\"Percentage of Non-Fraudulent Transactions: {non_fraud_percentage:.2f}%\")\n",
    "\n",
    "# --- Step 2: Apply Random Undersampling to Balance Data ---\n",
    "print(\"\\n--- Applying Random Undersampling ---\")\n",
    "\n",
    "# Separate the majority class (non-fraud) and the minority class (fraud)\n",
    "fraud_df = df[df['Class'] == 1]\n",
    "non_fraud_df = df[df['Class'] == 0]\n",
    "\n",
    "# Number of fraud samples\n",
    "num_fraud = len(fraud_df)\n",
    "print(f\"Number of fraud transactions: {num_fraud}\")\n",
    "\n",
    "# Randomly select an equal number of non-fraud samples\n",
    "undersampled_non_fraud = non_fraud_df.sample(n=num_fraud, random_state=42)\n",
    "\n",
    "# Concatenate the undersampled non-fraud samples with all fraud samples\n",
    "undersampled_df = pd.concat([undersampled_non_fraud, fraud_df])\n",
    "\n",
    "# Shuffle the undersampled dataset\n",
    "undersampled_df = undersampled_df.sample(frac=1, random_state=42).reset_index(drop=True)\n",
    "\n",
    "# --- Step 3: Visualize the Balanced Class Distribution ---\n",
    "print(\"\\n--- Visualizing Balanced Class Distribution After Undersampling ---\")\n",
    "\n",
    "# Count the number of instances for each class in the undersampled dataset\n",
    "undersampled_class_counts = undersampled_df['Class'].value_counts()\n",
    "print(\"Class distribution after undersampling:\\n\", undersampled_class_counts)\n",
    "\n",
    "# Visualize the class distribution of the undersampled data\n",
    "plt.figure(figsize=(8, 6))\n",
    "sns.barplot(x=undersampled_class_counts.index, y=undersampled_class_counts.values)\n",
    "plt.title('Class Distribution After Random Undersampling')\n",
    "plt.xlabel('Class (0: Not Fraud, 1: Fraud)')\n",
    "plt.ylabel('Number of Transactions')\n",
    "plt.show()\n",
    "\n",
    "# Calculate the percentage of each class in the undersampled data\n",
    "total_undersampled = len(undersampled_df)\n",
    "undersampled_fraud_percentage = (undersampled_class_counts[1] / total_undersampled) * 100\n",
    "undersampled_non_fraud_percentage = (undersampled_class_counts[0] / total_undersampled) * 100\n",
    "print(f\"\\nPercentage of Fraudulent Transactions (Undersampled): {undersampled_fraud_percentage:.2f}%\")\n",
    "print(f\"Percentage of Non-Fraudulent Transactions (Undersampled): {undersampled_non_fraud_percentage:.2f}%\")\n",
    "\n",
    "print(\"\\nClass imbalance visualized and random undersampling applied.\")"
   ]
  }
 ],
 "metadata": {
  "kernelspec": {
   "display_name": ".venv",
   "language": "python",
   "name": "python3"
  },
  "language_info": {
   "codemirror_mode": {
    "name": "ipython",
    "version": 3
   },
   "file_extension": ".py",
   "mimetype": "text/x-python",
   "name": "python",
   "nbconvert_exporter": "python",
   "pygments_lexer": "ipython3",
   "version": "3.10.12"
  }
 },
 "nbformat": 4,
 "nbformat_minor": 2
}
