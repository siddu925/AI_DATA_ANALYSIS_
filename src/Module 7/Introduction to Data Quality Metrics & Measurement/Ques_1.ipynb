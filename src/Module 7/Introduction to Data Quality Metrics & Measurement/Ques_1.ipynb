{
 "cells": [
  {
   "cell_type": "markdown",
   "metadata": {},
   "source": [
    "## Data Quality Dashboard in Python\n",
    "\n",
    "**Description**: Create a basic dashboard using a Python library (e.g., Plotly Dash) to visualize data quality metrics for a given dataset."
   ]
  },
  {
   "cell_type": "code",
   "execution_count": 5,
   "metadata": {},
   "outputs": [
    {
     "name": "stdout",
     "output_type": "stream",
     "text": [
      "Requirement already satisfied: pandas in /workspaces/AI_DATA_ANALYSIS_/.venv/lib/python3.10/site-packages (2.1.4)\n",
      "Requirement already satisfied: dash in /workspaces/AI_DATA_ANALYSIS_/.venv/lib/python3.10/site-packages (3.0.4)\n",
      "Requirement already satisfied: numpy<2,>=1.22.4 in /workspaces/AI_DATA_ANALYSIS_/.venv/lib/python3.10/site-packages (from pandas) (1.26.4)\n",
      "Requirement already satisfied: python-dateutil>=2.8.2 in /workspaces/AI_DATA_ANALYSIS_/.venv/lib/python3.10/site-packages (from pandas) (2.9.0.post0)\n",
      "Requirement already satisfied: pytz>=2020.1 in /workspaces/AI_DATA_ANALYSIS_/.venv/lib/python3.10/site-packages (from pandas) (2025.2)\n",
      "Requirement already satisfied: tzdata>=2022.1 in /workspaces/AI_DATA_ANALYSIS_/.venv/lib/python3.10/site-packages (from pandas) (2025.2)\n",
      "Requirement already satisfied: Flask<3.1,>=1.0.4 in /workspaces/AI_DATA_ANALYSIS_/.venv/lib/python3.10/site-packages (from dash) (3.0.3)\n",
      "Requirement already satisfied: Werkzeug<3.1 in /workspaces/AI_DATA_ANALYSIS_/.venv/lib/python3.10/site-packages (from dash) (3.0.6)\n",
      "Requirement already satisfied: plotly>=5.0.0 in /workspaces/AI_DATA_ANALYSIS_/.venv/lib/python3.10/site-packages (from dash) (6.1.0)\n",
      "Requirement already satisfied: importlib-metadata in /workspaces/AI_DATA_ANALYSIS_/.venv/lib/python3.10/site-packages (from dash) (8.7.0)\n",
      "Requirement already satisfied: typing-extensions>=4.1.1 in /workspaces/AI_DATA_ANALYSIS_/.venv/lib/python3.10/site-packages (from dash) (4.13.2)\n",
      "Requirement already satisfied: requests in /workspaces/AI_DATA_ANALYSIS_/.venv/lib/python3.10/site-packages (from dash) (2.32.3)\n",
      "Requirement already satisfied: retrying in /workspaces/AI_DATA_ANALYSIS_/.venv/lib/python3.10/site-packages (from dash) (1.3.4)\n",
      "Requirement already satisfied: nest-asyncio in /workspaces/AI_DATA_ANALYSIS_/.venv/lib/python3.10/site-packages (from dash) (1.6.0)\n",
      "Requirement already satisfied: setuptools in /workspaces/AI_DATA_ANALYSIS_/.venv/lib/python3.10/site-packages (from dash) (65.5.0)\n",
      "Requirement already satisfied: Jinja2>=3.1.2 in /workspaces/AI_DATA_ANALYSIS_/.venv/lib/python3.10/site-packages (from Flask<3.1,>=1.0.4->dash) (3.1.6)\n",
      "Requirement already satisfied: itsdangerous>=2.1.2 in /workspaces/AI_DATA_ANALYSIS_/.venv/lib/python3.10/site-packages (from Flask<3.1,>=1.0.4->dash) (2.2.0)\n",
      "Requirement already satisfied: click>=8.1.3 in /workspaces/AI_DATA_ANALYSIS_/.venv/lib/python3.10/site-packages (from Flask<3.1,>=1.0.4->dash) (8.2.0)\n",
      "Requirement already satisfied: blinker>=1.6.2 in /workspaces/AI_DATA_ANALYSIS_/.venv/lib/python3.10/site-packages (from Flask<3.1,>=1.0.4->dash) (1.9.0)\n",
      "Requirement already satisfied: MarkupSafe>=2.1.1 in /workspaces/AI_DATA_ANALYSIS_/.venv/lib/python3.10/site-packages (from Werkzeug<3.1->dash) (3.0.2)\n",
      "Requirement already satisfied: narwhals>=1.15.1 in /workspaces/AI_DATA_ANALYSIS_/.venv/lib/python3.10/site-packages (from plotly>=5.0.0->dash) (1.39.1)\n",
      "Requirement already satisfied: packaging in /workspaces/AI_DATA_ANALYSIS_/.venv/lib/python3.10/site-packages (from plotly>=5.0.0->dash) (25.0)\n",
      "Requirement already satisfied: six>=1.5 in /workspaces/AI_DATA_ANALYSIS_/.venv/lib/python3.10/site-packages (from python-dateutil>=2.8.2->pandas) (1.17.0)\n",
      "Requirement already satisfied: zipp>=3.20 in /workspaces/AI_DATA_ANALYSIS_/.venv/lib/python3.10/site-packages (from importlib-metadata->dash) (3.21.0)\n",
      "Requirement already satisfied: charset-normalizer<4,>=2 in /workspaces/AI_DATA_ANALYSIS_/.venv/lib/python3.10/site-packages (from requests->dash) (3.4.2)\n",
      "Requirement already satisfied: idna<4,>=2.5 in /workspaces/AI_DATA_ANALYSIS_/.venv/lib/python3.10/site-packages (from requests->dash) (3.10)\n",
      "Requirement already satisfied: urllib3<3,>=1.21.1 in /workspaces/AI_DATA_ANALYSIS_/.venv/lib/python3.10/site-packages (from requests->dash) (2.4.0)\n",
      "Requirement already satisfied: certifi>=2017.4.17 in /workspaces/AI_DATA_ANALYSIS_/.venv/lib/python3.10/site-packages (from requests->dash) (2025.4.26)\n",
      "Note: you may need to restart the kernel to use updated packages.\n"
     ]
    }
   ],
   "source": [
    "pip install pandas dash"
   ]
  },
  {
   "cell_type": "code",
   "execution_count": 6,
   "metadata": {},
   "outputs": [],
   "source": [
    "import pandas as pd\n",
    "import numpy as np\n",
    "\n",
    "data = {\n",
    "    'ID': range(1, 11),\n",
    "    'Name': ['Alice', 'Bob', 'Charlie', 'David', 'Eve', 'Frank', 'Grace', 'Heidi', 'Ivan', 'Judy'],\n",
    "    'Age': [25, 30, np.nan, 40, 28, 35, np.nan, 22, 31, 27],\n",
    "    'Income': [50000, 60000, 45000, 70000, np.nan, 55000, 62000, 48000, 68000, 52000],\n",
    "    'City': ['Bangalore', 'Mumbai', 'Chennai', 'Bangalore', 'Delhi', 'Mumbai', 'Chennai', np.nan, 'Delhi', 'Bangalore'],\n",
    "    'Score': [0.85, 0.92, 0.78, 0.88, 0.95, 0.80, 0.90, 0.75, np.nan, 0.82]\n",
    "}\n",
    "df = pd.DataFrame(data)"
   ]
  },
  {
   "cell_type": "code",
   "execution_count": 7,
   "metadata": {},
   "outputs": [
    {
     "ename": "ObsoleteAttributeException",
     "evalue": "app.run_server has been replaced by app.run",
     "output_type": "error",
     "traceback": [
      "\u001b[0;31m---------------------------------------------------------------------------\u001b[0m",
      "\u001b[0;31mObsoleteAttributeException\u001b[0m                Traceback (most recent call last)",
      "Cell \u001b[0;32mIn[7], line 59\u001b[0m\n\u001b[1;32m     17\u001b[0m app\u001b[38;5;241m.\u001b[39mlayout \u001b[38;5;241m=\u001b[39m html\u001b[38;5;241m.\u001b[39mDiv(children\u001b[38;5;241m=\u001b[39m[\n\u001b[1;32m     18\u001b[0m     html\u001b[38;5;241m.\u001b[39mH1(children\u001b[38;5;241m=\u001b[39m\u001b[38;5;124m'\u001b[39m\u001b[38;5;124mData Quality Dashboard\u001b[39m\u001b[38;5;124m'\u001b[39m),\n\u001b[1;32m     19\u001b[0m \n\u001b[0;32m   (...)\u001b[0m\n\u001b[1;32m     55\u001b[0m     ),\n\u001b[1;32m     56\u001b[0m ])\n\u001b[1;32m     58\u001b[0m \u001b[38;5;28;01mif\u001b[39;00m \u001b[38;5;18m__name__\u001b[39m \u001b[38;5;241m==\u001b[39m \u001b[38;5;124m'\u001b[39m\u001b[38;5;124m__main__\u001b[39m\u001b[38;5;124m'\u001b[39m:\n\u001b[0;32m---> 59\u001b[0m     \u001b[43mapp\u001b[49m\u001b[38;5;241;43m.\u001b[39;49m\u001b[43mrun_server\u001b[49m(debug\u001b[38;5;241m=\u001b[39m\u001b[38;5;28;01mTrue\u001b[39;00m)\n",
      "File \u001b[0;32m/workspaces/AI_DATA_ANALYSIS_/.venv/lib/python3.10/site-packages/dash/_obsolete.py:22\u001b[0m, in \u001b[0;36mObsoleteChecker.__getattr__\u001b[0;34m(self, name)\u001b[0m\n\u001b[1;32m     20\u001b[0m \u001b[38;5;28;01mif\u001b[39;00m name \u001b[38;5;129;01min\u001b[39;00m \u001b[38;5;28mself\u001b[39m\u001b[38;5;241m.\u001b[39m_obsolete_attributes:\n\u001b[1;32m     21\u001b[0m     err \u001b[38;5;241m=\u001b[39m \u001b[38;5;28mself\u001b[39m\u001b[38;5;241m.\u001b[39m_obsolete_attributes[name]\n\u001b[0;32m---> 22\u001b[0m     \u001b[38;5;28;01mraise\u001b[39;00m err\u001b[38;5;241m.\u001b[39mexc(err\u001b[38;5;241m.\u001b[39mmessage)\n\u001b[1;32m     23\u001b[0m \u001b[38;5;28;01mreturn\u001b[39;00m \u001b[38;5;28mgetattr\u001b[39m(\u001b[38;5;28mself\u001b[39m\u001b[38;5;241m.\u001b[39m\u001b[38;5;18m__dict__\u001b[39m, name)\n",
      "\u001b[0;31mObsoleteAttributeException\u001b[0m: app.run_server has been replaced by app.run"
     ]
    }
   ],
   "source": [
    "from dash import Dash, dcc, html\n",
    "from dash.dependencies import Input, Output\n",
    "import plotly.express as px\n",
    "\n",
    "app = Dash(__name__)\n",
    "\n",
    "def calculate_data_quality(df):\n",
    "    \"\"\"Calculates data quality metrics.\"\"\"\n",
    "    total_rows = len(df)\n",
    "    missing_percentage = (df.isnull().sum() / total_rows) * 100\n",
    "    data_types = df.dtypes.astype(str)\n",
    "    unique_counts = df.nunique()\n",
    "    return missing_percentage, data_types, unique_counts\n",
    "\n",
    "missing_percentage, data_types, unique_counts = calculate_data_quality(df)\n",
    "\n",
    "app.layout = html.Div(children=[\n",
    "    html.H1(children='Data Quality Dashboard'),\n",
    "\n",
    "    html.Div(children='''\n",
    "        A basic dashboard to visualize data quality metrics.\n",
    "    '''),\n",
    "\n",
    "    # Missing Value Percentage Bar Chart\n",
    "    dcc.Graph(\n",
    "        id='missing-value-chart',\n",
    "        figure=px.bar(\n",
    "            x=missing_percentage.index,\n",
    "            y=missing_percentage.values,\n",
    "            labels={'y': 'Missing Percentage', 'index': 'Column'},\n",
    "            title='Missing Value Percentage per Column'\n",
    "        )\n",
    "    ),\n",
    "\n",
    "    # Data Type Table\n",
    "    html.Div([\n",
    "        html.H3(\"Data Types per Column\"),\n",
    "        html.Table(\n",
    "            # Header\n",
    "            [html.Tr([html.Th(col) for col in ['Column', 'Data Type']])] +\n",
    "            # Body\n",
    "            [html.Tr([html.Td(col), html.Td(data_types[col])]) for col in data_types.index]\n",
    "        )\n",
    "    ], style={'margin-top': '20px'}),\n",
    "\n",
    "    # Unique Value Count Bar Chart\n",
    "    dcc.Graph(\n",
    "        id='unique-value-chart',\n",
    "        figure=px.bar(\n",
    "            x=unique_counts.index,\n",
    "            y=unique_counts.values,\n",
    "            labels={'y': 'Number of Unique Values', 'index': 'Column'},\n",
    "            title='Number of Unique Values per Column'\n",
    "        )\n",
    "    ),\n",
    "])\n",
    "\n",
    "if __name__ == '__main__':\n",
    "    app.run_server(debug=True)"
   ]
  },
  {
   "cell_type": "code",
   "execution_count": null,
   "metadata": {},
   "outputs": [],
   "source": [
    "python data_quality_dashboard.py"
   ]
  }
 ],
 "metadata": {
  "kernelspec": {
   "display_name": ".venv",
   "language": "python",
   "name": "python3"
  },
  "language_info": {
   "codemirror_mode": {
    "name": "ipython",
    "version": 3
   },
   "file_extension": ".py",
   "mimetype": "text/x-python",
   "name": "python",
   "nbconvert_exporter": "python",
   "pygments_lexer": "ipython3",
   "version": "3.10.12"
  }
 },
 "nbformat": 4,
 "nbformat_minor": 2
}
