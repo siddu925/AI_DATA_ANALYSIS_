{
 "cells": [
  {
   "cell_type": "markdown",
   "metadata": {},
   "source": [
    "### Garbage In, Garbage Out (GIGO): Cleaning Missing Data\n",
    "**Description**: Load a dataset (e.g., Titanic dataset) and identify missing values. Use\n",
    "appropriate techniques to handle these missing values."
   ]
  },
  {
   "cell_type": "code",
   "execution_count": null,
   "metadata": {},
   "outputs": [
    {
     "name": "stdout",
     "output_type": "stream",
     "text": [
      "Error: titanic.csv not found. Please make sure the file is in the correct directory.\n",
      "--- Identifying Missing Values ---\n"
     ]
    },
    {
     "ename": "NameError",
     "evalue": "name 'df' is not defined",
     "output_type": "error",
     "traceback": [
      "\u001b[0;31m---------------------------------------------------------------------------\u001b[0m",
      "\u001b[0;31mNameError\u001b[0m                                 Traceback (most recent call last)",
      "Cell \u001b[0;32mIn[1], line 16\u001b[0m\n\u001b[1;32m     14\u001b[0m \u001b[38;5;66;03m# --- Step 1: Identify Missing Values ---\u001b[39;00m\n\u001b[1;32m     15\u001b[0m \u001b[38;5;28mprint\u001b[39m(\u001b[38;5;124m\"\u001b[39m\u001b[38;5;124m--- Identifying Missing Values ---\u001b[39m\u001b[38;5;124m\"\u001b[39m)\n\u001b[0;32m---> 16\u001b[0m missing_data \u001b[38;5;241m=\u001b[39m \u001b[43mdf\u001b[49m\u001b[38;5;241m.\u001b[39misnull()\u001b[38;5;241m.\u001b[39msum()\n\u001b[1;32m     17\u001b[0m \u001b[38;5;28mprint\u001b[39m(\u001b[38;5;124m\"\u001b[39m\u001b[38;5;124mNumber of missing values per column:\u001b[39m\u001b[38;5;124m\"\u001b[39m)\n\u001b[1;32m     18\u001b[0m \u001b[38;5;28mprint\u001b[39m(missing_data[missing_data \u001b[38;5;241m>\u001b[39m \u001b[38;5;241m0\u001b[39m])\n",
      "\u001b[0;31mNameError\u001b[0m: name 'df' is not defined"
     ]
    },
    {
     "ename": "",
     "evalue": "",
     "output_type": "error",
     "traceback": [
      "\u001b[1;31mThe Kernel crashed while executing code in the current cell or a previous cell. \n",
      "\u001b[1;31mPlease review the code in the cell(s) to identify a possible cause of the failure. \n",
      "\u001b[1;31mClick <a href='https://aka.ms/vscodeJupyterKernelCrash'>here</a> for more info. \n",
      "\u001b[1;31mView Jupyter <a href='command:jupyter.viewOutput'>log</a> for further details."
     ]
    }
   ],
   "source": [
    "import pandas as pd\n",
    "import numpy as np\n",
    "import matplotlib.pyplot as plt\n",
    "import seaborn as sns\n",
    "\n",
    "# Load the Titanic dataset\n",
    "try:\n",
    "    df = pd.read_csv('titanic.csv')  # Replace 'titanic.csv' with the actual path if needed\n",
    "    print(\"Titanic dataset loaded successfully.\\n\")\n",
    "except FileNotFoundError:\n",
    "    print(\"Error: titanic.csv not found. Please make sure the file is in the correct directory.\")\n",
    "    exit()\n",
    "\n",
    "# --- Step 1: Identify Missing Values ---\n",
    "print(\"--- Identifying Missing Values ---\")\n",
    "missing_data = df.isnull().sum()\n",
    "print(\"Number of missing values per column:\")\n",
    "print(missing_data[missing_data > 0])\n",
    "print(f\"\\nTotal number of rows in the dataset: {len(df)}\")\n",
    "\n",
    "# Visualize missing values\n",
    "plt.figure(figsize=(10, 6))\n",
    "sns.heatmap(df.isnull(), cbar=False, cmap='viridis')\n",
    "plt.title('Missing Values Heatmap')\n",
    "plt.show()\n",
    "\n",
    "print(\"\\nData types of columns:\")\n",
    "print(df.dtypes)\n",
    "\n",
    "# --- Step 2: Handle Missing Values ---\n",
    "print(\"\\n--- Handling Missing Values ---\")\n",
    "\n",
    "# --- Handling 'Age' ---\n",
    "print(\"\\nHandling 'Age' column:\")\n",
    "# 'Age' is a numerical column. Let's consider imputation with the mean or median.\n",
    "# Check the distribution of 'Age' to decide.\n",
    "plt.figure(figsize=(8, 6))\n",
    "sns.histplot(df['Age'].dropna(), kde=True)\n",
    "plt.title('Distribution of Age')\n",
    "plt.xlabel('Age')\n",
    "plt.ylabel('Frequency')\n",
    "plt.show()\n",
    "\n",
    "# The distribution looks somewhat skewed, so the median might be a better choice than the mean.\n",
    "median_age = df['Age'].median()\n",
    "df['Age'].fillna(median_age, inplace=True)\n",
    "print(f\"Missing 'Age' values filled with the median: {median_age}\")\n",
    "\n",
    "# --- Handling 'Cabin' ---\n",
    "print(\"\\nHandling 'Cabin' column:\")\n",
    "# 'Cabin' has a lot of missing values. Imputation might not be meaningful.\n",
    "# We can either drop the column or try to extract some information (e.g., the first letter).\n",
    "print(f\"Percentage of missing 'Cabin' values: {(df['Cabin'].isnull().sum() / len(df)) * 100:.2f}%\")\n",
    "\n",
    "# Let's try extracting the first letter of the cabin as a potential feature.\n",
    "df['Cabin_Initial'] = df['Cabin'].str[0]\n",
    "print(\"\\nNew 'Cabin_Initial' column:\")\n",
    "print(df['Cabin_Initial'].value_counts(dropna=False))\n",
    "\n",
    "# Now handle missing values in 'Cabin_Initial' (if any after extraction, though there shouldn't be if original was NaN)\n",
    "df['Cabin_Initial'].fillna('Unknown', inplace=True)\n",
    "print(\"\\n'Cabin_Initial' value counts after handling missing values:\")\n",
    "print(df['Cabin_Initial'].value_counts())\n",
    "\n",
    "# We might choose to drop the original 'Cabin' column later.\n",
    "\n",
    "# --- Handling 'Embarked' ---\n",
    "print(\"\\nHandling 'Embarked' column:\")\n",
    "# 'Embarked' is a categorical column with a few missing values.\n",
    "print(f\"Number of missing 'Embarked' values: {df['Embarked'].isnull().sum()}\")\n",
    "print(\"Value counts of 'Embarked' before imputation:\")\n",
    "print(df['Embarked'].value_counts(dropna=False))\n",
    "\n",
    "# Impute with the mode (most frequent value).\n",
    "mode_embarked = df['Embarked'].mode()[0]\n",
    "df['Embarked'].fillna(mode_embarked, inplace=True)\n",
    "print(f\"Missing 'Embarked' values filled with the mode: {mode_embarked}\")\n",
    "print(\"Value counts of 'Embarked' after imputation:\")\n",
    "print(df['Embarked'].value_counts(dropna=False))\n",
    "\n",
    "# --- Handling 'Fare' (checking for any missing values) ---\n",
    "print(\"\\nHandling 'Fare' column:\")\n",
    "print(f\"Number of missing 'Fare' values: {df['Fare'].isnull().sum()}\")\n",
    "# No missing values found in 'Fare' in this dataset, but if there were,\n",
    "# we could use mean/median imputation as it's numerical.\n",
    "\n",
    "# --- Check Missing Values After Handling ---\n",
    "print(\"\\n--- Missing Values After Handling ---\")\n",
    "final_missing_data = df.isnull().sum()\n",
    "print(\"Number of missing values per column after handling:\")\n",
    "print(final_missing_data[final_missing_data > 0])\n",
    "\n",
    "# Visualize missing values after handling\n",
    "plt.figure(figsize=(10, 6))\n",
    "sns.heatmap(df.isnull(), cbar=False, cmap='viridis')\n",
    "plt.title('Missing Values Heatmap After Handling')\n",
    "plt.show()\n",
    "\n",
    "print(\"\\nCleaned DataFrame Information:\")\n",
    "df.info()\n",
    "\n",
    "# Optional: Drop the original 'Cabin' column if 'Cabin_Initial' is deemed sufficient\n",
    "# df.drop('Cabin', axis=1, inplace=True)\n",
    "# print(\"\\nDataFrame after dropping 'Cabin' column:\")\n",
    "# df.info()"
   ]
  }
 ],
 "metadata": {
  "kernelspec": {
   "display_name": ".venv",
   "language": "python",
   "name": "python3"
  },
  "language_info": {
   "codemirror_mode": {
    "name": "ipython",
    "version": 3
   },
   "file_extension": ".py",
   "mimetype": "text/x-python",
   "name": "python",
   "nbconvert_exporter": "python",
   "pygments_lexer": "ipython3",
   "version": "3.10.12"
  }
 },
 "nbformat": 4,
 "nbformat_minor": 2
}
