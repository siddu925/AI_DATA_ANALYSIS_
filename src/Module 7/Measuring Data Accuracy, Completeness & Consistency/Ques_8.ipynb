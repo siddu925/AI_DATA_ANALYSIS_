{
 "cells": [
  {
   "cell_type": "markdown",
   "metadata": {},
   "source": [
    "# Measuring Data Accuracy\n",
    "\n",
    "**Activity Overview**: Assess data accuracy by comparing it to a trusted source and detecting incorrect values or mismatches.\n",
    "\n",
    "## Title: Product Pricing\n",
    "\n",
    "**Task**: Compare a dataset of product prices with the latest official price list.\n",
    "\n",
    "**Steps**:\n",
    "1. Obtain the latest product price list from the official company website.\n",
    "2. Compare the dataset's product prices against the verified list.\n",
    "3. Identify any discrepancies and mark them for correction."
   ]
  },
  {
   "cell_type": "code",
   "execution_count": 1,
   "metadata": {},
   "outputs": [
    {
     "name": "stdout",
     "output_type": "stream",
     "text": [
      "\n",
      "--- Product Pricing Discrepancy Check ---\n",
      "Error: One or both of the CSV files were not found: [Errno 2] No such file or directory: 'product_prices.csv'\n"
     ]
    }
   ],
   "source": [
    "# Write your code from here\n",
    "import pandas as pd\n",
    "\n",
    "print(\"\\n--- Product Pricing Discrepancy Check ---\")\n",
    "\n",
    "# --- Configuration ---\n",
    "DATASET_PATH = 'product_prices.csv'      # Path to your dataset of product prices\n",
    "OFFICIAL_PRICES_PATH = 'official_prices.csv' # Path to the official price list\n",
    "PRODUCT_ID_COLUMN = 'product_id'        # Common column to identify products\n",
    "PRICE_COLUMN_DATASET = 'price'           # Price column in your dataset\n",
    "PRICE_COLUMN_OFFICIAL = 'official_price' # Price column in the official list\n",
    "\n",
    "try:\n",
    "    # Load the datasets\n",
    "    product_prices = pd.read_csv(DATASET_PATH)\n",
    "    official_prices = pd.read_csv(OFFICIAL_PRICES_PATH)\n",
    "\n",
    "    # Merge the two datasets on the product ID\n",
    "    merged_df = pd.merge(product_prices, official_prices, on=PRODUCT_ID_COLUMN, suffixes=('_current', '_official'))\n",
    "\n",
    "    # Identify discrepancies in price\n",
    "    price_discrepancies = merged_df[merged_df[PRICE_COLUMN_DATASET] != merged_df[PRICE_COLUMN_OFFICIAL]]\n",
    "\n",
    "    if price_discrepancies.empty:\n",
    "        print(\"No price discrepancies found between the dataset and the official price list.\")\n",
    "    else:\n",
    "        print(\"\\nPrice discrepancies identified:\")\n",
    "        print(price_discrepancies[[PRODUCT_ID_COLUMN, PRICE_COLUMN_DATASET, PRICE_COLUMN_OFFICIAL]])\n",
    "        print(\"\\nConsider these discrepancies for correction.\")\n",
    "\n",
    "except FileNotFoundError as e:\n",
    "    print(f\"Error: One or both of the CSV files were not found: {e}\")\n",
    "except KeyError as e:\n",
    "    print(f\"Error: One or more of the specified column names were not found in the CSV files. Please check: {PRODUCT_ID_COLUMN}, {PRICE_COLUMN_DATASET}, {PRICE_COLUMN_OFFICIAL}\")\n",
    "except Exception as e:\n",
    "    print(f\"An unexpected error occurred: {e}\")"
   ]
  }
 ],
 "metadata": {
  "kernelspec": {
   "display_name": ".venv",
   "language": "python",
   "name": "python3"
  },
  "language_info": {
   "codemirror_mode": {
    "name": "ipython",
    "version": 3
   },
   "file_extension": ".py",
   "mimetype": "text/x-python",
   "name": "python",
   "nbconvert_exporter": "python",
   "pygments_lexer": "ipython3",
   "version": "3.10.12"
  }
 },
 "nbformat": 4,
 "nbformat_minor": 2
}
